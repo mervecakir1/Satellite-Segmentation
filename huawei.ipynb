{
  "cells": [
    {
      "cell_type": "markdown",
      "metadata": {
        "id": "view-in-github",
        "colab_type": "text"
      },
      "source": [
        "<a href=\"https://colab.research.google.com/github/mervecakir1/Satellite-Segmentation/blob/main/huawei.ipynb\" target=\"_parent\"><img src=\"https://colab.research.google.com/assets/colab-badge.svg\" alt=\"Open In Colab\"/></a>"
      ]
    },
    {
      "cell_type": "code",
      "execution_count": null,
      "metadata": {
        "colab": {
          "base_uri": "https://localhost:8080/"
        },
        "id": "70JNPLtRGeqD",
        "outputId": "baf417dd-443d-4d5c-c1cc-dbb69bbb6a8f"
      },
      "outputs": [
        {
          "output_type": "stream",
          "name": "stdout",
          "text": [
            "Torch: 2.8.0+cu126 | TorchVision: 0.23.0+cu126\n",
            "CUDA available: True\n",
            "GPU: NVIDIA L4\n"
          ]
        }
      ],
      "source": [
        "import torch, torchvision\n",
        "print(\"Torch:\", torch.__version__, \"| TorchVision:\", torchvision.__version__)\n",
        "print(\"CUDA available:\", torch.cuda.is_available())\n",
        "if torch.cuda.is_available():\n",
        "    print(\"GPU:\", torch.cuda.get_device_name(0))\n"
      ]
    },
    {
      "cell_type": "code",
      "execution_count": 1,
      "metadata": {
        "id": "2q4JqVetGqaU",
        "colab": {
          "base_uri": "https://localhost:8080/",
          "height": 1000
        },
        "outputId": "eabb44e5-126f-476c-c8c6-764ab4ac2caa"
      },
      "outputs": [
        {
          "output_type": "stream",
          "name": "stdout",
          "text": [
            "Collecting albumentations==1.4.8\n",
            "  Downloading albumentations-1.4.8-py3-none-any.whl.metadata (37 kB)\n",
            "Collecting albucore==0.0.12\n",
            "  Downloading albucore-0.0.12-py3-none-any.whl.metadata (3.1 kB)\n",
            "Collecting opencv-python-headless==4.10.0.84\n",
            "  Downloading opencv_python_headless-4.10.0.84-cp37-abi3-manylinux_2_17_x86_64.manylinux2014_x86_64.whl.metadata (20 kB)\n",
            "Requirement already satisfied: numpy>=1.24.4 in /usr/local/lib/python3.12/dist-packages (from albumentations==1.4.8) (2.0.2)\n",
            "Requirement already satisfied: scipy>=1.10.0 in /usr/local/lib/python3.12/dist-packages (from albumentations==1.4.8) (1.16.1)\n",
            "Requirement already satisfied: scikit-image>=0.21.0 in /usr/local/lib/python3.12/dist-packages (from albumentations==1.4.8) (0.25.2)\n",
            "Requirement already satisfied: PyYAML in /usr/local/lib/python3.12/dist-packages (from albumentations==1.4.8) (6.0.2)\n",
            "Requirement already satisfied: typing-extensions>=4.9.0 in /usr/local/lib/python3.12/dist-packages (from albumentations==1.4.8) (4.14.1)\n",
            "Requirement already satisfied: scikit-learn>=1.3.2 in /usr/local/lib/python3.12/dist-packages (from albumentations==1.4.8) (1.6.1)\n",
            "Requirement already satisfied: pydantic>=2.7.0 in /usr/local/lib/python3.12/dist-packages (from albumentations==1.4.8) (2.11.7)\n",
            "Collecting numpy>=1.24.4 (from albumentations==1.4.8)\n",
            "  Downloading numpy-1.26.4-cp312-cp312-manylinux_2_17_x86_64.manylinux2014_x86_64.whl.metadata (61 kB)\n",
            "\u001b[2K     \u001b[90m━━━━━━━━━━━━━━━━━━━━━━━━━━━━━━━━━━━━━━━\u001b[0m \u001b[32m61.0/61.0 kB\u001b[0m \u001b[31m177.7 MB/s\u001b[0m eta \u001b[36m0:00:00\u001b[0m\n",
            "\u001b[?25hCollecting tomli>=2.0.1 (from albucore==0.0.12)\n",
            "  Downloading tomli-2.2.1-cp312-cp312-manylinux_2_17_x86_64.manylinux2014_x86_64.whl.metadata (11 kB)\n",
            "Requirement already satisfied: annotated-types>=0.6.0 in /usr/local/lib/python3.12/dist-packages (from pydantic>=2.7.0->albumentations==1.4.8) (0.7.0)\n",
            "Requirement already satisfied: pydantic-core==2.33.2 in /usr/local/lib/python3.12/dist-packages (from pydantic>=2.7.0->albumentations==1.4.8) (2.33.2)\n",
            "Requirement already satisfied: typing-inspection>=0.4.0 in /usr/local/lib/python3.12/dist-packages (from pydantic>=2.7.0->albumentations==1.4.8) (0.4.1)\n",
            "Requirement already satisfied: networkx>=3.0 in /usr/local/lib/python3.12/dist-packages (from scikit-image>=0.21.0->albumentations==1.4.8) (3.5)\n",
            "Requirement already satisfied: pillow>=10.1 in /usr/local/lib/python3.12/dist-packages (from scikit-image>=0.21.0->albumentations==1.4.8) (11.3.0)\n",
            "Requirement already satisfied: imageio!=2.35.0,>=2.33 in /usr/local/lib/python3.12/dist-packages (from scikit-image>=0.21.0->albumentations==1.4.8) (2.37.0)\n",
            "Requirement already satisfied: tifffile>=2022.8.12 in /usr/local/lib/python3.12/dist-packages (from scikit-image>=0.21.0->albumentations==1.4.8) (2025.6.11)\n",
            "Requirement already satisfied: packaging>=21 in /usr/local/lib/python3.12/dist-packages (from scikit-image>=0.21.0->albumentations==1.4.8) (25.0)\n",
            "Requirement already satisfied: lazy-loader>=0.4 in /usr/local/lib/python3.12/dist-packages (from scikit-image>=0.21.0->albumentations==1.4.8) (0.4)\n",
            "Requirement already satisfied: joblib>=1.2.0 in /usr/local/lib/python3.12/dist-packages (from scikit-learn>=1.3.2->albumentations==1.4.8) (1.5.1)\n",
            "Requirement already satisfied: threadpoolctl>=3.1.0 in /usr/local/lib/python3.12/dist-packages (from scikit-learn>=1.3.2->albumentations==1.4.8) (3.6.0)\n",
            "Downloading albumentations-1.4.8-py3-none-any.whl (156 kB)\n",
            "\u001b[2K   \u001b[90m━━━━━━━━━━━━━━━━━━━━━━━━━━━━━━━━━━━━━━━\u001b[0m \u001b[32m156.8/156.8 kB\u001b[0m \u001b[31m319.8 MB/s\u001b[0m eta \u001b[36m0:00:00\u001b[0m\n",
            "\u001b[?25hDownloading albucore-0.0.12-py3-none-any.whl (8.4 kB)\n",
            "Downloading opencv_python_headless-4.10.0.84-cp37-abi3-manylinux_2_17_x86_64.manylinux2014_x86_64.whl (49.9 MB)\n",
            "\u001b[2K   \u001b[90m━━━━━━━━━━━━━━━━━━━━━━━━━━━━━━━━━━━━━━━━\u001b[0m \u001b[32m49.9/49.9 MB\u001b[0m \u001b[31m120.4 MB/s\u001b[0m eta \u001b[36m0:00:00\u001b[0m\n",
            "\u001b[?25hDownloading numpy-1.26.4-cp312-cp312-manylinux_2_17_x86_64.manylinux2014_x86_64.whl (18.0 MB)\n",
            "\u001b[2K   \u001b[90m━━━━━━━━━━━━━━━━━━━━━━━━━━━━━━━━━━━━━━━━\u001b[0m \u001b[32m18.0/18.0 MB\u001b[0m \u001b[31m107.5 MB/s\u001b[0m eta \u001b[36m0:00:00\u001b[0m\n",
            "\u001b[?25hDownloading tomli-2.2.1-cp312-cp312-manylinux_2_17_x86_64.manylinux2014_x86_64.whl (242 kB)\n",
            "\u001b[2K   \u001b[90m━━━━━━━━━━━━━━━━━━━━━━━━━━━━━━━━━━━━━━━\u001b[0m \u001b[32m242.3/242.3 kB\u001b[0m \u001b[31m338.9 MB/s\u001b[0m eta \u001b[36m0:00:00\u001b[0m\n",
            "\u001b[?25hInstalling collected packages: tomli, numpy, opencv-python-headless, albucore, albumentations\n",
            "  Attempting uninstall: numpy\n",
            "    Found existing installation: numpy 2.0.2\n",
            "    Uninstalling numpy-2.0.2:\n",
            "      Successfully uninstalled numpy-2.0.2\n",
            "  Attempting uninstall: opencv-python-headless\n",
            "    Found existing installation: opencv-python-headless 4.12.0.88\n",
            "    Uninstalling opencv-python-headless-4.12.0.88:\n",
            "      Successfully uninstalled opencv-python-headless-4.12.0.88\n",
            "  Attempting uninstall: albucore\n",
            "    Found existing installation: albucore 0.0.24\n",
            "    Uninstalling albucore-0.0.24:\n",
            "      Successfully uninstalled albucore-0.0.24\n",
            "  Attempting uninstall: albumentations\n",
            "    Found existing installation: albumentations 2.0.8\n",
            "    Uninstalling albumentations-2.0.8:\n",
            "      Successfully uninstalled albumentations-2.0.8\n",
            "\u001b[31mERROR: pip's dependency resolver does not currently take into account all the packages that are installed. This behaviour is the source of the following dependency conflicts.\n",
            "thinc 8.3.6 requires numpy<3.0.0,>=2.0.0, but you have numpy 1.26.4 which is incompatible.\n",
            "opencv-contrib-python 4.12.0.88 requires numpy<2.3.0,>=2; python_version >= \"3.9\", but you have numpy 1.26.4 which is incompatible.\n",
            "opencv-python 4.12.0.88 requires numpy<2.3.0,>=2; python_version >= \"3.9\", but you have numpy 1.26.4 which is incompatible.\u001b[0m\u001b[31m\n",
            "\u001b[0mSuccessfully installed albucore-0.0.12 albumentations-1.4.8 numpy-1.26.4 opencv-python-headless-4.10.0.84 tomli-2.2.1\n"
          ]
        },
        {
          "output_type": "display_data",
          "data": {
            "application/vnd.colab-display-data+json": {
              "pip_warning": {
                "packages": [
                  "numpy"
                ]
              },
              "id": "9a738456df2c47e581d5a4f1aa0b247c"
            }
          },
          "metadata": {}
        }
      ],
      "source": [
        "!pip install -U albumentations==1.4.8 albucore==0.0.12 opencv-python-headless==4.10.0.84 --no-cache-dir"
      ]
    },
    {
      "cell_type": "code",
      "source": [
        "!pip install -q segmentation-models-pytorch==0.3.3\n",
        "!pip install -q torchmetrics==1.3.2\n"
      ],
      "metadata": {
        "colab": {
          "base_uri": "https://localhost:8080/"
        },
        "id": "mitfGMvAXKcP",
        "outputId": "52da12fb-e9f9-43c6-fe9e-ad1a9732c8dd"
      },
      "execution_count": null,
      "outputs": [
        {
          "output_type": "stream",
          "name": "stdout",
          "text": [
            "\u001b[?25l     \u001b[90m━━━━━━━━━━━━━━━━━━━━━━━━━━━━━━━━━━━━━━━━\u001b[0m \u001b[32m0.0/58.8 kB\u001b[0m \u001b[31m?\u001b[0m eta \u001b[36m-:--:--\u001b[0m\r\u001b[2K     \u001b[90m━━━━━━━━━━━━━━━━━━━━━━━━━━━━━━━━━━━━━━━━\u001b[0m \u001b[32m58.8/58.8 kB\u001b[0m \u001b[31m3.5 MB/s\u001b[0m eta \u001b[36m0:00:00\u001b[0m\n",
            "\u001b[?25h  Preparing metadata (setup.py) ... \u001b[?25l\u001b[?25hdone\n",
            "  Preparing metadata (setup.py) ... \u001b[?25l\u001b[?25hdone\n",
            "\u001b[2K     \u001b[90m━━━━━━━━━━━━━━━━━━━━━━━━━━━━━━━━━━━━━━━━\u001b[0m \u001b[32m68.5/68.5 kB\u001b[0m \u001b[31m7.0 MB/s\u001b[0m eta \u001b[36m0:00:00\u001b[0m\n",
            "\u001b[2K   \u001b[90m━━━━━━━━━━━━━━━━━━━━━━━━━━━━━━━━━━━━━━━━\u001b[0m \u001b[32m106.7/106.7 kB\u001b[0m \u001b[31m10.4 MB/s\u001b[0m eta \u001b[36m0:00:00\u001b[0m\n",
            "\u001b[2K   \u001b[90m━━━━━━━━━━━━━━━━━━━━━━━━━━━━━━━━━━━━━━━━\u001b[0m \u001b[32m2.2/2.2 MB\u001b[0m \u001b[31m56.8 MB/s\u001b[0m eta \u001b[36m0:00:00\u001b[0m\n",
            "\u001b[?25h  Building wheel for efficientnet-pytorch (setup.py) ... \u001b[?25l\u001b[?25hdone\n",
            "  Building wheel for pretrainedmodels (setup.py) ... \u001b[?25l\u001b[?25hdone\n",
            "\u001b[2K   \u001b[90m━━━━━━━━━━━━━━━━━━━━━━━━━━━━━━━━━━━━━━━━\u001b[0m \u001b[32m841.5/841.5 kB\u001b[0m \u001b[31m21.4 MB/s\u001b[0m eta \u001b[36m0:00:00\u001b[0m\n",
            "\u001b[?25h"
          ]
        }
      ]
    },
    {
      "cell_type": "code",
      "execution_count": null,
      "metadata": {
        "id": "CRiBWcpMGse0",
        "colab": {
          "base_uri": "https://localhost:8080/"
        },
        "outputId": "f95941c8-6665-47b8-b06d-1d93307b74a4"
      },
      "outputs": [
        {
          "output_type": "stream",
          "name": "stdout",
          "text": [
            "Path to dataset files: /kaggle/input/loveda-dataset\n"
          ]
        }
      ],
      "source": [
        "import kagglehub\n",
        "\n",
        "path = kagglehub.dataset_download(\"mohammedjaveed/loveda-dataset\")\n",
        "\n",
        "print(\"Path to dataset files:\", path)"
      ]
    },
    {
      "cell_type": "code",
      "execution_count": null,
      "metadata": {
        "id": "2N-SGZcfGtsK",
        "colab": {
          "base_uri": "https://localhost:8080/"
        },
        "outputId": "1d1fb9a1-e8d7-4a39-be33-e4a2de904499"
      },
      "outputs": [
        {
          "output_type": "stream",
          "name": "stdout",
          "text": [
            "✅ Train: 480 çift kopyalandı → /kaggle/working/LoveDA_Urban_subset/Train/Image & /kaggle/working/LoveDA_Urban_subset/Train/Mask\n",
            "✅ Val: 220 çift kopyalandı → /kaggle/working/LoveDA_Urban_subset/Val/Image & /kaggle/working/LoveDA_Urban_subset/Val/Mask\n",
            "✅ Test: 320 görüntü kopyalandı → /kaggle/working/LoveDA_Urban_subset/Test/Image (maske yok)\n",
            "Train: Image=480 | Mask=480\n",
            "Val: Image=220 | Mask=220\n",
            "Test: Image=320 | Mask=0\n"
          ]
        }
      ],
      "source": [
        "import os, glob, shutil, random\n",
        "from pathlib import Path\n",
        "\n",
        "\n",
        "SRC = {\n",
        "    \"Train\": \"/kaggle/input/loveda-dataset/Train/Train/Urban\",\n",
        "    \"Val\"  : \"/kaggle/input/loveda-dataset/Val/Val/Urban\",\n",
        "    \"Test\" : \"/kaggle/input/loveda-dataset/Test/Test/Urban\",\n",
        "}\n",
        "DST_ROOT = \"/kaggle/working/LoveDA_Urban_subset\"\n",
        "\n",
        "\n",
        "SEED = 42\n",
        "random.seed(SEED)\n",
        "\n",
        "\n",
        "LIMITS = {\n",
        "    \"Train\": 480,\n",
        "    \"Val\"  : 220,\n",
        "    \"Test\" : 320,\n",
        "}\n",
        "\n",
        "RATIOS = {\n",
        "    \"Train\": 0.3,\n",
        "    \"Val\"  : 0.3,\n",
        "    \"Test\" : 0.3,\n",
        "}\n",
        "\n",
        "def ensure_dir(p): Path(p).mkdir(parents=True, exist_ok=True)\n",
        "\n",
        "def pick_subset(items, split):\n",
        "    if LIMITS.get(split) is not None:\n",
        "        n = min(LIMITS[split], len(items))\n",
        "    elif RATIOS.get(split) is not None:\n",
        "        n = max(1, int(len(items) * float(RATIOS[split])))\n",
        "    else:\n",
        "        n = len(items)\n",
        "    return random.sample(items, n) if n < len(items) else list(items)\n",
        "\n",
        "def copy_split(split):\n",
        "    urban_root = SRC[split]\n",
        "    src_img = os.path.join(urban_root, \"images_png\")\n",
        "    src_msk = os.path.join(urban_root, \"masks_png\")\n",
        "\n",
        "    dst_img = os.path.join(DST_ROOT, split, \"Image\")\n",
        "    dst_msk = os.path.join(DST_ROOT, split, \"Mask\")\n",
        "    ensure_dir(dst_img); ensure_dir(dst_msk)\n",
        "\n",
        "\n",
        "    img_files = sorted(glob.glob(os.path.join(src_img, \"*.png\")))\n",
        "    if not img_files:\n",
        "        raise FileNotFoundError(f\"Görsel bulunamadı: {src_img}\")\n",
        "\n",
        "\n",
        "    if os.path.isdir(src_msk):\n",
        "        msk_files = sorted(glob.glob(os.path.join(src_msk, \"*.png\")))\n",
        "        img_bases = {os.path.basename(p) for p in img_files}\n",
        "        msk_bases = {os.path.basename(p) for p in msk_files}\n",
        "        common = sorted(img_bases & msk_bases)\n",
        "        if not common:\n",
        "            raise RuntimeError(f\"Eşleşen image–mask yok: {src_img} vs {src_msk}\")\n",
        "\n",
        "        chosen = pick_subset(common, split)\n",
        "        for b in chosen:\n",
        "            shutil.copy(os.path.join(src_img, b), os.path.join(dst_img, b))\n",
        "            shutil.copy(os.path.join(src_msk, b), os.path.join(dst_msk, b))\n",
        "        print(f\" {split}: {len(chosen)} çift kopyalandı → {dst_img} & {dst_msk}\")\n",
        "\n",
        "    else:\n",
        "\n",
        "        chosen = pick_subset(img_files, split)\n",
        "        for p in chosen:\n",
        "            b = os.path.basename(p)\n",
        "            shutil.copy(p, os.path.join(dst_img, b))\n",
        "        print(f\" {split}: {len(chosen)} görüntü kopyalandı → {dst_img} (maske yok)\")\n",
        "\n",
        "for sp in [\"Train\", \"Val\", \"Test\"]:\n",
        "    copy_split(sp)\n",
        "\n",
        "\n",
        "def count_png(p): return len(glob.glob(os.path.join(p, \"*.png\")))\n",
        "for sp in [\"Train\", \"Val\", \"Test\"]:\n",
        "    ip = os.path.join(DST_ROOT, sp, \"Image\")\n",
        "    mp = os.path.join(DST_ROOT, sp, \"Mask\")\n",
        "    print(f\"{sp}: Image={count_png(ip)} | Mask={count_png(mp) if os.path.isdir(mp) else 0}\")\n"
      ]
    },
    {
      "cell_type": "code",
      "execution_count": null,
      "metadata": {
        "id": "4D3D1_QKGvc6",
        "colab": {
          "base_uri": "https://localhost:8080/"
        },
        "outputId": "a20e6b6c-abcf-4baa-e96a-48634684dd0b"
      },
      "outputs": [
        {
          "output_type": "stream",
          "name": "stdout",
          "text": [
            "\n",
            "[Train] 480 görüntü patch'leniyor...\n"
          ]
        },
        {
          "output_type": "stream",
          "name": "stderr",
          "text": [
            "100%|██████████| 480/480 [04:26<00:00,  1.80it/s]\n"
          ]
        },
        {
          "output_type": "stream",
          "name": "stdout",
          "text": [
            "\n",
            "[Val] 220 görüntü patch'leniyor...\n"
          ]
        },
        {
          "output_type": "stream",
          "name": "stderr",
          "text": [
            "100%|██████████| 220/220 [01:56<00:00,  1.89it/s]\n"
          ]
        },
        {
          "output_type": "stream",
          "name": "stdout",
          "text": [
            "\n",
            "[Test] 320 görüntü patch'leniyor...\n"
          ]
        },
        {
          "output_type": "stream",
          "name": "stderr",
          "text": [
            "\r  0%|          | 0/320 [00:00<?, ?it/s]"
          ]
        },
        {
          "output_type": "stream",
          "name": "stdout",
          "text": [
            "Mask bulunamadı: /kaggle/working/LoveDA_Urban_subset/Test/Mask/5168.png, sadece görüntü patch'leniyor\n"
          ]
        },
        {
          "output_type": "stream",
          "name": "stderr",
          "text": [
            "\r  0%|          | 1/320 [00:00<02:03,  2.59it/s]"
          ]
        },
        {
          "output_type": "stream",
          "name": "stdout",
          "text": [
            "Mask bulunamadı: /kaggle/working/LoveDA_Urban_subset/Test/Mask/5169.png, sadece görüntü patch'leniyor\n"
          ]
        },
        {
          "output_type": "stream",
          "name": "stderr",
          "text": [
            "\r  1%|          | 2/320 [00:00<02:40,  1.99it/s]"
          ]
        },
        {
          "output_type": "stream",
          "name": "stdout",
          "text": [
            "Mask bulunamadı: /kaggle/working/LoveDA_Urban_subset/Test/Mask/5177.png, sadece görüntü patch'leniyor\n"
          ]
        },
        {
          "output_type": "stream",
          "name": "stderr",
          "text": [
            "\r  1%|          | 3/320 [00:01<02:18,  2.29it/s]"
          ]
        },
        {
          "output_type": "stream",
          "name": "stdout",
          "text": [
            "Mask bulunamadı: /kaggle/working/LoveDA_Urban_subset/Test/Mask/5179.png, sadece görüntü patch'leniyor\n"
          ]
        },
        {
          "output_type": "stream",
          "name": "stderr",
          "text": [
            "\r  1%|▏         | 4/320 [00:01<02:32,  2.07it/s]"
          ]
        },
        {
          "output_type": "stream",
          "name": "stdout",
          "text": [
            "Mask bulunamadı: /kaggle/working/LoveDA_Urban_subset/Test/Mask/5181.png, sadece görüntü patch'leniyor\n"
          ]
        },
        {
          "output_type": "stream",
          "name": "stderr",
          "text": [
            "\r  2%|▏         | 5/320 [00:02<02:19,  2.26it/s]"
          ]
        },
        {
          "output_type": "stream",
          "name": "stdout",
          "text": [
            "Mask bulunamadı: /kaggle/working/LoveDA_Urban_subset/Test/Mask/5184.png, sadece görüntü patch'leniyor\n"
          ]
        },
        {
          "output_type": "stream",
          "name": "stderr",
          "text": [
            "\r  2%|▏         | 6/320 [00:02<02:19,  2.25it/s]"
          ]
        },
        {
          "output_type": "stream",
          "name": "stdout",
          "text": [
            "Mask bulunamadı: /kaggle/working/LoveDA_Urban_subset/Test/Mask/5187.png, sadece görüntü patch'leniyor\n"
          ]
        },
        {
          "output_type": "stream",
          "name": "stderr",
          "text": [
            "\r  2%|▏         | 7/320 [00:03<02:35,  2.02it/s]"
          ]
        },
        {
          "output_type": "stream",
          "name": "stdout",
          "text": [
            "Mask bulunamadı: /kaggle/working/LoveDA_Urban_subset/Test/Mask/5188.png, sadece görüntü patch'leniyor\n"
          ]
        },
        {
          "output_type": "stream",
          "name": "stderr",
          "text": [
            "\r  2%|▎         | 8/320 [00:03<02:47,  1.87it/s]"
          ]
        },
        {
          "output_type": "stream",
          "name": "stdout",
          "text": [
            "Mask bulunamadı: /kaggle/working/LoveDA_Urban_subset/Test/Mask/5193.png, sadece görüntü patch'leniyor\n"
          ]
        },
        {
          "output_type": "stream",
          "name": "stderr",
          "text": [
            "\r  3%|▎         | 9/320 [00:04<02:26,  2.12it/s]"
          ]
        },
        {
          "output_type": "stream",
          "name": "stdout",
          "text": [
            "Mask bulunamadı: /kaggle/working/LoveDA_Urban_subset/Test/Mask/5196.png, sadece görüntü patch'leniyor\n"
          ]
        },
        {
          "output_type": "stream",
          "name": "stderr",
          "text": [
            "\r  3%|▎         | 10/320 [00:04<02:14,  2.30it/s]"
          ]
        },
        {
          "output_type": "stream",
          "name": "stdout",
          "text": [
            "Mask bulunamadı: /kaggle/working/LoveDA_Urban_subset/Test/Mask/5198.png, sadece görüntü patch'leniyor\n"
          ]
        },
        {
          "output_type": "stream",
          "name": "stderr",
          "text": [
            "\r  3%|▎         | 11/320 [00:05<02:20,  2.20it/s]"
          ]
        },
        {
          "output_type": "stream",
          "name": "stdout",
          "text": [
            "Mask bulunamadı: /kaggle/working/LoveDA_Urban_subset/Test/Mask/5200.png, sadece görüntü patch'leniyor\n"
          ]
        },
        {
          "output_type": "stream",
          "name": "stderr",
          "text": [
            "\r  4%|▍         | 12/320 [00:05<02:19,  2.21it/s]"
          ]
        },
        {
          "output_type": "stream",
          "name": "stdout",
          "text": [
            "Mask bulunamadı: /kaggle/working/LoveDA_Urban_subset/Test/Mask/5204.png, sadece görüntü patch'leniyor\n"
          ]
        },
        {
          "output_type": "stream",
          "name": "stderr",
          "text": [
            "\r  4%|▍         | 13/320 [00:05<02:06,  2.42it/s]"
          ]
        },
        {
          "output_type": "stream",
          "name": "stdout",
          "text": [
            "Mask bulunamadı: /kaggle/working/LoveDA_Urban_subset/Test/Mask/5207.png, sadece görüntü patch'leniyor\n"
          ]
        },
        {
          "output_type": "stream",
          "name": "stderr",
          "text": [
            "\r  4%|▍         | 14/320 [00:06<01:53,  2.69it/s]"
          ]
        },
        {
          "output_type": "stream",
          "name": "stdout",
          "text": [
            "Mask bulunamadı: /kaggle/working/LoveDA_Urban_subset/Test/Mask/5208.png, sadece görüntü patch'leniyor\n"
          ]
        },
        {
          "output_type": "stream",
          "name": "stderr",
          "text": [
            "\r  5%|▍         | 15/320 [00:06<02:16,  2.24it/s]"
          ]
        },
        {
          "output_type": "stream",
          "name": "stdout",
          "text": [
            "Mask bulunamadı: /kaggle/working/LoveDA_Urban_subset/Test/Mask/5209.png, sadece görüntü patch'leniyor\n"
          ]
        },
        {
          "output_type": "stream",
          "name": "stderr",
          "text": [
            "\r  5%|▌         | 16/320 [00:07<02:07,  2.39it/s]"
          ]
        },
        {
          "output_type": "stream",
          "name": "stdout",
          "text": [
            "Mask bulunamadı: /kaggle/working/LoveDA_Urban_subset/Test/Mask/5213.png, sadece görüntü patch'leniyor\n"
          ]
        },
        {
          "output_type": "stream",
          "name": "stderr",
          "text": [
            "\r  5%|▌         | 17/320 [00:07<02:07,  2.38it/s]"
          ]
        },
        {
          "output_type": "stream",
          "name": "stdout",
          "text": [
            "Mask bulunamadı: /kaggle/working/LoveDA_Urban_subset/Test/Mask/5219.png, sadece görüntü patch'leniyor\n"
          ]
        },
        {
          "output_type": "stream",
          "name": "stderr",
          "text": [
            "\r  6%|▌         | 18/320 [00:08<02:25,  2.07it/s]"
          ]
        },
        {
          "output_type": "stream",
          "name": "stdout",
          "text": [
            "Mask bulunamadı: /kaggle/working/LoveDA_Urban_subset/Test/Mask/5221.png, sadece görüntü patch'leniyor\n"
          ]
        },
        {
          "output_type": "stream",
          "name": "stderr",
          "text": [
            "\r  6%|▌         | 19/320 [00:08<02:34,  1.95it/s]"
          ]
        },
        {
          "output_type": "stream",
          "name": "stdout",
          "text": [
            "Mask bulunamadı: /kaggle/working/LoveDA_Urban_subset/Test/Mask/5222.png, sadece görüntü patch'leniyor\n"
          ]
        },
        {
          "output_type": "stream",
          "name": "stderr",
          "text": [
            "\r  6%|▋         | 20/320 [00:09<02:25,  2.07it/s]"
          ]
        },
        {
          "output_type": "stream",
          "name": "stdout",
          "text": [
            "Mask bulunamadı: /kaggle/working/LoveDA_Urban_subset/Test/Mask/5228.png, sadece görüntü patch'leniyor\n"
          ]
        },
        {
          "output_type": "stream",
          "name": "stderr",
          "text": [
            "\r  7%|▋         | 21/320 [00:09<02:11,  2.27it/s]"
          ]
        },
        {
          "output_type": "stream",
          "name": "stdout",
          "text": [
            "Mask bulunamadı: /kaggle/working/LoveDA_Urban_subset/Test/Mask/5233.png, sadece görüntü patch'leniyor\n"
          ]
        },
        {
          "output_type": "stream",
          "name": "stderr",
          "text": [
            "\r  7%|▋         | 22/320 [00:09<02:02,  2.43it/s]"
          ]
        },
        {
          "output_type": "stream",
          "name": "stdout",
          "text": [
            "Mask bulunamadı: /kaggle/working/LoveDA_Urban_subset/Test/Mask/5237.png, sadece görüntü patch'leniyor\n"
          ]
        },
        {
          "output_type": "stream",
          "name": "stderr",
          "text": [
            "\r  7%|▋         | 23/320 [00:10<02:18,  2.15it/s]"
          ]
        },
        {
          "output_type": "stream",
          "name": "stdout",
          "text": [
            "Mask bulunamadı: /kaggle/working/LoveDA_Urban_subset/Test/Mask/5239.png, sadece görüntü patch'leniyor\n"
          ]
        },
        {
          "output_type": "stream",
          "name": "stderr",
          "text": [
            "\r  8%|▊         | 24/320 [00:10<02:09,  2.29it/s]"
          ]
        },
        {
          "output_type": "stream",
          "name": "stdout",
          "text": [
            "Mask bulunamadı: /kaggle/working/LoveDA_Urban_subset/Test/Mask/5240.png, sadece görüntü patch'leniyor\n"
          ]
        },
        {
          "output_type": "stream",
          "name": "stderr",
          "text": [
            "\r  8%|▊         | 25/320 [00:11<02:23,  2.05it/s]"
          ]
        },
        {
          "output_type": "stream",
          "name": "stdout",
          "text": [
            "Mask bulunamadı: /kaggle/working/LoveDA_Urban_subset/Test/Mask/5242.png, sadece görüntü patch'leniyor\n"
          ]
        },
        {
          "output_type": "stream",
          "name": "stderr",
          "text": [
            "\r  8%|▊         | 26/320 [00:11<02:03,  2.37it/s]"
          ]
        },
        {
          "output_type": "stream",
          "name": "stdout",
          "text": [
            "Mask bulunamadı: /kaggle/working/LoveDA_Urban_subset/Test/Mask/5243.png, sadece görüntü patch'leniyor\n"
          ]
        },
        {
          "output_type": "stream",
          "name": "stderr",
          "text": [
            "\r  8%|▊         | 27/320 [00:12<02:19,  2.10it/s]"
          ]
        },
        {
          "output_type": "stream",
          "name": "stdout",
          "text": [
            "Mask bulunamadı: /kaggle/working/LoveDA_Urban_subset/Test/Mask/5244.png, sadece görüntü patch'leniyor\n"
          ]
        },
        {
          "output_type": "stream",
          "name": "stderr",
          "text": [
            "\r  9%|▉         | 28/320 [00:12<02:00,  2.41it/s]"
          ]
        },
        {
          "output_type": "stream",
          "name": "stdout",
          "text": [
            "Mask bulunamadı: /kaggle/working/LoveDA_Urban_subset/Test/Mask/5249.png, sadece görüntü patch'leniyor\n"
          ]
        },
        {
          "output_type": "stream",
          "name": "stderr",
          "text": [
            "\r  9%|▉         | 29/320 [00:13<02:03,  2.36it/s]"
          ]
        },
        {
          "output_type": "stream",
          "name": "stdout",
          "text": [
            "Mask bulunamadı: /kaggle/working/LoveDA_Urban_subset/Test/Mask/5250.png, sadece görüntü patch'leniyor\n"
          ]
        },
        {
          "output_type": "stream",
          "name": "stderr",
          "text": [
            "\r  9%|▉         | 30/320 [00:13<02:04,  2.33it/s]"
          ]
        },
        {
          "output_type": "stream",
          "name": "stdout",
          "text": [
            "Mask bulunamadı: /kaggle/working/LoveDA_Urban_subset/Test/Mask/5254.png, sadece görüntü patch'leniyor\n"
          ]
        },
        {
          "output_type": "stream",
          "name": "stderr",
          "text": [
            "\r 10%|▉         | 31/320 [00:13<02:05,  2.30it/s]"
          ]
        },
        {
          "output_type": "stream",
          "name": "stdout",
          "text": [
            "Mask bulunamadı: /kaggle/working/LoveDA_Urban_subset/Test/Mask/5255.png, sadece görüntü patch'leniyor\n"
          ]
        },
        {
          "output_type": "stream",
          "name": "stderr",
          "text": [
            "\r 10%|█         | 32/320 [00:14<02:11,  2.20it/s]"
          ]
        },
        {
          "output_type": "stream",
          "name": "stdout",
          "text": [
            "Mask bulunamadı: /kaggle/working/LoveDA_Urban_subset/Test/Mask/5257.png, sadece görüntü patch'leniyor\n"
          ]
        },
        {
          "output_type": "stream",
          "name": "stderr",
          "text": [
            "\r 10%|█         | 33/320 [00:14<02:05,  2.28it/s]"
          ]
        },
        {
          "output_type": "stream",
          "name": "stdout",
          "text": [
            "Mask bulunamadı: /kaggle/working/LoveDA_Urban_subset/Test/Mask/5260.png, sadece görüntü patch'leniyor\n"
          ]
        },
        {
          "output_type": "stream",
          "name": "stderr",
          "text": [
            "\r 11%|█         | 34/320 [00:15<02:05,  2.29it/s]"
          ]
        },
        {
          "output_type": "stream",
          "name": "stdout",
          "text": [
            "Mask bulunamadı: /kaggle/working/LoveDA_Urban_subset/Test/Mask/5262.png, sadece görüntü patch'leniyor\n"
          ]
        },
        {
          "output_type": "stream",
          "name": "stderr",
          "text": [
            "\r 11%|█         | 35/320 [00:15<02:16,  2.09it/s]"
          ]
        },
        {
          "output_type": "stream",
          "name": "stdout",
          "text": [
            "Mask bulunamadı: /kaggle/working/LoveDA_Urban_subset/Test/Mask/5268.png, sadece görüntü patch'leniyor\n"
          ]
        },
        {
          "output_type": "stream",
          "name": "stderr",
          "text": [
            "\r 11%|█▏        | 36/320 [00:16<02:06,  2.25it/s]"
          ]
        },
        {
          "output_type": "stream",
          "name": "stdout",
          "text": [
            "Mask bulunamadı: /kaggle/working/LoveDA_Urban_subset/Test/Mask/5269.png, sadece görüntü patch'leniyor\n"
          ]
        },
        {
          "output_type": "stream",
          "name": "stderr",
          "text": [
            "\r 12%|█▏        | 37/320 [00:16<02:01,  2.32it/s]"
          ]
        },
        {
          "output_type": "stream",
          "name": "stdout",
          "text": [
            "Mask bulunamadı: /kaggle/working/LoveDA_Urban_subset/Test/Mask/5271.png, sadece görüntü patch'leniyor\n"
          ]
        },
        {
          "output_type": "stream",
          "name": "stderr",
          "text": [
            "\r 12%|█▏        | 38/320 [00:17<02:07,  2.20it/s]"
          ]
        },
        {
          "output_type": "stream",
          "name": "stdout",
          "text": [
            "Mask bulunamadı: /kaggle/working/LoveDA_Urban_subset/Test/Mask/5272.png, sadece görüntü patch'leniyor\n"
          ]
        },
        {
          "output_type": "stream",
          "name": "stderr",
          "text": [
            "\r 12%|█▏        | 39/320 [00:17<02:18,  2.04it/s]"
          ]
        },
        {
          "output_type": "stream",
          "name": "stdout",
          "text": [
            "Mask bulunamadı: /kaggle/working/LoveDA_Urban_subset/Test/Mask/5274.png, sadece görüntü patch'leniyor\n"
          ]
        },
        {
          "output_type": "stream",
          "name": "stderr",
          "text": [
            "\r 12%|█▎        | 40/320 [00:18<02:10,  2.15it/s]"
          ]
        },
        {
          "output_type": "stream",
          "name": "stdout",
          "text": [
            "Mask bulunamadı: /kaggle/working/LoveDA_Urban_subset/Test/Mask/5275.png, sadece görüntü patch'leniyor\n"
          ]
        },
        {
          "output_type": "stream",
          "name": "stderr",
          "text": [
            "\r 13%|█▎        | 41/320 [00:18<01:54,  2.44it/s]"
          ]
        },
        {
          "output_type": "stream",
          "name": "stdout",
          "text": [
            "Mask bulunamadı: /kaggle/working/LoveDA_Urban_subset/Test/Mask/5277.png, sadece görüntü patch'leniyor\n"
          ]
        },
        {
          "output_type": "stream",
          "name": "stderr",
          "text": [
            "\r 13%|█▎        | 42/320 [00:18<02:04,  2.24it/s]"
          ]
        },
        {
          "output_type": "stream",
          "name": "stdout",
          "text": [
            "Mask bulunamadı: /kaggle/working/LoveDA_Urban_subset/Test/Mask/5283.png, sadece görüntü patch'leniyor\n"
          ]
        },
        {
          "output_type": "stream",
          "name": "stderr",
          "text": [
            "\r 13%|█▎        | 43/320 [00:19<02:06,  2.19it/s]"
          ]
        },
        {
          "output_type": "stream",
          "name": "stdout",
          "text": [
            "Mask bulunamadı: /kaggle/working/LoveDA_Urban_subset/Test/Mask/5284.png, sadece görüntü patch'leniyor\n"
          ]
        },
        {
          "output_type": "stream",
          "name": "stderr",
          "text": [
            "\r 14%|█▍        | 44/320 [00:19<01:58,  2.32it/s]"
          ]
        },
        {
          "output_type": "stream",
          "name": "stdout",
          "text": [
            "Mask bulunamadı: /kaggle/working/LoveDA_Urban_subset/Test/Mask/5285.png, sadece görüntü patch'leniyor\n"
          ]
        },
        {
          "output_type": "stream",
          "name": "stderr",
          "text": [
            "\r 14%|█▍        | 45/320 [00:20<02:17,  2.00it/s]"
          ]
        },
        {
          "output_type": "stream",
          "name": "stdout",
          "text": [
            "Mask bulunamadı: /kaggle/working/LoveDA_Urban_subset/Test/Mask/5288.png, sadece görüntü patch'leniyor\n"
          ]
        },
        {
          "output_type": "stream",
          "name": "stderr",
          "text": [
            "\r 14%|█▍        | 46/320 [00:20<02:02,  2.25it/s]"
          ]
        },
        {
          "output_type": "stream",
          "name": "stdout",
          "text": [
            "Mask bulunamadı: /kaggle/working/LoveDA_Urban_subset/Test/Mask/5289.png, sadece görüntü patch'leniyor\n"
          ]
        },
        {
          "output_type": "stream",
          "name": "stderr",
          "text": [
            "\r 15%|█▍        | 47/320 [00:21<02:10,  2.10it/s]"
          ]
        },
        {
          "output_type": "stream",
          "name": "stdout",
          "text": [
            "Mask bulunamadı: /kaggle/working/LoveDA_Urban_subset/Test/Mask/5290.png, sadece görüntü patch'leniyor\n"
          ]
        },
        {
          "output_type": "stream",
          "name": "stderr",
          "text": [
            "\r 15%|█▌        | 48/320 [00:21<02:13,  2.04it/s]"
          ]
        },
        {
          "output_type": "stream",
          "name": "stdout",
          "text": [
            "Mask bulunamadı: /kaggle/working/LoveDA_Urban_subset/Test/Mask/5294.png, sadece görüntü patch'leniyor\n"
          ]
        },
        {
          "output_type": "stream",
          "name": "stderr",
          "text": [
            "\r 15%|█▌        | 49/320 [00:22<01:56,  2.32it/s]"
          ]
        },
        {
          "output_type": "stream",
          "name": "stdout",
          "text": [
            "Mask bulunamadı: /kaggle/working/LoveDA_Urban_subset/Test/Mask/5296.png, sadece görüntü patch'leniyor\n"
          ]
        },
        {
          "output_type": "stream",
          "name": "stderr",
          "text": [
            "\r 16%|█▌        | 50/320 [00:22<01:55,  2.34it/s]"
          ]
        },
        {
          "output_type": "stream",
          "name": "stdout",
          "text": [
            "Mask bulunamadı: /kaggle/working/LoveDA_Urban_subset/Test/Mask/5303.png, sadece görüntü patch'leniyor\n"
          ]
        },
        {
          "output_type": "stream",
          "name": "stderr",
          "text": [
            "\r 16%|█▌        | 51/320 [00:23<02:03,  2.18it/s]"
          ]
        },
        {
          "output_type": "stream",
          "name": "stdout",
          "text": [
            "Mask bulunamadı: /kaggle/working/LoveDA_Urban_subset/Test/Mask/5312.png, sadece görüntü patch'leniyor\n"
          ]
        },
        {
          "output_type": "stream",
          "name": "stderr",
          "text": [
            "\r 16%|█▋        | 52/320 [00:23<02:12,  2.02it/s]"
          ]
        },
        {
          "output_type": "stream",
          "name": "stdout",
          "text": [
            "Mask bulunamadı: /kaggle/working/LoveDA_Urban_subset/Test/Mask/5319.png, sadece görüntü patch'leniyor\n"
          ]
        },
        {
          "output_type": "stream",
          "name": "stderr",
          "text": [
            "\r 17%|█▋        | 53/320 [00:23<01:55,  2.31it/s]"
          ]
        },
        {
          "output_type": "stream",
          "name": "stdout",
          "text": [
            "Mask bulunamadı: /kaggle/working/LoveDA_Urban_subset/Test/Mask/5322.png, sadece görüntü patch'leniyor\n"
          ]
        },
        {
          "output_type": "stream",
          "name": "stderr",
          "text": [
            "\r 17%|█▋        | 54/320 [00:24<01:55,  2.29it/s]"
          ]
        },
        {
          "output_type": "stream",
          "name": "stdout",
          "text": [
            "Mask bulunamadı: /kaggle/working/LoveDA_Urban_subset/Test/Mask/5323.png, sadece görüntü patch'leniyor\n"
          ]
        },
        {
          "output_type": "stream",
          "name": "stderr",
          "text": [
            "\r 17%|█▋        | 55/320 [00:24<01:49,  2.42it/s]"
          ]
        },
        {
          "output_type": "stream",
          "name": "stdout",
          "text": [
            "Mask bulunamadı: /kaggle/working/LoveDA_Urban_subset/Test/Mask/5327.png, sadece görüntü patch'leniyor\n"
          ]
        },
        {
          "output_type": "stream",
          "name": "stderr",
          "text": [
            "\r 18%|█▊        | 56/320 [00:25<01:44,  2.52it/s]"
          ]
        },
        {
          "output_type": "stream",
          "name": "stdout",
          "text": [
            "Mask bulunamadı: /kaggle/working/LoveDA_Urban_subset/Test/Mask/5331.png, sadece görüntü patch'leniyor\n"
          ]
        },
        {
          "output_type": "stream",
          "name": "stderr",
          "text": [
            "\r 18%|█▊        | 57/320 [00:25<01:51,  2.36it/s]"
          ]
        },
        {
          "output_type": "stream",
          "name": "stdout",
          "text": [
            "Mask bulunamadı: /kaggle/working/LoveDA_Urban_subset/Test/Mask/5334.png, sadece görüntü patch'leniyor\n"
          ]
        },
        {
          "output_type": "stream",
          "name": "stderr",
          "text": [
            "\r 18%|█▊        | 58/320 [00:25<01:47,  2.44it/s]"
          ]
        },
        {
          "output_type": "stream",
          "name": "stdout",
          "text": [
            "Mask bulunamadı: /kaggle/working/LoveDA_Urban_subset/Test/Mask/5336.png, sadece görüntü patch'leniyor\n"
          ]
        },
        {
          "output_type": "stream",
          "name": "stderr",
          "text": [
            "\r 18%|█▊        | 59/320 [00:26<01:48,  2.40it/s]"
          ]
        },
        {
          "output_type": "stream",
          "name": "stdout",
          "text": [
            "Mask bulunamadı: /kaggle/working/LoveDA_Urban_subset/Test/Mask/5338.png, sadece görüntü patch'leniyor\n"
          ]
        },
        {
          "output_type": "stream",
          "name": "stderr",
          "text": [
            "\r 19%|█▉        | 60/320 [00:26<01:54,  2.27it/s]"
          ]
        },
        {
          "output_type": "stream",
          "name": "stdout",
          "text": [
            "Mask bulunamadı: /kaggle/working/LoveDA_Urban_subset/Test/Mask/5344.png, sadece görüntü patch'leniyor\n"
          ]
        },
        {
          "output_type": "stream",
          "name": "stderr",
          "text": [
            "\r 19%|█▉        | 61/320 [00:27<01:45,  2.46it/s]"
          ]
        },
        {
          "output_type": "stream",
          "name": "stdout",
          "text": [
            "Mask bulunamadı: /kaggle/working/LoveDA_Urban_subset/Test/Mask/5346.png, sadece görüntü patch'leniyor\n"
          ]
        },
        {
          "output_type": "stream",
          "name": "stderr",
          "text": [
            "\r 19%|█▉        | 62/320 [00:27<01:49,  2.37it/s]"
          ]
        },
        {
          "output_type": "stream",
          "name": "stdout",
          "text": [
            "Mask bulunamadı: /kaggle/working/LoveDA_Urban_subset/Test/Mask/5347.png, sadece görüntü patch'leniyor\n"
          ]
        },
        {
          "output_type": "stream",
          "name": "stderr",
          "text": [
            "\r 20%|█▉        | 63/320 [00:27<01:43,  2.49it/s]"
          ]
        },
        {
          "output_type": "stream",
          "name": "stdout",
          "text": [
            "Mask bulunamadı: /kaggle/working/LoveDA_Urban_subset/Test/Mask/5350.png, sadece görüntü patch'leniyor\n"
          ]
        },
        {
          "output_type": "stream",
          "name": "stderr",
          "text": [
            "\r 20%|██        | 64/320 [00:28<02:01,  2.10it/s]"
          ]
        },
        {
          "output_type": "stream",
          "name": "stdout",
          "text": [
            "Mask bulunamadı: /kaggle/working/LoveDA_Urban_subset/Test/Mask/5352.png, sadece görüntü patch'leniyor\n"
          ]
        },
        {
          "output_type": "stream",
          "name": "stderr",
          "text": [
            "\r 20%|██        | 65/320 [00:28<01:50,  2.32it/s]"
          ]
        },
        {
          "output_type": "stream",
          "name": "stdout",
          "text": [
            "Mask bulunamadı: /kaggle/working/LoveDA_Urban_subset/Test/Mask/5353.png, sadece görüntü patch'leniyor\n"
          ]
        },
        {
          "output_type": "stream",
          "name": "stderr",
          "text": [
            "\r 21%|██        | 66/320 [00:29<01:43,  2.46it/s]"
          ]
        },
        {
          "output_type": "stream",
          "name": "stdout",
          "text": [
            "Mask bulunamadı: /kaggle/working/LoveDA_Urban_subset/Test/Mask/5355.png, sadece görüntü patch'leniyor\n"
          ]
        },
        {
          "output_type": "stream",
          "name": "stderr",
          "text": [
            "\r 21%|██        | 67/320 [00:29<01:46,  2.37it/s]"
          ]
        },
        {
          "output_type": "stream",
          "name": "stdout",
          "text": [
            "Mask bulunamadı: /kaggle/working/LoveDA_Urban_subset/Test/Mask/5356.png, sadece görüntü patch'leniyor\n"
          ]
        },
        {
          "output_type": "stream",
          "name": "stderr",
          "text": [
            "\r 21%|██▏       | 68/320 [00:30<01:40,  2.50it/s]"
          ]
        },
        {
          "output_type": "stream",
          "name": "stdout",
          "text": [
            "Mask bulunamadı: /kaggle/working/LoveDA_Urban_subset/Test/Mask/5359.png, sadece görüntü patch'leniyor\n"
          ]
        },
        {
          "output_type": "stream",
          "name": "stderr",
          "text": [
            "\r 22%|██▏       | 69/320 [00:30<01:36,  2.59it/s]"
          ]
        },
        {
          "output_type": "stream",
          "name": "stdout",
          "text": [
            "Mask bulunamadı: /kaggle/working/LoveDA_Urban_subset/Test/Mask/5362.png, sadece görüntü patch'leniyor\n"
          ]
        },
        {
          "output_type": "stream",
          "name": "stderr",
          "text": [
            "\r 22%|██▏       | 70/320 [00:30<01:30,  2.76it/s]"
          ]
        },
        {
          "output_type": "stream",
          "name": "stdout",
          "text": [
            "Mask bulunamadı: /kaggle/working/LoveDA_Urban_subset/Test/Mask/5363.png, sadece görüntü patch'leniyor\n"
          ]
        },
        {
          "output_type": "stream",
          "name": "stderr",
          "text": [
            "\r 22%|██▏       | 71/320 [00:31<01:36,  2.58it/s]"
          ]
        },
        {
          "output_type": "stream",
          "name": "stdout",
          "text": [
            "Mask bulunamadı: /kaggle/working/LoveDA_Urban_subset/Test/Mask/5364.png, sadece görüntü patch'leniyor\n"
          ]
        },
        {
          "output_type": "stream",
          "name": "stderr",
          "text": [
            "\r 22%|██▎       | 72/320 [00:31<01:51,  2.22it/s]"
          ]
        },
        {
          "output_type": "stream",
          "name": "stdout",
          "text": [
            "Mask bulunamadı: /kaggle/working/LoveDA_Urban_subset/Test/Mask/5365.png, sadece görüntü patch'leniyor\n"
          ]
        },
        {
          "output_type": "stream",
          "name": "stderr",
          "text": [
            "\r 23%|██▎       | 73/320 [00:32<01:44,  2.37it/s]"
          ]
        },
        {
          "output_type": "stream",
          "name": "stdout",
          "text": [
            "Mask bulunamadı: /kaggle/working/LoveDA_Urban_subset/Test/Mask/5369.png, sadece görüntü patch'leniyor\n"
          ]
        },
        {
          "output_type": "stream",
          "name": "stderr",
          "text": [
            "\r 23%|██▎       | 74/320 [00:32<01:33,  2.64it/s]"
          ]
        },
        {
          "output_type": "stream",
          "name": "stdout",
          "text": [
            "Mask bulunamadı: /kaggle/working/LoveDA_Urban_subset/Test/Mask/5370.png, sadece görüntü patch'leniyor\n"
          ]
        },
        {
          "output_type": "stream",
          "name": "stderr",
          "text": [
            "\r 23%|██▎       | 75/320 [00:32<01:30,  2.69it/s]"
          ]
        },
        {
          "output_type": "stream",
          "name": "stdout",
          "text": [
            "Mask bulunamadı: /kaggle/working/LoveDA_Urban_subset/Test/Mask/5371.png, sadece görüntü patch'leniyor\n"
          ]
        },
        {
          "output_type": "stream",
          "name": "stderr",
          "text": [
            "\r 24%|██▍       | 76/320 [00:33<01:29,  2.73it/s]"
          ]
        },
        {
          "output_type": "stream",
          "name": "stdout",
          "text": [
            "Mask bulunamadı: /kaggle/working/LoveDA_Urban_subset/Test/Mask/5379.png, sadece görüntü patch'leniyor\n"
          ]
        },
        {
          "output_type": "stream",
          "name": "stderr",
          "text": [
            "\r 24%|██▍       | 77/320 [00:33<01:44,  2.33it/s]"
          ]
        },
        {
          "output_type": "stream",
          "name": "stdout",
          "text": [
            "Mask bulunamadı: /kaggle/working/LoveDA_Urban_subset/Test/Mask/5383.png, sadece görüntü patch'leniyor\n"
          ]
        },
        {
          "output_type": "stream",
          "name": "stderr",
          "text": [
            "\r 24%|██▍       | 78/320 [00:34<01:50,  2.20it/s]"
          ]
        },
        {
          "output_type": "stream",
          "name": "stdout",
          "text": [
            "Mask bulunamadı: /kaggle/working/LoveDA_Urban_subset/Test/Mask/5384.png, sadece görüntü patch'leniyor\n"
          ]
        },
        {
          "output_type": "stream",
          "name": "stderr",
          "text": [
            "\r 25%|██▍       | 79/320 [00:34<01:46,  2.27it/s]"
          ]
        },
        {
          "output_type": "stream",
          "name": "stdout",
          "text": [
            "Mask bulunamadı: /kaggle/working/LoveDA_Urban_subset/Test/Mask/5388.png, sadece görüntü patch'leniyor\n"
          ]
        },
        {
          "output_type": "stream",
          "name": "stderr",
          "text": [
            "\r 25%|██▌       | 80/320 [00:35<01:56,  2.06it/s]"
          ]
        },
        {
          "output_type": "stream",
          "name": "stdout",
          "text": [
            "Mask bulunamadı: /kaggle/working/LoveDA_Urban_subset/Test/Mask/5390.png, sadece görüntü patch'leniyor\n"
          ]
        },
        {
          "output_type": "stream",
          "name": "stderr",
          "text": [
            "\r 25%|██▌       | 81/320 [00:35<02:02,  1.95it/s]"
          ]
        },
        {
          "output_type": "stream",
          "name": "stdout",
          "text": [
            "Mask bulunamadı: /kaggle/working/LoveDA_Urban_subset/Test/Mask/5393.png, sadece görüntü patch'leniyor\n"
          ]
        },
        {
          "output_type": "stream",
          "name": "stderr",
          "text": [
            "\r 26%|██▌       | 82/320 [00:36<02:10,  1.82it/s]"
          ]
        },
        {
          "output_type": "stream",
          "name": "stdout",
          "text": [
            "Mask bulunamadı: /kaggle/working/LoveDA_Urban_subset/Test/Mask/5397.png, sadece görüntü patch'leniyor\n"
          ]
        },
        {
          "output_type": "stream",
          "name": "stderr",
          "text": [
            "\r 26%|██▌       | 83/320 [00:36<01:57,  2.02it/s]"
          ]
        },
        {
          "output_type": "stream",
          "name": "stdout",
          "text": [
            "Mask bulunamadı: /kaggle/working/LoveDA_Urban_subset/Test/Mask/5398.png, sadece görüntü patch'leniyor\n"
          ]
        },
        {
          "output_type": "stream",
          "name": "stderr",
          "text": [
            "\r 26%|██▋       | 84/320 [00:37<01:53,  2.07it/s]"
          ]
        },
        {
          "output_type": "stream",
          "name": "stdout",
          "text": [
            "Mask bulunamadı: /kaggle/working/LoveDA_Urban_subset/Test/Mask/5399.png, sadece görüntü patch'leniyor\n"
          ]
        },
        {
          "output_type": "stream",
          "name": "stderr",
          "text": [
            "\r 27%|██▋       | 85/320 [00:37<01:51,  2.11it/s]"
          ]
        },
        {
          "output_type": "stream",
          "name": "stdout",
          "text": [
            "Mask bulunamadı: /kaggle/working/LoveDA_Urban_subset/Test/Mask/5401.png, sadece görüntü patch'leniyor\n"
          ]
        },
        {
          "output_type": "stream",
          "name": "stderr",
          "text": [
            "\r 27%|██▋       | 86/320 [00:38<01:53,  2.05it/s]"
          ]
        },
        {
          "output_type": "stream",
          "name": "stdout",
          "text": [
            "Mask bulunamadı: /kaggle/working/LoveDA_Urban_subset/Test/Mask/5403.png, sadece görüntü patch'leniyor\n"
          ]
        },
        {
          "output_type": "stream",
          "name": "stderr",
          "text": [
            "\r 27%|██▋       | 87/320 [00:38<01:47,  2.17it/s]"
          ]
        },
        {
          "output_type": "stream",
          "name": "stdout",
          "text": [
            "Mask bulunamadı: /kaggle/working/LoveDA_Urban_subset/Test/Mask/5404.png, sadece görüntü patch'leniyor\n"
          ]
        },
        {
          "output_type": "stream",
          "name": "stderr",
          "text": [
            "\r 28%|██▊       | 88/320 [00:39<01:57,  1.97it/s]"
          ]
        },
        {
          "output_type": "stream",
          "name": "stdout",
          "text": [
            "Mask bulunamadı: /kaggle/working/LoveDA_Urban_subset/Test/Mask/5406.png, sadece görüntü patch'leniyor\n"
          ]
        },
        {
          "output_type": "stream",
          "name": "stderr",
          "text": [
            "\r 28%|██▊       | 89/320 [00:39<01:48,  2.13it/s]"
          ]
        },
        {
          "output_type": "stream",
          "name": "stdout",
          "text": [
            "Mask bulunamadı: /kaggle/working/LoveDA_Urban_subset/Test/Mask/5411.png, sadece görüntü patch'leniyor\n"
          ]
        },
        {
          "output_type": "stream",
          "name": "stderr",
          "text": [
            "\r 28%|██▊       | 90/320 [00:40<01:40,  2.29it/s]"
          ]
        },
        {
          "output_type": "stream",
          "name": "stdout",
          "text": [
            "Mask bulunamadı: /kaggle/working/LoveDA_Urban_subset/Test/Mask/5412.png, sadece görüntü patch'leniyor\n"
          ]
        },
        {
          "output_type": "stream",
          "name": "stderr",
          "text": [
            "\r 28%|██▊       | 91/320 [00:40<01:47,  2.12it/s]"
          ]
        },
        {
          "output_type": "stream",
          "name": "stdout",
          "text": [
            "Mask bulunamadı: /kaggle/working/LoveDA_Urban_subset/Test/Mask/5413.png, sadece görüntü patch'leniyor\n"
          ]
        },
        {
          "output_type": "stream",
          "name": "stderr",
          "text": [
            "\r 29%|██▉       | 92/320 [00:40<01:43,  2.21it/s]"
          ]
        },
        {
          "output_type": "stream",
          "name": "stdout",
          "text": [
            "Mask bulunamadı: /kaggle/working/LoveDA_Urban_subset/Test/Mask/5414.png, sadece görüntü patch'leniyor\n"
          ]
        },
        {
          "output_type": "stream",
          "name": "stderr",
          "text": [
            "\r 29%|██▉       | 93/320 [00:41<01:53,  2.00it/s]"
          ]
        },
        {
          "output_type": "stream",
          "name": "stdout",
          "text": [
            "Mask bulunamadı: /kaggle/working/LoveDA_Urban_subset/Test/Mask/5415.png, sadece görüntü patch'leniyor\n"
          ]
        },
        {
          "output_type": "stream",
          "name": "stderr",
          "text": [
            "\r 29%|██▉       | 94/320 [00:41<01:44,  2.16it/s]"
          ]
        },
        {
          "output_type": "stream",
          "name": "stdout",
          "text": [
            "Mask bulunamadı: /kaggle/working/LoveDA_Urban_subset/Test/Mask/5416.png, sadece görüntü patch'leniyor\n"
          ]
        },
        {
          "output_type": "stream",
          "name": "stderr",
          "text": [
            "\r 30%|██▉       | 95/320 [00:42<01:43,  2.17it/s]"
          ]
        },
        {
          "output_type": "stream",
          "name": "stdout",
          "text": [
            "Mask bulunamadı: /kaggle/working/LoveDA_Urban_subset/Test/Mask/5418.png, sadece görüntü patch'leniyor\n"
          ]
        },
        {
          "output_type": "stream",
          "name": "stderr",
          "text": [
            "\r 30%|███       | 96/320 [00:42<01:49,  2.05it/s]"
          ]
        },
        {
          "output_type": "stream",
          "name": "stdout",
          "text": [
            "Mask bulunamadı: /kaggle/working/LoveDA_Urban_subset/Test/Mask/5420.png, sadece görüntü patch'leniyor\n"
          ]
        },
        {
          "output_type": "stream",
          "name": "stderr",
          "text": [
            "\r 30%|███       | 97/320 [00:43<01:49,  2.04it/s]"
          ]
        },
        {
          "output_type": "stream",
          "name": "stdout",
          "text": [
            "Mask bulunamadı: /kaggle/working/LoveDA_Urban_subset/Test/Mask/5421.png, sadece görüntü patch'leniyor\n"
          ]
        },
        {
          "output_type": "stream",
          "name": "stderr",
          "text": [
            "\r 31%|███       | 98/320 [00:44<01:56,  1.91it/s]"
          ]
        },
        {
          "output_type": "stream",
          "name": "stdout",
          "text": [
            "Mask bulunamadı: /kaggle/working/LoveDA_Urban_subset/Test/Mask/5422.png, sadece görüntü patch'leniyor\n"
          ]
        },
        {
          "output_type": "stream",
          "name": "stderr",
          "text": [
            "\r 31%|███       | 99/320 [00:44<01:44,  2.12it/s]"
          ]
        },
        {
          "output_type": "stream",
          "name": "stdout",
          "text": [
            "Mask bulunamadı: /kaggle/working/LoveDA_Urban_subset/Test/Mask/5423.png, sadece görüntü patch'leniyor\n"
          ]
        },
        {
          "output_type": "stream",
          "name": "stderr",
          "text": [
            "\r 31%|███▏      | 100/320 [00:44<01:42,  2.15it/s]"
          ]
        },
        {
          "output_type": "stream",
          "name": "stdout",
          "text": [
            "Mask bulunamadı: /kaggle/working/LoveDA_Urban_subset/Test/Mask/5424.png, sadece görüntü patch'leniyor\n"
          ]
        },
        {
          "output_type": "stream",
          "name": "stderr",
          "text": [
            "\r 32%|███▏      | 101/320 [00:45<01:50,  1.97it/s]"
          ]
        },
        {
          "output_type": "stream",
          "name": "stdout",
          "text": [
            "Mask bulunamadı: /kaggle/working/LoveDA_Urban_subset/Test/Mask/5425.png, sadece görüntü patch'leniyor\n"
          ]
        },
        {
          "output_type": "stream",
          "name": "stderr",
          "text": [
            "\r 32%|███▏      | 102/320 [00:45<01:45,  2.08it/s]"
          ]
        },
        {
          "output_type": "stream",
          "name": "stdout",
          "text": [
            "Mask bulunamadı: /kaggle/working/LoveDA_Urban_subset/Test/Mask/5429.png, sadece görüntü patch'leniyor\n"
          ]
        },
        {
          "output_type": "stream",
          "name": "stderr",
          "text": [
            "\r 32%|███▏      | 103/320 [00:46<01:37,  2.21it/s]"
          ]
        },
        {
          "output_type": "stream",
          "name": "stdout",
          "text": [
            "Mask bulunamadı: /kaggle/working/LoveDA_Urban_subset/Test/Mask/5431.png, sadece görüntü patch'leniyor\n"
          ]
        },
        {
          "output_type": "stream",
          "name": "stderr",
          "text": [
            "\r 32%|███▎      | 104/320 [00:46<01:33,  2.30it/s]"
          ]
        },
        {
          "output_type": "stream",
          "name": "stdout",
          "text": [
            "Mask bulunamadı: /kaggle/working/LoveDA_Urban_subset/Test/Mask/5432.png, sadece görüntü patch'leniyor\n"
          ]
        },
        {
          "output_type": "stream",
          "name": "stderr",
          "text": [
            "\r 33%|███▎      | 105/320 [00:47<01:35,  2.25it/s]"
          ]
        },
        {
          "output_type": "stream",
          "name": "stdout",
          "text": [
            "Mask bulunamadı: /kaggle/working/LoveDA_Urban_subset/Test/Mask/5437.png, sadece görüntü patch'leniyor\n"
          ]
        },
        {
          "output_type": "stream",
          "name": "stderr",
          "text": [
            "\r 33%|███▎      | 106/320 [00:47<01:29,  2.39it/s]"
          ]
        },
        {
          "output_type": "stream",
          "name": "stdout",
          "text": [
            "Mask bulunamadı: /kaggle/working/LoveDA_Urban_subset/Test/Mask/5439.png, sadece görüntü patch'leniyor\n"
          ]
        },
        {
          "output_type": "stream",
          "name": "stderr",
          "text": [
            "\r 33%|███▎      | 107/320 [00:48<01:37,  2.18it/s]"
          ]
        },
        {
          "output_type": "stream",
          "name": "stdout",
          "text": [
            "Mask bulunamadı: /kaggle/working/LoveDA_Urban_subset/Test/Mask/5441.png, sadece görüntü patch'leniyor\n"
          ]
        },
        {
          "output_type": "stream",
          "name": "stderr",
          "text": [
            "\r 34%|███▍      | 108/320 [00:48<01:33,  2.28it/s]"
          ]
        },
        {
          "output_type": "stream",
          "name": "stdout",
          "text": [
            "Mask bulunamadı: /kaggle/working/LoveDA_Urban_subset/Test/Mask/5442.png, sadece görüntü patch'leniyor\n"
          ]
        },
        {
          "output_type": "stream",
          "name": "stderr",
          "text": [
            "\r 34%|███▍      | 109/320 [00:48<01:29,  2.36it/s]"
          ]
        },
        {
          "output_type": "stream",
          "name": "stdout",
          "text": [
            "Mask bulunamadı: /kaggle/working/LoveDA_Urban_subset/Test/Mask/5443.png, sadece görüntü patch'leniyor\n"
          ]
        },
        {
          "output_type": "stream",
          "name": "stderr",
          "text": [
            "\r 34%|███▍      | 110/320 [00:49<01:25,  2.46it/s]"
          ]
        },
        {
          "output_type": "stream",
          "name": "stdout",
          "text": [
            "Mask bulunamadı: /kaggle/working/LoveDA_Urban_subset/Test/Mask/5444.png, sadece görüntü patch'leniyor\n"
          ]
        },
        {
          "output_type": "stream",
          "name": "stderr",
          "text": [
            "\r 35%|███▍      | 111/320 [00:49<01:34,  2.21it/s]"
          ]
        },
        {
          "output_type": "stream",
          "name": "stdout",
          "text": [
            "Mask bulunamadı: /kaggle/working/LoveDA_Urban_subset/Test/Mask/5445.png, sadece görüntü patch'leniyor\n"
          ]
        },
        {
          "output_type": "stream",
          "name": "stderr",
          "text": [
            "\r 35%|███▌      | 112/320 [00:50<01:25,  2.42it/s]"
          ]
        },
        {
          "output_type": "stream",
          "name": "stdout",
          "text": [
            "Mask bulunamadı: /kaggle/working/LoveDA_Urban_subset/Test/Mask/5447.png, sadece görüntü patch'leniyor\n"
          ]
        },
        {
          "output_type": "stream",
          "name": "stderr",
          "text": [
            "\r 35%|███▌      | 113/320 [00:50<01:35,  2.16it/s]"
          ]
        },
        {
          "output_type": "stream",
          "name": "stdout",
          "text": [
            "Mask bulunamadı: /kaggle/working/LoveDA_Urban_subset/Test/Mask/5449.png, sadece görüntü patch'leniyor\n"
          ]
        },
        {
          "output_type": "stream",
          "name": "stderr",
          "text": [
            "\r 36%|███▌      | 114/320 [00:51<01:47,  1.92it/s]"
          ]
        },
        {
          "output_type": "stream",
          "name": "stdout",
          "text": [
            "Mask bulunamadı: /kaggle/working/LoveDA_Urban_subset/Test/Mask/5450.png, sadece görüntü patch'leniyor\n"
          ]
        },
        {
          "output_type": "stream",
          "name": "stderr",
          "text": [
            "\r 36%|███▌      | 115/320 [00:51<01:36,  2.13it/s]"
          ]
        },
        {
          "output_type": "stream",
          "name": "stdout",
          "text": [
            "Mask bulunamadı: /kaggle/working/LoveDA_Urban_subset/Test/Mask/5451.png, sadece görüntü patch'leniyor\n"
          ]
        },
        {
          "output_type": "stream",
          "name": "stderr",
          "text": [
            "\r 36%|███▋      | 116/320 [00:52<01:40,  2.02it/s]"
          ]
        },
        {
          "output_type": "stream",
          "name": "stdout",
          "text": [
            "Mask bulunamadı: /kaggle/working/LoveDA_Urban_subset/Test/Mask/5452.png, sadece görüntü patch'leniyor\n"
          ]
        },
        {
          "output_type": "stream",
          "name": "stderr",
          "text": [
            "\r 37%|███▋      | 117/320 [00:52<01:44,  1.94it/s]"
          ]
        },
        {
          "output_type": "stream",
          "name": "stdout",
          "text": [
            "Mask bulunamadı: /kaggle/working/LoveDA_Urban_subset/Test/Mask/5453.png, sadece görüntü patch'leniyor\n"
          ]
        },
        {
          "output_type": "stream",
          "name": "stderr",
          "text": [
            "\r 37%|███▋      | 118/320 [00:53<01:30,  2.24it/s]"
          ]
        },
        {
          "output_type": "stream",
          "name": "stdout",
          "text": [
            "Mask bulunamadı: /kaggle/working/LoveDA_Urban_subset/Test/Mask/5456.png, sadece görüntü patch'leniyor\n"
          ]
        },
        {
          "output_type": "stream",
          "name": "stderr",
          "text": [
            "\r 37%|███▋      | 119/320 [00:53<01:23,  2.40it/s]"
          ]
        },
        {
          "output_type": "stream",
          "name": "stdout",
          "text": [
            "Mask bulunamadı: /kaggle/working/LoveDA_Urban_subset/Test/Mask/5458.png, sadece görüntü patch'leniyor\n"
          ]
        },
        {
          "output_type": "stream",
          "name": "stderr",
          "text": [
            "\r 38%|███▊      | 120/320 [00:53<01:18,  2.56it/s]"
          ]
        },
        {
          "output_type": "stream",
          "name": "stdout",
          "text": [
            "Mask bulunamadı: /kaggle/working/LoveDA_Urban_subset/Test/Mask/5462.png, sadece görüntü patch'leniyor\n"
          ]
        },
        {
          "output_type": "stream",
          "name": "stderr",
          "text": [
            "\r 38%|███▊      | 121/320 [00:54<01:15,  2.65it/s]"
          ]
        },
        {
          "output_type": "stream",
          "name": "stdout",
          "text": [
            "Mask bulunamadı: /kaggle/working/LoveDA_Urban_subset/Test/Mask/5465.png, sadece görüntü patch'leniyor\n"
          ]
        },
        {
          "output_type": "stream",
          "name": "stderr",
          "text": [
            "\r 38%|███▊      | 122/320 [00:54<01:13,  2.68it/s]"
          ]
        },
        {
          "output_type": "stream",
          "name": "stdout",
          "text": [
            "Mask bulunamadı: /kaggle/working/LoveDA_Urban_subset/Test/Mask/5466.png, sadece görüntü patch'leniyor\n"
          ]
        },
        {
          "output_type": "stream",
          "name": "stderr",
          "text": [
            "\r 38%|███▊      | 123/320 [00:54<01:11,  2.74it/s]"
          ]
        },
        {
          "output_type": "stream",
          "name": "stdout",
          "text": [
            "Mask bulunamadı: /kaggle/working/LoveDA_Urban_subset/Test/Mask/5468.png, sadece görüntü patch'leniyor\n"
          ]
        },
        {
          "output_type": "stream",
          "name": "stderr",
          "text": [
            "\r 39%|███▉      | 124/320 [00:55<01:11,  2.73it/s]"
          ]
        },
        {
          "output_type": "stream",
          "name": "stdout",
          "text": [
            "Mask bulunamadı: /kaggle/working/LoveDA_Urban_subset/Test/Mask/5470.png, sadece görüntü patch'leniyor\n"
          ]
        },
        {
          "output_type": "stream",
          "name": "stderr",
          "text": [
            "\r 39%|███▉      | 125/320 [00:55<01:24,  2.30it/s]"
          ]
        },
        {
          "output_type": "stream",
          "name": "stdout",
          "text": [
            "Mask bulunamadı: /kaggle/working/LoveDA_Urban_subset/Test/Mask/5471.png, sadece görüntü patch'leniyor\n"
          ]
        },
        {
          "output_type": "stream",
          "name": "stderr",
          "text": [
            "\r 39%|███▉      | 126/320 [00:56<01:21,  2.39it/s]"
          ]
        },
        {
          "output_type": "stream",
          "name": "stdout",
          "text": [
            "Mask bulunamadı: /kaggle/working/LoveDA_Urban_subset/Test/Mask/5475.png, sadece görüntü patch'leniyor\n"
          ]
        },
        {
          "output_type": "stream",
          "name": "stderr",
          "text": [
            "\r 40%|███▉      | 127/320 [00:56<01:24,  2.28it/s]"
          ]
        },
        {
          "output_type": "stream",
          "name": "stdout",
          "text": [
            "Mask bulunamadı: /kaggle/working/LoveDA_Urban_subset/Test/Mask/5476.png, sadece görüntü patch'leniyor\n"
          ]
        },
        {
          "output_type": "stream",
          "name": "stderr",
          "text": [
            "\r 40%|████      | 128/320 [00:57<01:21,  2.36it/s]"
          ]
        },
        {
          "output_type": "stream",
          "name": "stdout",
          "text": [
            "Mask bulunamadı: /kaggle/working/LoveDA_Urban_subset/Test/Mask/5478.png, sadece görüntü patch'leniyor\n"
          ]
        },
        {
          "output_type": "stream",
          "name": "stderr",
          "text": [
            "\r 40%|████      | 129/320 [00:57<01:17,  2.48it/s]"
          ]
        },
        {
          "output_type": "stream",
          "name": "stdout",
          "text": [
            "Mask bulunamadı: /kaggle/working/LoveDA_Urban_subset/Test/Mask/5479.png, sadece görüntü patch'leniyor\n"
          ]
        },
        {
          "output_type": "stream",
          "name": "stderr",
          "text": [
            "\r 41%|████      | 130/320 [00:57<01:11,  2.66it/s]"
          ]
        },
        {
          "output_type": "stream",
          "name": "stdout",
          "text": [
            "Mask bulunamadı: /kaggle/working/LoveDA_Urban_subset/Test/Mask/5480.png, sadece görüntü patch'leniyor\n"
          ]
        },
        {
          "output_type": "stream",
          "name": "stderr",
          "text": [
            "\r 41%|████      | 131/320 [00:58<01:12,  2.61it/s]"
          ]
        },
        {
          "output_type": "stream",
          "name": "stdout",
          "text": [
            "Mask bulunamadı: /kaggle/working/LoveDA_Urban_subset/Test/Mask/5481.png, sadece görüntü patch'leniyor\n"
          ]
        },
        {
          "output_type": "stream",
          "name": "stderr",
          "text": [
            "\r 41%|████▏     | 132/320 [00:58<01:18,  2.40it/s]"
          ]
        },
        {
          "output_type": "stream",
          "name": "stdout",
          "text": [
            "Mask bulunamadı: /kaggle/working/LoveDA_Urban_subset/Test/Mask/5485.png, sadece görüntü patch'leniyor\n"
          ]
        },
        {
          "output_type": "stream",
          "name": "stderr",
          "text": [
            "\r 42%|████▏     | 133/320 [00:59<01:26,  2.16it/s]"
          ]
        },
        {
          "output_type": "stream",
          "name": "stdout",
          "text": [
            "Mask bulunamadı: /kaggle/working/LoveDA_Urban_subset/Test/Mask/5486.png, sadece görüntü patch'leniyor\n"
          ]
        },
        {
          "output_type": "stream",
          "name": "stderr",
          "text": [
            "\r 42%|████▏     | 134/320 [00:59<01:15,  2.45it/s]"
          ]
        },
        {
          "output_type": "stream",
          "name": "stdout",
          "text": [
            "Mask bulunamadı: /kaggle/working/LoveDA_Urban_subset/Test/Mask/5487.png, sadece görüntü patch'leniyor\n"
          ]
        },
        {
          "output_type": "stream",
          "name": "stderr",
          "text": [
            "\r 42%|████▏     | 135/320 [01:00<01:26,  2.15it/s]"
          ]
        },
        {
          "output_type": "stream",
          "name": "stdout",
          "text": [
            "Mask bulunamadı: /kaggle/working/LoveDA_Urban_subset/Test/Mask/5489.png, sadece görüntü patch'leniyor\n"
          ]
        },
        {
          "output_type": "stream",
          "name": "stderr",
          "text": [
            "\r 42%|████▎     | 136/320 [01:00<01:15,  2.45it/s]"
          ]
        },
        {
          "output_type": "stream",
          "name": "stdout",
          "text": [
            "Mask bulunamadı: /kaggle/working/LoveDA_Urban_subset/Test/Mask/5490.png, sadece görüntü patch'leniyor\n"
          ]
        },
        {
          "output_type": "stream",
          "name": "stderr",
          "text": [
            "\r 43%|████▎     | 137/320 [01:00<01:14,  2.44it/s]"
          ]
        },
        {
          "output_type": "stream",
          "name": "stdout",
          "text": [
            "Mask bulunamadı: /kaggle/working/LoveDA_Urban_subset/Test/Mask/5495.png, sadece görüntü patch'leniyor\n"
          ]
        },
        {
          "output_type": "stream",
          "name": "stderr",
          "text": [
            "\r 43%|████▎     | 138/320 [01:01<01:25,  2.13it/s]"
          ]
        },
        {
          "output_type": "stream",
          "name": "stdout",
          "text": [
            "Mask bulunamadı: /kaggle/working/LoveDA_Urban_subset/Test/Mask/5497.png, sadece görüntü patch'leniyor\n"
          ]
        },
        {
          "output_type": "stream",
          "name": "stderr",
          "text": [
            "\r 43%|████▎     | 139/320 [01:01<01:16,  2.36it/s]"
          ]
        },
        {
          "output_type": "stream",
          "name": "stdout",
          "text": [
            "Mask bulunamadı: /kaggle/working/LoveDA_Urban_subset/Test/Mask/5498.png, sadece görüntü patch'leniyor\n"
          ]
        },
        {
          "output_type": "stream",
          "name": "stderr",
          "text": [
            "\r 44%|████▍     | 140/320 [01:01<01:08,  2.62it/s]"
          ]
        },
        {
          "output_type": "stream",
          "name": "stdout",
          "text": [
            "Mask bulunamadı: /kaggle/working/LoveDA_Urban_subset/Test/Mask/5499.png, sadece görüntü patch'leniyor\n"
          ]
        },
        {
          "output_type": "stream",
          "name": "stderr",
          "text": [
            "\r 44%|████▍     | 141/320 [01:02<01:03,  2.83it/s]"
          ]
        },
        {
          "output_type": "stream",
          "name": "stdout",
          "text": [
            "Mask bulunamadı: /kaggle/working/LoveDA_Urban_subset/Test/Mask/5504.png, sadece görüntü patch'leniyor\n"
          ]
        },
        {
          "output_type": "stream",
          "name": "stderr",
          "text": [
            "\r 44%|████▍     | 142/320 [01:02<01:16,  2.32it/s]"
          ]
        },
        {
          "output_type": "stream",
          "name": "stdout",
          "text": [
            "Mask bulunamadı: /kaggle/working/LoveDA_Urban_subset/Test/Mask/5505.png, sadece görüntü patch'leniyor\n"
          ]
        },
        {
          "output_type": "stream",
          "name": "stderr",
          "text": [
            "\r 45%|████▍     | 143/320 [01:03<01:12,  2.46it/s]"
          ]
        },
        {
          "output_type": "stream",
          "name": "stdout",
          "text": [
            "Mask bulunamadı: /kaggle/working/LoveDA_Urban_subset/Test/Mask/5508.png, sadece görüntü patch'leniyor\n"
          ]
        },
        {
          "output_type": "stream",
          "name": "stderr",
          "text": [
            "\r 45%|████▌     | 144/320 [01:03<01:14,  2.37it/s]"
          ]
        },
        {
          "output_type": "stream",
          "name": "stdout",
          "text": [
            "Mask bulunamadı: /kaggle/working/LoveDA_Urban_subset/Test/Mask/5511.png, sadece görüntü patch'leniyor\n"
          ]
        },
        {
          "output_type": "stream",
          "name": "stderr",
          "text": [
            "\r 45%|████▌     | 145/320 [01:04<01:11,  2.43it/s]"
          ]
        },
        {
          "output_type": "stream",
          "name": "stdout",
          "text": [
            "Mask bulunamadı: /kaggle/working/LoveDA_Urban_subset/Test/Mask/5515.png, sadece görüntü patch'leniyor\n"
          ]
        },
        {
          "output_type": "stream",
          "name": "stderr",
          "text": [
            "\r 46%|████▌     | 146/320 [01:04<01:09,  2.50it/s]"
          ]
        },
        {
          "output_type": "stream",
          "name": "stdout",
          "text": [
            "Mask bulunamadı: /kaggle/working/LoveDA_Urban_subset/Test/Mask/5516.png, sadece görüntü patch'leniyor\n"
          ]
        },
        {
          "output_type": "stream",
          "name": "stderr",
          "text": [
            "\r 46%|████▌     | 147/320 [01:05<01:22,  2.11it/s]"
          ]
        },
        {
          "output_type": "stream",
          "name": "stdout",
          "text": [
            "Mask bulunamadı: /kaggle/working/LoveDA_Urban_subset/Test/Mask/5519.png, sadece görüntü patch'leniyor\n"
          ]
        },
        {
          "output_type": "stream",
          "name": "stderr",
          "text": [
            "\r 46%|████▋     | 148/320 [01:05<01:17,  2.22it/s]"
          ]
        },
        {
          "output_type": "stream",
          "name": "stdout",
          "text": [
            "Mask bulunamadı: /kaggle/working/LoveDA_Urban_subset/Test/Mask/5522.png, sadece görüntü patch'leniyor\n"
          ]
        },
        {
          "output_type": "stream",
          "name": "stderr",
          "text": [
            "\r 47%|████▋     | 149/320 [01:05<01:13,  2.31it/s]"
          ]
        },
        {
          "output_type": "stream",
          "name": "stdout",
          "text": [
            "Mask bulunamadı: /kaggle/working/LoveDA_Urban_subset/Test/Mask/5523.png, sadece görüntü patch'leniyor\n"
          ]
        },
        {
          "output_type": "stream",
          "name": "stderr",
          "text": [
            "\r 47%|████▋     | 150/320 [01:06<01:04,  2.63it/s]"
          ]
        },
        {
          "output_type": "stream",
          "name": "stdout",
          "text": [
            "Mask bulunamadı: /kaggle/working/LoveDA_Urban_subset/Test/Mask/5527.png, sadece görüntü patch'leniyor\n"
          ]
        },
        {
          "output_type": "stream",
          "name": "stderr",
          "text": [
            "\r 47%|████▋     | 151/320 [01:06<01:02,  2.71it/s]"
          ]
        },
        {
          "output_type": "stream",
          "name": "stdout",
          "text": [
            "Mask bulunamadı: /kaggle/working/LoveDA_Urban_subset/Test/Mask/5530.png, sadece görüntü patch'leniyor\n"
          ]
        },
        {
          "output_type": "stream",
          "name": "stderr",
          "text": [
            "\r 48%|████▊     | 152/320 [01:07<01:12,  2.33it/s]"
          ]
        },
        {
          "output_type": "stream",
          "name": "stdout",
          "text": [
            "Mask bulunamadı: /kaggle/working/LoveDA_Urban_subset/Test/Mask/5536.png, sadece görüntü patch'leniyor\n"
          ]
        },
        {
          "output_type": "stream",
          "name": "stderr",
          "text": [
            "\r 48%|████▊     | 153/320 [01:07<01:12,  2.31it/s]"
          ]
        },
        {
          "output_type": "stream",
          "name": "stdout",
          "text": [
            "Mask bulunamadı: /kaggle/working/LoveDA_Urban_subset/Test/Mask/5537.png, sadece görüntü patch'leniyor\n"
          ]
        },
        {
          "output_type": "stream",
          "name": "stderr",
          "text": [
            "\r 48%|████▊     | 154/320 [01:07<01:07,  2.45it/s]"
          ]
        },
        {
          "output_type": "stream",
          "name": "stdout",
          "text": [
            "Mask bulunamadı: /kaggle/working/LoveDA_Urban_subset/Test/Mask/5544.png, sadece görüntü patch'leniyor\n"
          ]
        },
        {
          "output_type": "stream",
          "name": "stderr",
          "text": [
            "\r 48%|████▊     | 155/320 [01:08<01:04,  2.56it/s]"
          ]
        },
        {
          "output_type": "stream",
          "name": "stdout",
          "text": [
            "Mask bulunamadı: /kaggle/working/LoveDA_Urban_subset/Test/Mask/5546.png, sadece görüntü patch'leniyor\n"
          ]
        },
        {
          "output_type": "stream",
          "name": "stderr",
          "text": [
            "\r 49%|████▉     | 156/320 [01:08<01:07,  2.43it/s]"
          ]
        },
        {
          "output_type": "stream",
          "name": "stdout",
          "text": [
            "Mask bulunamadı: /kaggle/working/LoveDA_Urban_subset/Test/Mask/5551.png, sadece görüntü patch'leniyor\n"
          ]
        },
        {
          "output_type": "stream",
          "name": "stderr",
          "text": [
            "\r 49%|████▉     | 157/320 [01:09<01:13,  2.21it/s]"
          ]
        },
        {
          "output_type": "stream",
          "name": "stdout",
          "text": [
            "Mask bulunamadı: /kaggle/working/LoveDA_Urban_subset/Test/Mask/5554.png, sadece görüntü patch'leniyor\n"
          ]
        },
        {
          "output_type": "stream",
          "name": "stderr",
          "text": [
            "\r 49%|████▉     | 158/320 [01:09<01:10,  2.30it/s]"
          ]
        },
        {
          "output_type": "stream",
          "name": "stdout",
          "text": [
            "Mask bulunamadı: /kaggle/working/LoveDA_Urban_subset/Test/Mask/5555.png, sadece görüntü patch'leniyor\n"
          ]
        },
        {
          "output_type": "stream",
          "name": "stderr",
          "text": [
            "\r 50%|████▉     | 159/320 [01:10<01:16,  2.10it/s]"
          ]
        },
        {
          "output_type": "stream",
          "name": "stdout",
          "text": [
            "Mask bulunamadı: /kaggle/working/LoveDA_Urban_subset/Test/Mask/5556.png, sadece görüntü patch'leniyor\n"
          ]
        },
        {
          "output_type": "stream",
          "name": "stderr",
          "text": [
            "\r 50%|█████     | 160/320 [01:10<01:19,  2.02it/s]"
          ]
        },
        {
          "output_type": "stream",
          "name": "stdout",
          "text": [
            "Mask bulunamadı: /kaggle/working/LoveDA_Urban_subset/Test/Mask/5573.png, sadece görüntü patch'leniyor\n"
          ]
        },
        {
          "output_type": "stream",
          "name": "stderr",
          "text": [
            "\r 50%|█████     | 161/320 [01:11<01:16,  2.07it/s]"
          ]
        },
        {
          "output_type": "stream",
          "name": "stdout",
          "text": [
            "Mask bulunamadı: /kaggle/working/LoveDA_Urban_subset/Test/Mask/5577.png, sadece görüntü patch'leniyor\n"
          ]
        },
        {
          "output_type": "stream",
          "name": "stderr",
          "text": [
            "\r 51%|█████     | 162/320 [01:11<01:07,  2.35it/s]"
          ]
        },
        {
          "output_type": "stream",
          "name": "stdout",
          "text": [
            "Mask bulunamadı: /kaggle/working/LoveDA_Urban_subset/Test/Mask/5579.png, sadece görüntü patch'leniyor\n"
          ]
        },
        {
          "output_type": "stream",
          "name": "stderr",
          "text": [
            "\r 51%|█████     | 163/320 [01:11<01:05,  2.38it/s]"
          ]
        },
        {
          "output_type": "stream",
          "name": "stdout",
          "text": [
            "Mask bulunamadı: /kaggle/working/LoveDA_Urban_subset/Test/Mask/5580.png, sadece görüntü patch'leniyor\n"
          ]
        },
        {
          "output_type": "stream",
          "name": "stderr",
          "text": [
            "\r 51%|█████▏    | 164/320 [01:12<01:01,  2.52it/s]"
          ]
        },
        {
          "output_type": "stream",
          "name": "stdout",
          "text": [
            "Mask bulunamadı: /kaggle/working/LoveDA_Urban_subset/Test/Mask/5581.png, sadece görüntü patch'leniyor\n"
          ]
        },
        {
          "output_type": "stream",
          "name": "stderr",
          "text": [
            "\r 52%|█████▏    | 165/320 [01:12<00:56,  2.73it/s]"
          ]
        },
        {
          "output_type": "stream",
          "name": "stdout",
          "text": [
            "Mask bulunamadı: /kaggle/working/LoveDA_Urban_subset/Test/Mask/5583.png, sadece görüntü patch'leniyor\n"
          ]
        },
        {
          "output_type": "stream",
          "name": "stderr",
          "text": [
            "\r 52%|█████▏    | 166/320 [01:13<01:06,  2.31it/s]"
          ]
        },
        {
          "output_type": "stream",
          "name": "stdout",
          "text": [
            "Mask bulunamadı: /kaggle/working/LoveDA_Urban_subset/Test/Mask/5585.png, sadece görüntü patch'leniyor\n"
          ]
        },
        {
          "output_type": "stream",
          "name": "stderr",
          "text": [
            "\r 52%|█████▏    | 167/320 [01:13<01:08,  2.23it/s]"
          ]
        },
        {
          "output_type": "stream",
          "name": "stdout",
          "text": [
            "Mask bulunamadı: /kaggle/working/LoveDA_Urban_subset/Test/Mask/5588.png, sadece görüntü patch'leniyor\n"
          ]
        },
        {
          "output_type": "stream",
          "name": "stderr",
          "text": [
            "\r 52%|█████▎    | 168/320 [01:13<01:05,  2.31it/s]"
          ]
        },
        {
          "output_type": "stream",
          "name": "stdout",
          "text": [
            "Mask bulunamadı: /kaggle/working/LoveDA_Urban_subset/Test/Mask/5590.png, sadece görüntü patch'leniyor\n"
          ]
        },
        {
          "output_type": "stream",
          "name": "stderr",
          "text": [
            "\r 53%|█████▎    | 169/320 [01:14<01:13,  2.05it/s]"
          ]
        },
        {
          "output_type": "stream",
          "name": "stdout",
          "text": [
            "Mask bulunamadı: /kaggle/working/LoveDA_Urban_subset/Test/Mask/5593.png, sadece görüntü patch'leniyor\n"
          ]
        },
        {
          "output_type": "stream",
          "name": "stderr",
          "text": [
            "\r 53%|█████▎    | 170/320 [01:15<01:16,  1.96it/s]"
          ]
        },
        {
          "output_type": "stream",
          "name": "stdout",
          "text": [
            "Mask bulunamadı: /kaggle/working/LoveDA_Urban_subset/Test/Mask/5597.png, sadece görüntü patch'leniyor\n"
          ]
        },
        {
          "output_type": "stream",
          "name": "stderr",
          "text": [
            "\r 53%|█████▎    | 171/320 [01:15<01:12,  2.05it/s]"
          ]
        },
        {
          "output_type": "stream",
          "name": "stdout",
          "text": [
            "Mask bulunamadı: /kaggle/working/LoveDA_Urban_subset/Test/Mask/5602.png, sadece görüntü patch'leniyor\n"
          ]
        },
        {
          "output_type": "stream",
          "name": "stderr",
          "text": [
            "\r 54%|█████▍    | 172/320 [01:15<01:10,  2.09it/s]"
          ]
        },
        {
          "output_type": "stream",
          "name": "stdout",
          "text": [
            "Mask bulunamadı: /kaggle/working/LoveDA_Urban_subset/Test/Mask/5605.png, sadece görüntü patch'leniyor\n"
          ]
        },
        {
          "output_type": "stream",
          "name": "stderr",
          "text": [
            "\r 54%|█████▍    | 173/320 [01:16<01:05,  2.23it/s]"
          ]
        },
        {
          "output_type": "stream",
          "name": "stdout",
          "text": [
            "Mask bulunamadı: /kaggle/working/LoveDA_Urban_subset/Test/Mask/5606.png, sadece görüntü patch'leniyor\n"
          ]
        },
        {
          "output_type": "stream",
          "name": "stderr",
          "text": [
            "\r 54%|█████▍    | 174/320 [01:16<00:57,  2.53it/s]"
          ]
        },
        {
          "output_type": "stream",
          "name": "stdout",
          "text": [
            "Mask bulunamadı: /kaggle/working/LoveDA_Urban_subset/Test/Mask/5609.png, sadece görüntü patch'leniyor\n"
          ]
        },
        {
          "output_type": "stream",
          "name": "stderr",
          "text": [
            "\r 55%|█████▍    | 175/320 [01:17<00:56,  2.57it/s]"
          ]
        },
        {
          "output_type": "stream",
          "name": "stdout",
          "text": [
            "Mask bulunamadı: /kaggle/working/LoveDA_Urban_subset/Test/Mask/5610.png, sadece görüntü patch'leniyor\n"
          ]
        },
        {
          "output_type": "stream",
          "name": "stderr",
          "text": [
            "\r 55%|█████▌    | 176/320 [01:17<00:54,  2.67it/s]"
          ]
        },
        {
          "output_type": "stream",
          "name": "stdout",
          "text": [
            "Mask bulunamadı: /kaggle/working/LoveDA_Urban_subset/Test/Mask/5612.png, sadece görüntü patch'leniyor\n"
          ]
        },
        {
          "output_type": "stream",
          "name": "stderr",
          "text": [
            "\r 55%|█████▌    | 177/320 [01:17<00:51,  2.77it/s]"
          ]
        },
        {
          "output_type": "stream",
          "name": "stdout",
          "text": [
            "Mask bulunamadı: /kaggle/working/LoveDA_Urban_subset/Test/Mask/5613.png, sadece görüntü patch'leniyor\n"
          ]
        },
        {
          "output_type": "stream",
          "name": "stderr",
          "text": [
            "\r 56%|█████▌    | 178/320 [01:18<00:49,  2.85it/s]"
          ]
        },
        {
          "output_type": "stream",
          "name": "stdout",
          "text": [
            "Mask bulunamadı: /kaggle/working/LoveDA_Urban_subset/Test/Mask/5615.png, sadece görüntü patch'leniyor\n"
          ]
        },
        {
          "output_type": "stream",
          "name": "stderr",
          "text": [
            "\r 56%|█████▌    | 179/320 [01:18<00:47,  2.96it/s]"
          ]
        },
        {
          "output_type": "stream",
          "name": "stdout",
          "text": [
            "Mask bulunamadı: /kaggle/working/LoveDA_Urban_subset/Test/Mask/5616.png, sadece görüntü patch'leniyor\n"
          ]
        },
        {
          "output_type": "stream",
          "name": "stderr",
          "text": [
            "\r 56%|█████▋    | 180/320 [01:18<00:53,  2.61it/s]"
          ]
        },
        {
          "output_type": "stream",
          "name": "stdout",
          "text": [
            "Mask bulunamadı: /kaggle/working/LoveDA_Urban_subset/Test/Mask/5618.png, sadece görüntü patch'leniyor\n"
          ]
        },
        {
          "output_type": "stream",
          "name": "stderr",
          "text": [
            "\r 57%|█████▋    | 181/320 [01:19<01:00,  2.31it/s]"
          ]
        },
        {
          "output_type": "stream",
          "name": "stdout",
          "text": [
            "Mask bulunamadı: /kaggle/working/LoveDA_Urban_subset/Test/Mask/5619.png, sadece görüntü patch'leniyor\n"
          ]
        },
        {
          "output_type": "stream",
          "name": "stderr",
          "text": [
            "\r 57%|█████▋    | 182/320 [01:19<00:59,  2.33it/s]"
          ]
        },
        {
          "output_type": "stream",
          "name": "stdout",
          "text": [
            "Mask bulunamadı: /kaggle/working/LoveDA_Urban_subset/Test/Mask/5620.png, sadece görüntü patch'leniyor\n"
          ]
        },
        {
          "output_type": "stream",
          "name": "stderr",
          "text": [
            "\r 57%|█████▋    | 183/320 [01:20<00:57,  2.40it/s]"
          ]
        },
        {
          "output_type": "stream",
          "name": "stdout",
          "text": [
            "Mask bulunamadı: /kaggle/working/LoveDA_Urban_subset/Test/Mask/5625.png, sadece görüntü patch'leniyor\n"
          ]
        },
        {
          "output_type": "stream",
          "name": "stderr",
          "text": [
            "\r 57%|█████▊    | 184/320 [01:20<01:02,  2.16it/s]"
          ]
        },
        {
          "output_type": "stream",
          "name": "stdout",
          "text": [
            "Mask bulunamadı: /kaggle/working/LoveDA_Urban_subset/Test/Mask/5628.png, sadece görüntü patch'leniyor\n"
          ]
        },
        {
          "output_type": "stream",
          "name": "stderr",
          "text": [
            "\r 58%|█████▊    | 185/320 [01:21<00:55,  2.45it/s]"
          ]
        },
        {
          "output_type": "stream",
          "name": "stdout",
          "text": [
            "Mask bulunamadı: /kaggle/working/LoveDA_Urban_subset/Test/Mask/5631.png, sadece görüntü patch'leniyor\n"
          ]
        },
        {
          "output_type": "stream",
          "name": "stderr",
          "text": [
            "\r 58%|█████▊    | 186/320 [01:21<00:56,  2.37it/s]"
          ]
        },
        {
          "output_type": "stream",
          "name": "stdout",
          "text": [
            "Mask bulunamadı: /kaggle/working/LoveDA_Urban_subset/Test/Mask/5632.png, sadece görüntü patch'leniyor\n"
          ]
        },
        {
          "output_type": "stream",
          "name": "stderr",
          "text": [
            "\r 58%|█████▊    | 187/320 [01:21<00:54,  2.43it/s]"
          ]
        },
        {
          "output_type": "stream",
          "name": "stdout",
          "text": [
            "Mask bulunamadı: /kaggle/working/LoveDA_Urban_subset/Test/Mask/5637.png, sadece görüntü patch'leniyor\n"
          ]
        },
        {
          "output_type": "stream",
          "name": "stderr",
          "text": [
            "\r 59%|█████▉    | 188/320 [01:22<00:54,  2.44it/s]"
          ]
        },
        {
          "output_type": "stream",
          "name": "stdout",
          "text": [
            "Mask bulunamadı: /kaggle/working/LoveDA_Urban_subset/Test/Mask/5640.png, sadece görüntü patch'leniyor\n"
          ]
        },
        {
          "output_type": "stream",
          "name": "stderr",
          "text": [
            "\r 59%|█████▉    | 189/320 [01:22<00:53,  2.46it/s]"
          ]
        },
        {
          "output_type": "stream",
          "name": "stdout",
          "text": [
            "Mask bulunamadı: /kaggle/working/LoveDA_Urban_subset/Test/Mask/5642.png, sadece görüntü patch'leniyor\n"
          ]
        },
        {
          "output_type": "stream",
          "name": "stderr",
          "text": [
            "\r 59%|█████▉    | 190/320 [01:23<00:57,  2.24it/s]"
          ]
        },
        {
          "output_type": "stream",
          "name": "stdout",
          "text": [
            "Mask bulunamadı: /kaggle/working/LoveDA_Urban_subset/Test/Mask/5643.png, sadece görüntü patch'leniyor\n"
          ]
        },
        {
          "output_type": "stream",
          "name": "stderr",
          "text": [
            "\r 60%|█████▉    | 191/320 [01:23<00:53,  2.41it/s]"
          ]
        },
        {
          "output_type": "stream",
          "name": "stdout",
          "text": [
            "Mask bulunamadı: /kaggle/working/LoveDA_Urban_subset/Test/Mask/5646.png, sadece görüntü patch'leniyor\n"
          ]
        },
        {
          "output_type": "stream",
          "name": "stderr",
          "text": [
            "\r 60%|██████    | 192/320 [01:23<00:51,  2.50it/s]"
          ]
        },
        {
          "output_type": "stream",
          "name": "stdout",
          "text": [
            "Mask bulunamadı: /kaggle/working/LoveDA_Urban_subset/Test/Mask/5647.png, sadece görüntü patch'leniyor\n"
          ]
        },
        {
          "output_type": "stream",
          "name": "stderr",
          "text": [
            "\r 60%|██████    | 193/320 [01:24<00:50,  2.50it/s]"
          ]
        },
        {
          "output_type": "stream",
          "name": "stdout",
          "text": [
            "Mask bulunamadı: /kaggle/working/LoveDA_Urban_subset/Test/Mask/5648.png, sadece görüntü patch'leniyor\n"
          ]
        },
        {
          "output_type": "stream",
          "name": "stderr",
          "text": [
            "\r 61%|██████    | 194/320 [01:24<00:56,  2.25it/s]"
          ]
        },
        {
          "output_type": "stream",
          "name": "stdout",
          "text": [
            "Mask bulunamadı: /kaggle/working/LoveDA_Urban_subset/Test/Mask/5651.png, sadece görüntü patch'leniyor\n"
          ]
        },
        {
          "output_type": "stream",
          "name": "stderr",
          "text": [
            "\r 61%|██████    | 195/320 [01:25<00:58,  2.13it/s]"
          ]
        },
        {
          "output_type": "stream",
          "name": "stdout",
          "text": [
            "Mask bulunamadı: /kaggle/working/LoveDA_Urban_subset/Test/Mask/5654.png, sadece görüntü patch'leniyor\n"
          ]
        },
        {
          "output_type": "stream",
          "name": "stderr",
          "text": [
            "\r 61%|██████▏   | 196/320 [01:25<00:58,  2.11it/s]"
          ]
        },
        {
          "output_type": "stream",
          "name": "stdout",
          "text": [
            "Mask bulunamadı: /kaggle/working/LoveDA_Urban_subset/Test/Mask/5656.png, sadece görüntü patch'leniyor\n"
          ]
        },
        {
          "output_type": "stream",
          "name": "stderr",
          "text": [
            "\r 62%|██████▏   | 197/320 [01:26<01:02,  1.97it/s]"
          ]
        },
        {
          "output_type": "stream",
          "name": "stdout",
          "text": [
            "Mask bulunamadı: /kaggle/working/LoveDA_Urban_subset/Test/Mask/5657.png, sadece görüntü patch'leniyor\n"
          ]
        },
        {
          "output_type": "stream",
          "name": "stderr",
          "text": [
            "\r 62%|██████▏   | 198/320 [01:27<01:05,  1.86it/s]"
          ]
        },
        {
          "output_type": "stream",
          "name": "stdout",
          "text": [
            "Mask bulunamadı: /kaggle/working/LoveDA_Urban_subset/Test/Mask/5662.png, sadece görüntü patch'leniyor\n"
          ]
        },
        {
          "output_type": "stream",
          "name": "stderr",
          "text": [
            "\r 62%|██████▏   | 199/320 [01:27<00:56,  2.15it/s]"
          ]
        },
        {
          "output_type": "stream",
          "name": "stdout",
          "text": [
            "Mask bulunamadı: /kaggle/working/LoveDA_Urban_subset/Test/Mask/5666.png, sadece görüntü patch'leniyor\n"
          ]
        },
        {
          "output_type": "stream",
          "name": "stderr",
          "text": [
            "\r 62%|██████▎   | 200/320 [01:27<00:51,  2.32it/s]"
          ]
        },
        {
          "output_type": "stream",
          "name": "stdout",
          "text": [
            "Mask bulunamadı: /kaggle/working/LoveDA_Urban_subset/Test/Mask/5667.png, sadece görüntü patch'leniyor\n"
          ]
        },
        {
          "output_type": "stream",
          "name": "stderr",
          "text": [
            "\r 63%|██████▎   | 201/320 [01:28<00:57,  2.06it/s]"
          ]
        },
        {
          "output_type": "stream",
          "name": "stdout",
          "text": [
            "Mask bulunamadı: /kaggle/working/LoveDA_Urban_subset/Test/Mask/5668.png, sadece görüntü patch'leniyor\n"
          ]
        },
        {
          "output_type": "stream",
          "name": "stderr",
          "text": [
            "\r 63%|██████▎   | 202/320 [01:28<01:02,  1.90it/s]"
          ]
        },
        {
          "output_type": "stream",
          "name": "stdout",
          "text": [
            "Mask bulunamadı: /kaggle/working/LoveDA_Urban_subset/Test/Mask/5669.png, sadece görüntü patch'leniyor\n"
          ]
        },
        {
          "output_type": "stream",
          "name": "stderr",
          "text": [
            "\r 63%|██████▎   | 203/320 [01:29<00:57,  2.02it/s]"
          ]
        },
        {
          "output_type": "stream",
          "name": "stdout",
          "text": [
            "Mask bulunamadı: /kaggle/working/LoveDA_Urban_subset/Test/Mask/5670.png, sadece görüntü patch'leniyor\n"
          ]
        },
        {
          "output_type": "stream",
          "name": "stderr",
          "text": [
            "\r 64%|██████▍   | 204/320 [01:29<01:00,  1.93it/s]"
          ]
        },
        {
          "output_type": "stream",
          "name": "stdout",
          "text": [
            "Mask bulunamadı: /kaggle/working/LoveDA_Urban_subset/Test/Mask/5672.png, sadece görüntü patch'leniyor\n"
          ]
        },
        {
          "output_type": "stream",
          "name": "stderr",
          "text": [
            "\r 64%|██████▍   | 205/320 [01:30<01:02,  1.84it/s]"
          ]
        },
        {
          "output_type": "stream",
          "name": "stdout",
          "text": [
            "Mask bulunamadı: /kaggle/working/LoveDA_Urban_subset/Test/Mask/5673.png, sadece görüntü patch'leniyor\n"
          ]
        },
        {
          "output_type": "stream",
          "name": "stderr",
          "text": [
            "\r 64%|██████▍   | 206/320 [01:31<00:59,  1.91it/s]"
          ]
        },
        {
          "output_type": "stream",
          "name": "stdout",
          "text": [
            "Mask bulunamadı: /kaggle/working/LoveDA_Urban_subset/Test/Mask/5674.png, sadece görüntü patch'leniyor\n"
          ]
        },
        {
          "output_type": "stream",
          "name": "stderr",
          "text": [
            "\r 65%|██████▍   | 207/320 [01:31<00:53,  2.13it/s]"
          ]
        },
        {
          "output_type": "stream",
          "name": "stdout",
          "text": [
            "Mask bulunamadı: /kaggle/working/LoveDA_Urban_subset/Test/Mask/5679.png, sadece görüntü patch'leniyor\n"
          ]
        },
        {
          "output_type": "stream",
          "name": "stderr",
          "text": [
            "\r 65%|██████▌   | 208/320 [01:31<00:46,  2.40it/s]"
          ]
        },
        {
          "output_type": "stream",
          "name": "stdout",
          "text": [
            "Mask bulunamadı: /kaggle/working/LoveDA_Urban_subset/Test/Mask/5685.png, sadece görüntü patch'leniyor\n"
          ]
        },
        {
          "output_type": "stream",
          "name": "stderr",
          "text": [
            "\r 65%|██████▌   | 209/320 [01:32<00:54,  2.05it/s]"
          ]
        },
        {
          "output_type": "stream",
          "name": "stdout",
          "text": [
            "Mask bulunamadı: /kaggle/working/LoveDA_Urban_subset/Test/Mask/5696.png, sadece görüntü patch'leniyor\n"
          ]
        },
        {
          "output_type": "stream",
          "name": "stderr",
          "text": [
            "\r 66%|██████▌   | 210/320 [01:32<00:54,  2.02it/s]"
          ]
        },
        {
          "output_type": "stream",
          "name": "stdout",
          "text": [
            "Mask bulunamadı: /kaggle/working/LoveDA_Urban_subset/Test/Mask/5698.png, sadece görüntü patch'leniyor\n"
          ]
        },
        {
          "output_type": "stream",
          "name": "stderr",
          "text": [
            "\r 66%|██████▌   | 211/320 [01:33<00:53,  2.02it/s]"
          ]
        },
        {
          "output_type": "stream",
          "name": "stdout",
          "text": [
            "Mask bulunamadı: /kaggle/working/LoveDA_Urban_subset/Test/Mask/5701.png, sadece görüntü patch'leniyor\n"
          ]
        },
        {
          "output_type": "stream",
          "name": "stderr",
          "text": [
            "\r 66%|██████▋   | 212/320 [01:33<00:50,  2.13it/s]"
          ]
        },
        {
          "output_type": "stream",
          "name": "stdout",
          "text": [
            "Mask bulunamadı: /kaggle/working/LoveDA_Urban_subset/Test/Mask/5702.png, sadece görüntü patch'leniyor\n"
          ]
        },
        {
          "output_type": "stream",
          "name": "stderr",
          "text": [
            "\r 67%|██████▋   | 213/320 [01:34<00:48,  2.21it/s]"
          ]
        },
        {
          "output_type": "stream",
          "name": "stdout",
          "text": [
            "Mask bulunamadı: /kaggle/working/LoveDA_Urban_subset/Test/Mask/5704.png, sadece görüntü patch'leniyor\n"
          ]
        },
        {
          "output_type": "stream",
          "name": "stderr",
          "text": [
            "\r 67%|██████▋   | 214/320 [01:34<00:46,  2.29it/s]"
          ]
        },
        {
          "output_type": "stream",
          "name": "stdout",
          "text": [
            "Mask bulunamadı: /kaggle/working/LoveDA_Urban_subset/Test/Mask/5706.png, sadece görüntü patch'leniyor\n"
          ]
        },
        {
          "output_type": "stream",
          "name": "stderr",
          "text": [
            "\r 67%|██████▋   | 215/320 [01:34<00:42,  2.47it/s]"
          ]
        },
        {
          "output_type": "stream",
          "name": "stdout",
          "text": [
            "Mask bulunamadı: /kaggle/working/LoveDA_Urban_subset/Test/Mask/5710.png, sadece görüntü patch'leniyor\n"
          ]
        },
        {
          "output_type": "stream",
          "name": "stderr",
          "text": [
            "\r 68%|██████▊   | 216/320 [01:35<00:48,  2.14it/s]"
          ]
        },
        {
          "output_type": "stream",
          "name": "stdout",
          "text": [
            "Mask bulunamadı: /kaggle/working/LoveDA_Urban_subset/Test/Mask/5712.png, sadece görüntü patch'leniyor\n"
          ]
        },
        {
          "output_type": "stream",
          "name": "stderr",
          "text": [
            "\r 68%|██████▊   | 217/320 [01:35<00:45,  2.25it/s]"
          ]
        },
        {
          "output_type": "stream",
          "name": "stdout",
          "text": [
            "Mask bulunamadı: /kaggle/working/LoveDA_Urban_subset/Test/Mask/5713.png, sadece görüntü patch'leniyor\n"
          ]
        },
        {
          "output_type": "stream",
          "name": "stderr",
          "text": [
            "\r 68%|██████▊   | 218/320 [01:36<00:42,  2.40it/s]"
          ]
        },
        {
          "output_type": "stream",
          "name": "stdout",
          "text": [
            "Mask bulunamadı: /kaggle/working/LoveDA_Urban_subset/Test/Mask/5715.png, sadece görüntü patch'leniyor\n"
          ]
        },
        {
          "output_type": "stream",
          "name": "stderr",
          "text": [
            "\r 68%|██████▊   | 219/320 [01:36<00:47,  2.12it/s]"
          ]
        },
        {
          "output_type": "stream",
          "name": "stdout",
          "text": [
            "Mask bulunamadı: /kaggle/working/LoveDA_Urban_subset/Test/Mask/5716.png, sadece görüntü patch'leniyor\n"
          ]
        },
        {
          "output_type": "stream",
          "name": "stderr",
          "text": [
            "\r 69%|██████▉   | 220/320 [01:37<00:50,  1.98it/s]"
          ]
        },
        {
          "output_type": "stream",
          "name": "stdout",
          "text": [
            "Mask bulunamadı: /kaggle/working/LoveDA_Urban_subset/Test/Mask/5717.png, sadece görüntü patch'leniyor\n"
          ]
        },
        {
          "output_type": "stream",
          "name": "stderr",
          "text": [
            "\r 69%|██████▉   | 221/320 [01:37<00:45,  2.18it/s]"
          ]
        },
        {
          "output_type": "stream",
          "name": "stdout",
          "text": [
            "Mask bulunamadı: /kaggle/working/LoveDA_Urban_subset/Test/Mask/5718.png, sadece görüntü patch'leniyor\n"
          ]
        },
        {
          "output_type": "stream",
          "name": "stderr",
          "text": [
            "\r 69%|██████▉   | 222/320 [01:38<00:39,  2.45it/s]"
          ]
        },
        {
          "output_type": "stream",
          "name": "stdout",
          "text": [
            "Mask bulunamadı: /kaggle/working/LoveDA_Urban_subset/Test/Mask/5719.png, sadece görüntü patch'leniyor\n"
          ]
        },
        {
          "output_type": "stream",
          "name": "stderr",
          "text": [
            "\r 70%|██████▉   | 223/320 [01:38<00:40,  2.42it/s]"
          ]
        },
        {
          "output_type": "stream",
          "name": "stdout",
          "text": [
            "Mask bulunamadı: /kaggle/working/LoveDA_Urban_subset/Test/Mask/5724.png, sadece görüntü patch'leniyor\n"
          ]
        },
        {
          "output_type": "stream",
          "name": "stderr",
          "text": [
            "\r 70%|███████   | 224/320 [01:38<00:40,  2.39it/s]"
          ]
        },
        {
          "output_type": "stream",
          "name": "stdout",
          "text": [
            "Mask bulunamadı: /kaggle/working/LoveDA_Urban_subset/Test/Mask/5730.png, sadece görüntü patch'leniyor\n"
          ]
        },
        {
          "output_type": "stream",
          "name": "stderr",
          "text": [
            "\r 70%|███████   | 225/320 [01:39<00:45,  2.07it/s]"
          ]
        },
        {
          "output_type": "stream",
          "name": "stdout",
          "text": [
            "Mask bulunamadı: /kaggle/working/LoveDA_Urban_subset/Test/Mask/5732.png, sadece görüntü patch'leniyor\n"
          ]
        },
        {
          "output_type": "stream",
          "name": "stderr",
          "text": [
            "\r 71%|███████   | 226/320 [01:39<00:42,  2.23it/s]"
          ]
        },
        {
          "output_type": "stream",
          "name": "stdout",
          "text": [
            "Mask bulunamadı: /kaggle/working/LoveDA_Urban_subset/Test/Mask/5733.png, sadece görüntü patch'leniyor\n"
          ]
        },
        {
          "output_type": "stream",
          "name": "stderr",
          "text": [
            "\r 71%|███████   | 227/320 [01:40<00:38,  2.41it/s]"
          ]
        },
        {
          "output_type": "stream",
          "name": "stdout",
          "text": [
            "Mask bulunamadı: /kaggle/working/LoveDA_Urban_subset/Test/Mask/5735.png, sadece görüntü patch'leniyor\n"
          ]
        },
        {
          "output_type": "stream",
          "name": "stderr",
          "text": [
            "\r 71%|███████▏  | 228/320 [01:40<00:37,  2.48it/s]"
          ]
        },
        {
          "output_type": "stream",
          "name": "stdout",
          "text": [
            "Mask bulunamadı: /kaggle/working/LoveDA_Urban_subset/Test/Mask/5736.png, sadece görüntü patch'leniyor\n"
          ]
        },
        {
          "output_type": "stream",
          "name": "stderr",
          "text": [
            "\r 72%|███████▏  | 229/320 [01:40<00:34,  2.64it/s]"
          ]
        },
        {
          "output_type": "stream",
          "name": "stdout",
          "text": [
            "Mask bulunamadı: /kaggle/working/LoveDA_Urban_subset/Test/Mask/5738.png, sadece görüntü patch'leniyor\n"
          ]
        },
        {
          "output_type": "stream",
          "name": "stderr",
          "text": [
            "\r 72%|███████▏  | 230/320 [01:41<00:41,  2.17it/s]"
          ]
        },
        {
          "output_type": "stream",
          "name": "stdout",
          "text": [
            "Mask bulunamadı: /kaggle/working/LoveDA_Urban_subset/Test/Mask/5743.png, sadece görüntü patch'leniyor\n"
          ]
        },
        {
          "output_type": "stream",
          "name": "stderr",
          "text": [
            "\r 72%|███████▏  | 231/320 [01:42<00:40,  2.19it/s]"
          ]
        },
        {
          "output_type": "stream",
          "name": "stdout",
          "text": [
            "Mask bulunamadı: /kaggle/working/LoveDA_Urban_subset/Test/Mask/5744.png, sadece görüntü patch'leniyor\n"
          ]
        },
        {
          "output_type": "stream",
          "name": "stderr",
          "text": [
            "\r 72%|███████▎  | 232/320 [01:42<00:40,  2.17it/s]"
          ]
        },
        {
          "output_type": "stream",
          "name": "stdout",
          "text": [
            "Mask bulunamadı: /kaggle/working/LoveDA_Urban_subset/Test/Mask/5746.png, sadece görüntü patch'leniyor\n"
          ]
        },
        {
          "output_type": "stream",
          "name": "stderr",
          "text": [
            "\r 73%|███████▎  | 233/320 [01:43<00:42,  2.07it/s]"
          ]
        },
        {
          "output_type": "stream",
          "name": "stdout",
          "text": [
            "Mask bulunamadı: /kaggle/working/LoveDA_Urban_subset/Test/Mask/5749.png, sadece görüntü patch'leniyor\n"
          ]
        },
        {
          "output_type": "stream",
          "name": "stderr",
          "text": [
            "\r 73%|███████▎  | 234/320 [01:43<00:45,  1.88it/s]"
          ]
        },
        {
          "output_type": "stream",
          "name": "stdout",
          "text": [
            "Mask bulunamadı: /kaggle/working/LoveDA_Urban_subset/Test/Mask/5750.png, sadece görüntü patch'leniyor\n"
          ]
        },
        {
          "output_type": "stream",
          "name": "stderr",
          "text": [
            "\r 73%|███████▎  | 235/320 [01:44<00:43,  1.97it/s]"
          ]
        },
        {
          "output_type": "stream",
          "name": "stdout",
          "text": [
            "Mask bulunamadı: /kaggle/working/LoveDA_Urban_subset/Test/Mask/5751.png, sadece görüntü patch'leniyor\n"
          ]
        },
        {
          "output_type": "stream",
          "name": "stderr",
          "text": [
            "\r 74%|███████▍  | 236/320 [01:44<00:40,  2.05it/s]"
          ]
        },
        {
          "output_type": "stream",
          "name": "stdout",
          "text": [
            "Mask bulunamadı: /kaggle/working/LoveDA_Urban_subset/Test/Mask/5754.png, sadece görüntü patch'leniyor\n"
          ]
        },
        {
          "output_type": "stream",
          "name": "stderr",
          "text": [
            "\r 74%|███████▍  | 237/320 [01:45<00:43,  1.91it/s]"
          ]
        },
        {
          "output_type": "stream",
          "name": "stdout",
          "text": [
            "Mask bulunamadı: /kaggle/working/LoveDA_Urban_subset/Test/Mask/5755.png, sadece görüntü patch'leniyor\n"
          ]
        },
        {
          "output_type": "stream",
          "name": "stderr",
          "text": [
            "\r 74%|███████▍  | 238/320 [01:45<00:40,  2.04it/s]"
          ]
        },
        {
          "output_type": "stream",
          "name": "stdout",
          "text": [
            "Mask bulunamadı: /kaggle/working/LoveDA_Urban_subset/Test/Mask/5756.png, sadece görüntü patch'leniyor\n"
          ]
        },
        {
          "output_type": "stream",
          "name": "stderr",
          "text": [
            "\r 75%|███████▍  | 239/320 [01:46<00:42,  1.92it/s]"
          ]
        },
        {
          "output_type": "stream",
          "name": "stdout",
          "text": [
            "Mask bulunamadı: /kaggle/working/LoveDA_Urban_subset/Test/Mask/5757.png, sadece görüntü patch'leniyor\n"
          ]
        },
        {
          "output_type": "stream",
          "name": "stderr",
          "text": [
            "\r 75%|███████▌  | 240/320 [01:46<00:43,  1.83it/s]"
          ]
        },
        {
          "output_type": "stream",
          "name": "stdout",
          "text": [
            "Mask bulunamadı: /kaggle/working/LoveDA_Urban_subset/Test/Mask/5759.png, sadece görüntü patch'leniyor\n"
          ]
        },
        {
          "output_type": "stream",
          "name": "stderr",
          "text": [
            "\r 75%|███████▌  | 241/320 [01:47<00:38,  2.05it/s]"
          ]
        },
        {
          "output_type": "stream",
          "name": "stdout",
          "text": [
            "Mask bulunamadı: /kaggle/working/LoveDA_Urban_subset/Test/Mask/5762.png, sadece görüntü patch'leniyor\n"
          ]
        },
        {
          "output_type": "stream",
          "name": "stderr",
          "text": [
            "\r 76%|███████▌  | 242/320 [01:47<00:34,  2.23it/s]"
          ]
        },
        {
          "output_type": "stream",
          "name": "stdout",
          "text": [
            "Mask bulunamadı: /kaggle/working/LoveDA_Urban_subset/Test/Mask/5764.png, sadece görüntü patch'leniyor\n"
          ]
        },
        {
          "output_type": "stream",
          "name": "stderr",
          "text": [
            "\r 76%|███████▌  | 243/320 [01:47<00:35,  2.19it/s]"
          ]
        },
        {
          "output_type": "stream",
          "name": "stdout",
          "text": [
            "Mask bulunamadı: /kaggle/working/LoveDA_Urban_subset/Test/Mask/5766.png, sadece görüntü patch'leniyor\n"
          ]
        },
        {
          "output_type": "stream",
          "name": "stderr",
          "text": [
            "\r 76%|███████▋  | 244/320 [01:48<00:33,  2.28it/s]"
          ]
        },
        {
          "output_type": "stream",
          "name": "stdout",
          "text": [
            "Mask bulunamadı: /kaggle/working/LoveDA_Urban_subset/Test/Mask/5769.png, sadece görüntü patch'leniyor\n"
          ]
        },
        {
          "output_type": "stream",
          "name": "stderr",
          "text": [
            "\r 77%|███████▋  | 245/320 [01:48<00:31,  2.40it/s]"
          ]
        },
        {
          "output_type": "stream",
          "name": "stdout",
          "text": [
            "Mask bulunamadı: /kaggle/working/LoveDA_Urban_subset/Test/Mask/5770.png, sadece görüntü patch'leniyor\n"
          ]
        },
        {
          "output_type": "stream",
          "name": "stderr",
          "text": [
            "\r 77%|███████▋  | 246/320 [01:49<00:28,  2.57it/s]"
          ]
        },
        {
          "output_type": "stream",
          "name": "stdout",
          "text": [
            "Mask bulunamadı: /kaggle/working/LoveDA_Urban_subset/Test/Mask/5773.png, sadece görüntü patch'leniyor\n"
          ]
        },
        {
          "output_type": "stream",
          "name": "stderr",
          "text": [
            "\r 77%|███████▋  | 247/320 [01:49<00:26,  2.80it/s]"
          ]
        },
        {
          "output_type": "stream",
          "name": "stdout",
          "text": [
            "Mask bulunamadı: /kaggle/working/LoveDA_Urban_subset/Test/Mask/5777.png, sadece görüntü patch'leniyor\n"
          ]
        },
        {
          "output_type": "stream",
          "name": "stderr",
          "text": [
            "\r 78%|███████▊  | 248/320 [01:49<00:26,  2.73it/s]"
          ]
        },
        {
          "output_type": "stream",
          "name": "stdout",
          "text": [
            "Mask bulunamadı: /kaggle/working/LoveDA_Urban_subset/Test/Mask/5778.png, sadece görüntü patch'leniyor\n"
          ]
        },
        {
          "output_type": "stream",
          "name": "stderr",
          "text": [
            "\r 78%|███████▊  | 249/320 [01:50<00:28,  2.53it/s]"
          ]
        },
        {
          "output_type": "stream",
          "name": "stdout",
          "text": [
            "Mask bulunamadı: /kaggle/working/LoveDA_Urban_subset/Test/Mask/5781.png, sadece görüntü patch'leniyor\n"
          ]
        },
        {
          "output_type": "stream",
          "name": "stderr",
          "text": [
            "\r 78%|███████▊  | 250/320 [01:50<00:26,  2.66it/s]"
          ]
        },
        {
          "output_type": "stream",
          "name": "stdout",
          "text": [
            "Mask bulunamadı: /kaggle/working/LoveDA_Urban_subset/Test/Mask/5787.png, sadece görüntü patch'leniyor\n"
          ]
        },
        {
          "output_type": "stream",
          "name": "stderr",
          "text": [
            "\r 78%|███████▊  | 251/320 [01:50<00:26,  2.60it/s]"
          ]
        },
        {
          "output_type": "stream",
          "name": "stdout",
          "text": [
            "Mask bulunamadı: /kaggle/working/LoveDA_Urban_subset/Test/Mask/5788.png, sadece görüntü patch'leniyor\n"
          ]
        },
        {
          "output_type": "stream",
          "name": "stderr",
          "text": [
            "\r 79%|███████▉  | 252/320 [01:51<00:30,  2.24it/s]"
          ]
        },
        {
          "output_type": "stream",
          "name": "stdout",
          "text": [
            "Mask bulunamadı: /kaggle/working/LoveDA_Urban_subset/Test/Mask/5789.png, sadece görüntü patch'leniyor\n"
          ]
        },
        {
          "output_type": "stream",
          "name": "stderr",
          "text": [
            "\r 79%|███████▉  | 253/320 [01:52<00:32,  2.08it/s]"
          ]
        },
        {
          "output_type": "stream",
          "name": "stdout",
          "text": [
            "Mask bulunamadı: /kaggle/working/LoveDA_Urban_subset/Test/Mask/5791.png, sadece görüntü patch'leniyor\n"
          ]
        },
        {
          "output_type": "stream",
          "name": "stderr",
          "text": [
            "\r 79%|███████▉  | 254/320 [01:52<00:31,  2.11it/s]"
          ]
        },
        {
          "output_type": "stream",
          "name": "stdout",
          "text": [
            "Mask bulunamadı: /kaggle/working/LoveDA_Urban_subset/Test/Mask/5792.png, sadece görüntü patch'leniyor\n"
          ]
        },
        {
          "output_type": "stream",
          "name": "stderr",
          "text": [
            "\r 80%|███████▉  | 255/320 [01:52<00:28,  2.28it/s]"
          ]
        },
        {
          "output_type": "stream",
          "name": "stdout",
          "text": [
            "Mask bulunamadı: /kaggle/working/LoveDA_Urban_subset/Test/Mask/5794.png, sadece görüntü patch'leniyor\n"
          ]
        },
        {
          "output_type": "stream",
          "name": "stderr",
          "text": [
            "\r 80%|████████  | 256/320 [01:53<00:24,  2.59it/s]"
          ]
        },
        {
          "output_type": "stream",
          "name": "stdout",
          "text": [
            "Mask bulunamadı: /kaggle/working/LoveDA_Urban_subset/Test/Mask/5795.png, sadece görüntü patch'leniyor\n"
          ]
        },
        {
          "output_type": "stream",
          "name": "stderr",
          "text": [
            "\r 80%|████████  | 257/320 [01:53<00:27,  2.31it/s]"
          ]
        },
        {
          "output_type": "stream",
          "name": "stdout",
          "text": [
            "Mask bulunamadı: /kaggle/working/LoveDA_Urban_subset/Test/Mask/5797.png, sadece görüntü patch'leniyor\n"
          ]
        },
        {
          "output_type": "stream",
          "name": "stderr",
          "text": [
            "\r 81%|████████  | 258/320 [01:54<00:28,  2.17it/s]"
          ]
        },
        {
          "output_type": "stream",
          "name": "stdout",
          "text": [
            "Mask bulunamadı: /kaggle/working/LoveDA_Urban_subset/Test/Mask/5799.png, sadece görüntü patch'leniyor\n"
          ]
        },
        {
          "output_type": "stream",
          "name": "stderr",
          "text": [
            "\r 81%|████████  | 259/320 [01:54<00:28,  2.16it/s]"
          ]
        },
        {
          "output_type": "stream",
          "name": "stdout",
          "text": [
            "Mask bulunamadı: /kaggle/working/LoveDA_Urban_subset/Test/Mask/5803.png, sadece görüntü patch'leniyor\n"
          ]
        },
        {
          "output_type": "stream",
          "name": "stderr",
          "text": [
            "\r 81%|████████▏ | 260/320 [01:55<00:25,  2.37it/s]"
          ]
        },
        {
          "output_type": "stream",
          "name": "stdout",
          "text": [
            "Mask bulunamadı: /kaggle/working/LoveDA_Urban_subset/Test/Mask/5809.png, sadece görüntü patch'leniyor\n"
          ]
        },
        {
          "output_type": "stream",
          "name": "stderr",
          "text": [
            "\r 82%|████████▏ | 261/320 [01:55<00:25,  2.31it/s]"
          ]
        },
        {
          "output_type": "stream",
          "name": "stdout",
          "text": [
            "Mask bulunamadı: /kaggle/working/LoveDA_Urban_subset/Test/Mask/5813.png, sadece görüntü patch'leniyor\n"
          ]
        },
        {
          "output_type": "stream",
          "name": "stderr",
          "text": [
            "\r 82%|████████▏ | 262/320 [01:55<00:24,  2.36it/s]"
          ]
        },
        {
          "output_type": "stream",
          "name": "stdout",
          "text": [
            "Mask bulunamadı: /kaggle/working/LoveDA_Urban_subset/Test/Mask/5814.png, sadece görüntü patch'leniyor\n"
          ]
        },
        {
          "output_type": "stream",
          "name": "stderr",
          "text": [
            "\r 82%|████████▏ | 263/320 [01:56<00:25,  2.26it/s]"
          ]
        },
        {
          "output_type": "stream",
          "name": "stdout",
          "text": [
            "Mask bulunamadı: /kaggle/working/LoveDA_Urban_subset/Test/Mask/5817.png, sadece görüntü patch'leniyor\n"
          ]
        },
        {
          "output_type": "stream",
          "name": "stderr",
          "text": [
            "\r 82%|████████▎ | 264/320 [01:56<00:25,  2.19it/s]"
          ]
        },
        {
          "output_type": "stream",
          "name": "stdout",
          "text": [
            "Mask bulunamadı: /kaggle/working/LoveDA_Urban_subset/Test/Mask/5827.png, sadece görüntü patch'leniyor\n"
          ]
        },
        {
          "output_type": "stream",
          "name": "stderr",
          "text": [
            "\r 83%|████████▎ | 265/320 [01:57<00:23,  2.33it/s]"
          ]
        },
        {
          "output_type": "stream",
          "name": "stdout",
          "text": [
            "Mask bulunamadı: /kaggle/working/LoveDA_Urban_subset/Test/Mask/5828.png, sadece görüntü patch'leniyor\n"
          ]
        },
        {
          "output_type": "stream",
          "name": "stderr",
          "text": [
            "\r 83%|████████▎ | 266/320 [01:57<00:27,  1.98it/s]"
          ]
        },
        {
          "output_type": "stream",
          "name": "stdout",
          "text": [
            "Mask bulunamadı: /kaggle/working/LoveDA_Urban_subset/Test/Mask/5830.png, sadece görüntü patch'leniyor\n"
          ]
        },
        {
          "output_type": "stream",
          "name": "stderr",
          "text": [
            "\r 83%|████████▎ | 267/320 [01:58<00:24,  2.17it/s]"
          ]
        },
        {
          "output_type": "stream",
          "name": "stdout",
          "text": [
            "Mask bulunamadı: /kaggle/working/LoveDA_Urban_subset/Test/Mask/5833.png, sadece görüntü patch'leniyor\n"
          ]
        },
        {
          "output_type": "stream",
          "name": "stderr",
          "text": [
            "\r 84%|████████▍ | 268/320 [01:58<00:25,  2.07it/s]"
          ]
        },
        {
          "output_type": "stream",
          "name": "stdout",
          "text": [
            "Mask bulunamadı: /kaggle/working/LoveDA_Urban_subset/Test/Mask/5834.png, sadece görüntü patch'leniyor\n"
          ]
        },
        {
          "output_type": "stream",
          "name": "stderr",
          "text": [
            "\r 84%|████████▍ | 269/320 [01:59<00:23,  2.18it/s]"
          ]
        },
        {
          "output_type": "stream",
          "name": "stdout",
          "text": [
            "Mask bulunamadı: /kaggle/working/LoveDA_Urban_subset/Test/Mask/5844.png, sadece görüntü patch'leniyor\n"
          ]
        },
        {
          "output_type": "stream",
          "name": "stderr",
          "text": [
            "\r 84%|████████▍ | 270/320 [01:59<00:25,  1.98it/s]"
          ]
        },
        {
          "output_type": "stream",
          "name": "stdout",
          "text": [
            "Mask bulunamadı: /kaggle/working/LoveDA_Urban_subset/Test/Mask/5845.png, sadece görüntü patch'leniyor\n"
          ]
        },
        {
          "output_type": "stream",
          "name": "stderr",
          "text": [
            "\r 85%|████████▍ | 271/320 [02:00<00:25,  1.90it/s]"
          ]
        },
        {
          "output_type": "stream",
          "name": "stdout",
          "text": [
            "Mask bulunamadı: /kaggle/working/LoveDA_Urban_subset/Test/Mask/5846.png, sadece görüntü patch'leniyor\n"
          ]
        },
        {
          "output_type": "stream",
          "name": "stderr",
          "text": [
            "\r 85%|████████▌ | 272/320 [02:00<00:24,  2.00it/s]"
          ]
        },
        {
          "output_type": "stream",
          "name": "stdout",
          "text": [
            "Mask bulunamadı: /kaggle/working/LoveDA_Urban_subset/Test/Mask/5849.png, sadece görüntü patch'leniyor\n"
          ]
        },
        {
          "output_type": "stream",
          "name": "stderr",
          "text": [
            "\r 85%|████████▌ | 273/320 [02:01<00:23,  1.97it/s]"
          ]
        },
        {
          "output_type": "stream",
          "name": "stdout",
          "text": [
            "Mask bulunamadı: /kaggle/working/LoveDA_Urban_subset/Test/Mask/5851.png, sadece görüntü patch'leniyor\n"
          ]
        },
        {
          "output_type": "stream",
          "name": "stderr",
          "text": [
            "\r 86%|████████▌ | 274/320 [02:01<00:23,  1.92it/s]"
          ]
        },
        {
          "output_type": "stream",
          "name": "stdout",
          "text": [
            "Mask bulunamadı: /kaggle/working/LoveDA_Urban_subset/Test/Mask/5852.png, sadece görüntü patch'leniyor\n"
          ]
        },
        {
          "output_type": "stream",
          "name": "stderr",
          "text": [
            "\r 86%|████████▌ | 275/320 [02:02<00:21,  2.05it/s]"
          ]
        },
        {
          "output_type": "stream",
          "name": "stdout",
          "text": [
            "Mask bulunamadı: /kaggle/working/LoveDA_Urban_subset/Test/Mask/5857.png, sadece görüntü patch'leniyor\n"
          ]
        },
        {
          "output_type": "stream",
          "name": "stderr",
          "text": [
            "\r 86%|████████▋ | 276/320 [02:02<00:22,  1.91it/s]"
          ]
        },
        {
          "output_type": "stream",
          "name": "stdout",
          "text": [
            "Mask bulunamadı: /kaggle/working/LoveDA_Urban_subset/Test/Mask/5860.png, sadece görüntü patch'leniyor\n"
          ]
        },
        {
          "output_type": "stream",
          "name": "stderr",
          "text": [
            "\r 87%|████████▋ | 277/320 [02:03<00:19,  2.17it/s]"
          ]
        },
        {
          "output_type": "stream",
          "name": "stdout",
          "text": [
            "Mask bulunamadı: /kaggle/working/LoveDA_Urban_subset/Test/Mask/5865.png, sadece görüntü patch'leniyor\n"
          ]
        },
        {
          "output_type": "stream",
          "name": "stderr",
          "text": [
            "\r 87%|████████▋ | 278/320 [02:03<00:17,  2.46it/s]"
          ]
        },
        {
          "output_type": "stream",
          "name": "stdout",
          "text": [
            "Mask bulunamadı: /kaggle/working/LoveDA_Urban_subset/Test/Mask/5866.png, sadece görüntü patch'leniyor\n"
          ]
        },
        {
          "output_type": "stream",
          "name": "stderr",
          "text": [
            "\r 87%|████████▋ | 279/320 [02:03<00:17,  2.38it/s]"
          ]
        },
        {
          "output_type": "stream",
          "name": "stdout",
          "text": [
            "Mask bulunamadı: /kaggle/working/LoveDA_Urban_subset/Test/Mask/5867.png, sadece görüntü patch'leniyor\n"
          ]
        },
        {
          "output_type": "stream",
          "name": "stderr",
          "text": [
            "\r 88%|████████▊ | 280/320 [02:04<00:17,  2.33it/s]"
          ]
        },
        {
          "output_type": "stream",
          "name": "stdout",
          "text": [
            "Mask bulunamadı: /kaggle/working/LoveDA_Urban_subset/Test/Mask/5873.png, sadece görüntü patch'leniyor\n"
          ]
        },
        {
          "output_type": "stream",
          "name": "stderr",
          "text": [
            "\r 88%|████████▊ | 281/320 [02:04<00:16,  2.40it/s]"
          ]
        },
        {
          "output_type": "stream",
          "name": "stdout",
          "text": [
            "Mask bulunamadı: /kaggle/working/LoveDA_Urban_subset/Test/Mask/5874.png, sadece görüntü patch'leniyor\n"
          ]
        },
        {
          "output_type": "stream",
          "name": "stderr",
          "text": [
            "\r 88%|████████▊ | 282/320 [02:05<00:17,  2.14it/s]"
          ]
        },
        {
          "output_type": "stream",
          "name": "stdout",
          "text": [
            "Mask bulunamadı: /kaggle/working/LoveDA_Urban_subset/Test/Mask/5879.png, sadece görüntü patch'leniyor\n"
          ]
        },
        {
          "output_type": "stream",
          "name": "stderr",
          "text": [
            "\r 88%|████████▊ | 283/320 [02:05<00:18,  2.00it/s]"
          ]
        },
        {
          "output_type": "stream",
          "name": "stdout",
          "text": [
            "Mask bulunamadı: /kaggle/working/LoveDA_Urban_subset/Test/Mask/5880.png, sadece görüntü patch'leniyor\n"
          ]
        },
        {
          "output_type": "stream",
          "name": "stderr",
          "text": [
            "\r 89%|████████▉ | 284/320 [02:06<00:18,  1.94it/s]"
          ]
        },
        {
          "output_type": "stream",
          "name": "stdout",
          "text": [
            "Mask bulunamadı: /kaggle/working/LoveDA_Urban_subset/Test/Mask/5881.png, sadece görüntü patch'leniyor\n"
          ]
        },
        {
          "output_type": "stream",
          "name": "stderr",
          "text": [
            "\r 89%|████████▉ | 285/320 [02:07<00:18,  1.84it/s]"
          ]
        },
        {
          "output_type": "stream",
          "name": "stdout",
          "text": [
            "Mask bulunamadı: /kaggle/working/LoveDA_Urban_subset/Test/Mask/5883.png, sadece görüntü patch'leniyor\n"
          ]
        },
        {
          "output_type": "stream",
          "name": "stderr",
          "text": [
            "\r 89%|████████▉ | 286/320 [02:07<00:16,  2.07it/s]"
          ]
        },
        {
          "output_type": "stream",
          "name": "stdout",
          "text": [
            "Mask bulunamadı: /kaggle/working/LoveDA_Urban_subset/Test/Mask/5891.png, sadece görüntü patch'leniyor\n"
          ]
        },
        {
          "output_type": "stream",
          "name": "stderr",
          "text": [
            "\r 90%|████████▉ | 287/320 [02:07<00:14,  2.33it/s]"
          ]
        },
        {
          "output_type": "stream",
          "name": "stdout",
          "text": [
            "Mask bulunamadı: /kaggle/working/LoveDA_Urban_subset/Test/Mask/5892.png, sadece görüntü patch'leniyor\n"
          ]
        },
        {
          "output_type": "stream",
          "name": "stderr",
          "text": [
            "\r 90%|█████████ | 288/320 [02:08<00:14,  2.22it/s]"
          ]
        },
        {
          "output_type": "stream",
          "name": "stdout",
          "text": [
            "Mask bulunamadı: /kaggle/working/LoveDA_Urban_subset/Test/Mask/5896.png, sadece görüntü patch'leniyor\n"
          ]
        },
        {
          "output_type": "stream",
          "name": "stderr",
          "text": [
            "\r 90%|█████████ | 289/320 [02:08<00:13,  2.35it/s]"
          ]
        },
        {
          "output_type": "stream",
          "name": "stdout",
          "text": [
            "Mask bulunamadı: /kaggle/working/LoveDA_Urban_subset/Test/Mask/5897.png, sadece görüntü patch'leniyor\n"
          ]
        },
        {
          "output_type": "stream",
          "name": "stderr",
          "text": [
            "\r 91%|█████████ | 290/320 [02:09<00:13,  2.31it/s]"
          ]
        },
        {
          "output_type": "stream",
          "name": "stdout",
          "text": [
            "Mask bulunamadı: /kaggle/working/LoveDA_Urban_subset/Test/Mask/5899.png, sadece görüntü patch'leniyor\n"
          ]
        },
        {
          "output_type": "stream",
          "name": "stderr",
          "text": [
            "\r 91%|█████████ | 291/320 [02:09<00:12,  2.35it/s]"
          ]
        },
        {
          "output_type": "stream",
          "name": "stdout",
          "text": [
            "Mask bulunamadı: /kaggle/working/LoveDA_Urban_subset/Test/Mask/5901.png, sadece görüntü patch'leniyor\n"
          ]
        },
        {
          "output_type": "stream",
          "name": "stderr",
          "text": [
            "\r 91%|█████████▏| 292/320 [02:10<00:13,  2.07it/s]"
          ]
        },
        {
          "output_type": "stream",
          "name": "stdout",
          "text": [
            "Mask bulunamadı: /kaggle/working/LoveDA_Urban_subset/Test/Mask/5902.png, sadece görüntü patch'leniyor\n"
          ]
        },
        {
          "output_type": "stream",
          "name": "stderr",
          "text": [
            "\r 92%|█████████▏| 293/320 [02:10<00:12,  2.13it/s]"
          ]
        },
        {
          "output_type": "stream",
          "name": "stdout",
          "text": [
            "Mask bulunamadı: /kaggle/working/LoveDA_Urban_subset/Test/Mask/5904.png, sadece görüntü patch'leniyor\n"
          ]
        },
        {
          "output_type": "stream",
          "name": "stderr",
          "text": [
            "\r 92%|█████████▏| 294/320 [02:10<00:11,  2.30it/s]"
          ]
        },
        {
          "output_type": "stream",
          "name": "stdout",
          "text": [
            "Mask bulunamadı: /kaggle/working/LoveDA_Urban_subset/Test/Mask/5906.png, sadece görüntü patch'leniyor\n"
          ]
        },
        {
          "output_type": "stream",
          "name": "stderr",
          "text": [
            "\r 92%|█████████▏| 295/320 [02:11<00:10,  2.28it/s]"
          ]
        },
        {
          "output_type": "stream",
          "name": "stdout",
          "text": [
            "Mask bulunamadı: /kaggle/working/LoveDA_Urban_subset/Test/Mask/5917.png, sadece görüntü patch'leniyor\n"
          ]
        },
        {
          "output_type": "stream",
          "name": "stderr",
          "text": [
            "\r 92%|█████████▎| 296/320 [02:11<00:10,  2.19it/s]"
          ]
        },
        {
          "output_type": "stream",
          "name": "stdout",
          "text": [
            "Mask bulunamadı: /kaggle/working/LoveDA_Urban_subset/Test/Mask/5923.png, sadece görüntü patch'leniyor\n"
          ]
        },
        {
          "output_type": "stream",
          "name": "stderr",
          "text": [
            "\r 93%|█████████▎| 297/320 [02:12<00:09,  2.38it/s]"
          ]
        },
        {
          "output_type": "stream",
          "name": "stdout",
          "text": [
            "Mask bulunamadı: /kaggle/working/LoveDA_Urban_subset/Test/Mask/5925.png, sadece görüntü patch'leniyor\n"
          ]
        },
        {
          "output_type": "stream",
          "name": "stderr",
          "text": [
            "\r 93%|█████████▎| 298/320 [02:12<00:08,  2.56it/s]"
          ]
        },
        {
          "output_type": "stream",
          "name": "stdout",
          "text": [
            "Mask bulunamadı: /kaggle/working/LoveDA_Urban_subset/Test/Mask/5932.png, sadece görüntü patch'leniyor\n"
          ]
        },
        {
          "output_type": "stream",
          "name": "stderr",
          "text": [
            "\r 93%|█████████▎| 299/320 [02:12<00:07,  2.69it/s]"
          ]
        },
        {
          "output_type": "stream",
          "name": "stdout",
          "text": [
            "Mask bulunamadı: /kaggle/working/LoveDA_Urban_subset/Test/Mask/5935.png, sadece görüntü patch'leniyor\n"
          ]
        },
        {
          "output_type": "stream",
          "name": "stderr",
          "text": [
            "\r 94%|█████████▍| 300/320 [02:13<00:08,  2.47it/s]"
          ]
        },
        {
          "output_type": "stream",
          "name": "stdout",
          "text": [
            "Mask bulunamadı: /kaggle/working/LoveDA_Urban_subset/Test/Mask/5936.png, sadece görüntü patch'leniyor\n"
          ]
        },
        {
          "output_type": "stream",
          "name": "stderr",
          "text": [
            "\r 94%|█████████▍| 301/320 [02:13<00:06,  2.74it/s]"
          ]
        },
        {
          "output_type": "stream",
          "name": "stdout",
          "text": [
            "Mask bulunamadı: /kaggle/working/LoveDA_Urban_subset/Test/Mask/5939.png, sadece görüntü patch'leniyor\n"
          ]
        },
        {
          "output_type": "stream",
          "name": "stderr",
          "text": [
            "\r 94%|█████████▍| 302/320 [02:13<00:06,  2.94it/s]"
          ]
        },
        {
          "output_type": "stream",
          "name": "stdout",
          "text": [
            "Mask bulunamadı: /kaggle/working/LoveDA_Urban_subset/Test/Mask/5940.png, sadece görüntü patch'leniyor\n"
          ]
        },
        {
          "output_type": "stream",
          "name": "stderr",
          "text": [
            "\r 95%|█████████▍| 303/320 [02:14<00:07,  2.38it/s]"
          ]
        },
        {
          "output_type": "stream",
          "name": "stdout",
          "text": [
            "Mask bulunamadı: /kaggle/working/LoveDA_Urban_subset/Test/Mask/5944.png, sadece görüntü patch'leniyor\n"
          ]
        },
        {
          "output_type": "stream",
          "name": "stderr",
          "text": [
            "\r 95%|█████████▌| 304/320 [02:14<00:06,  2.30it/s]"
          ]
        },
        {
          "output_type": "stream",
          "name": "stdout",
          "text": [
            "Mask bulunamadı: /kaggle/working/LoveDA_Urban_subset/Test/Mask/5950.png, sadece görüntü patch'leniyor\n"
          ]
        },
        {
          "output_type": "stream",
          "name": "stderr",
          "text": [
            "\r 95%|█████████▌| 305/320 [02:15<00:06,  2.28it/s]"
          ]
        },
        {
          "output_type": "stream",
          "name": "stdout",
          "text": [
            "Mask bulunamadı: /kaggle/working/LoveDA_Urban_subset/Test/Mask/5952.png, sadece görüntü patch'leniyor\n"
          ]
        },
        {
          "output_type": "stream",
          "name": "stderr",
          "text": [
            "\r 96%|█████████▌| 306/320 [02:15<00:06,  2.13it/s]"
          ]
        },
        {
          "output_type": "stream",
          "name": "stdout",
          "text": [
            "Mask bulunamadı: /kaggle/working/LoveDA_Urban_subset/Test/Mask/5953.png, sadece görüntü patch'leniyor\n"
          ]
        },
        {
          "output_type": "stream",
          "name": "stderr",
          "text": [
            "\r 96%|█████████▌| 307/320 [02:16<00:05,  2.33it/s]"
          ]
        },
        {
          "output_type": "stream",
          "name": "stdout",
          "text": [
            "Mask bulunamadı: /kaggle/working/LoveDA_Urban_subset/Test/Mask/5956.png, sadece görüntü patch'leniyor\n"
          ]
        },
        {
          "output_type": "stream",
          "name": "stderr",
          "text": [
            "\r 96%|█████████▋| 308/320 [02:16<00:05,  2.07it/s]"
          ]
        },
        {
          "output_type": "stream",
          "name": "stdout",
          "text": [
            "Mask bulunamadı: /kaggle/working/LoveDA_Urban_subset/Test/Mask/5958.png, sadece görüntü patch'leniyor\n"
          ]
        },
        {
          "output_type": "stream",
          "name": "stderr",
          "text": [
            "\r 97%|█████████▋| 309/320 [02:17<00:04,  2.29it/s]"
          ]
        },
        {
          "output_type": "stream",
          "name": "stdout",
          "text": [
            "Mask bulunamadı: /kaggle/working/LoveDA_Urban_subset/Test/Mask/5962.png, sadece görüntü patch'leniyor\n"
          ]
        },
        {
          "output_type": "stream",
          "name": "stderr",
          "text": [
            "\r 97%|█████████▋| 310/320 [02:17<00:04,  2.26it/s]"
          ]
        },
        {
          "output_type": "stream",
          "name": "stdout",
          "text": [
            "Mask bulunamadı: /kaggle/working/LoveDA_Urban_subset/Test/Mask/5964.png, sadece görüntü patch'leniyor\n"
          ]
        },
        {
          "output_type": "stream",
          "name": "stderr",
          "text": [
            "\r 97%|█████████▋| 311/320 [02:18<00:03,  2.27it/s]"
          ]
        },
        {
          "output_type": "stream",
          "name": "stdout",
          "text": [
            "Mask bulunamadı: /kaggle/working/LoveDA_Urban_subset/Test/Mask/5966.png, sadece görüntü patch'leniyor\n"
          ]
        },
        {
          "output_type": "stream",
          "name": "stderr",
          "text": [
            "\r 98%|█████████▊| 312/320 [02:18<00:03,  2.38it/s]"
          ]
        },
        {
          "output_type": "stream",
          "name": "stdout",
          "text": [
            "Mask bulunamadı: /kaggle/working/LoveDA_Urban_subset/Test/Mask/5968.png, sadece görüntü patch'leniyor\n"
          ]
        },
        {
          "output_type": "stream",
          "name": "stderr",
          "text": [
            "\r 98%|█████████▊| 313/320 [02:18<00:02,  2.41it/s]"
          ]
        },
        {
          "output_type": "stream",
          "name": "stdout",
          "text": [
            "Mask bulunamadı: /kaggle/working/LoveDA_Urban_subset/Test/Mask/5971.png, sadece görüntü patch'leniyor\n"
          ]
        },
        {
          "output_type": "stream",
          "name": "stderr",
          "text": [
            "\r 98%|█████████▊| 314/320 [02:19<00:02,  2.36it/s]"
          ]
        },
        {
          "output_type": "stream",
          "name": "stdout",
          "text": [
            "Mask bulunamadı: /kaggle/working/LoveDA_Urban_subset/Test/Mask/5972.png, sadece görüntü patch'leniyor\n"
          ]
        },
        {
          "output_type": "stream",
          "name": "stderr",
          "text": [
            "\r 98%|█████████▊| 315/320 [02:19<00:01,  2.64it/s]"
          ]
        },
        {
          "output_type": "stream",
          "name": "stdout",
          "text": [
            "Mask bulunamadı: /kaggle/working/LoveDA_Urban_subset/Test/Mask/5973.png, sadece görüntü patch'leniyor\n"
          ]
        },
        {
          "output_type": "stream",
          "name": "stderr",
          "text": [
            "\r 99%|█████████▉| 316/320 [02:20<00:01,  2.19it/s]"
          ]
        },
        {
          "output_type": "stream",
          "name": "stdout",
          "text": [
            "Mask bulunamadı: /kaggle/working/LoveDA_Urban_subset/Test/Mask/5974.png, sadece görüntü patch'leniyor\n"
          ]
        },
        {
          "output_type": "stream",
          "name": "stderr",
          "text": [
            "\r 99%|█████████▉| 317/320 [02:20<00:01,  2.04it/s]"
          ]
        },
        {
          "output_type": "stream",
          "name": "stdout",
          "text": [
            "Mask bulunamadı: /kaggle/working/LoveDA_Urban_subset/Test/Mask/5976.png, sadece görüntü patch'leniyor\n"
          ]
        },
        {
          "output_type": "stream",
          "name": "stderr",
          "text": [
            "\r 99%|█████████▉| 318/320 [02:21<00:00,  2.36it/s]"
          ]
        },
        {
          "output_type": "stream",
          "name": "stdout",
          "text": [
            "Mask bulunamadı: /kaggle/working/LoveDA_Urban_subset/Test/Mask/5983.png, sadece görüntü patch'leniyor\n"
          ]
        },
        {
          "output_type": "stream",
          "name": "stderr",
          "text": [
            "\r100%|█████████▉| 319/320 [02:21<00:00,  2.62it/s]"
          ]
        },
        {
          "output_type": "stream",
          "name": "stdout",
          "text": [
            "Mask bulunamadı: /kaggle/working/LoveDA_Urban_subset/Test/Mask/5986.png, sadece görüntü patch'leniyor\n"
          ]
        },
        {
          "output_type": "stream",
          "name": "stderr",
          "text": [
            "100%|██████████| 320/320 [02:21<00:00,  2.26it/s]"
          ]
        },
        {
          "output_type": "stream",
          "name": "stdout",
          "text": [
            "\n",
            "✅ Patch çıkarma tamam. Çıktı kökü: /kaggle/working/LoveDA_Urban_256_subset\n"
          ]
        },
        {
          "output_type": "stream",
          "name": "stderr",
          "text": [
            "\n"
          ]
        }
      ],
      "source": [
        "import os, glob\n",
        "from pathlib import Path\n",
        "import numpy as np\n",
        "from PIL import Image\n",
        "from tqdm import tqdm\n",
        "\n",
        "SRC_SUBSET = \"/kaggle/working/LoveDA_Urban_subset\"\n",
        "\n",
        "DST_PATCH  = \"/kaggle/working/LoveDA_Urban_256_subset\"\n",
        "\n",
        "PATCH = 256\n",
        "SPLITS = [\"Train\", \"Val\", \"Test\"]\n",
        "\n",
        "def ensure_dir(p): Path(p).mkdir(parents=True, exist_ok=True)\n",
        "\n",
        "def tile_and_save(img_np, out_dir_img, base, with_mask=False, msk_np=None, out_dir_msk=None):\n",
        "    h, w = img_np.shape[:2]\n",
        "    assert h % PATCH == 0 and w % PATCH == 0, f\"Boyutlar {h}x{w} PATCH={PATCH} ile tam bölünmüyor.\"\n",
        "    rows, cols = h // PATCH, w // PATCH\n",
        "    for r in range(rows):\n",
        "        for c in range(cols):\n",
        "            sy, sx = r*PATCH, c*PATCH\n",
        "            img_patch = img_np[sy:sy+PATCH, sx:sx+PATCH]\n",
        "            Image.fromarray(img_patch).save(os.path.join(out_dir_img, f\"{base}_r{r}_c{c}.png\"))\n",
        "            if with_mask and out_dir_msk is not None:\n",
        "                msk_patch = msk_np[sy:sy+PATCH, sx:sx+PATCH]\n",
        "                Image.fromarray(msk_patch.astype(np.uint8)).save(\n",
        "                    os.path.join(out_dir_msk, f\"{base}_r{r}_c{c}.png\")\n",
        "                )\n",
        "\n",
        "for sp in SPLITS:\n",
        "    src_img_dir = os.path.join(SRC_SUBSET, sp, \"Image\")\n",
        "    src_msk_dir = os.path.join(SRC_SUBSET, sp, \"Mask\")\n",
        "\n",
        "    out_img_dir = os.path.join(DST_PATCH, sp, \"Image\")\n",
        "    out_msk_dir = os.path.join(DST_PATCH, sp, \"Mask\")\n",
        "    ensure_dir(out_img_dir)\n",
        "\n",
        "    has_masks = os.path.isdir(src_msk_dir)\n",
        "    if has_masks:\n",
        "        ensure_dir(out_msk_dir)\n",
        "\n",
        "    img_files = sorted(glob.glob(os.path.join(src_img_dir, \"*.png\")))\n",
        "    assert img_files, f\"Görsel bulunamadı: {src_img_dir}\"\n",
        "\n",
        "    print(f\"\\n[{sp}] {len(img_files)} görüntü patch'leniyor...\")\n",
        "    for ip in tqdm(img_files):\n",
        "        base = os.path.splitext(os.path.basename(ip))[0]\n",
        "        img = np.array(Image.open(ip).convert(\"RGB\"))\n",
        "        h, w = img.shape[:2]\n",
        "\n",
        "        if h % PATCH != 0 or w % PATCH != 0:\n",
        "            new_h = ((h // PATCH) + 1) * PATCH if h % PATCH != 0 else h\n",
        "            new_w = ((w // PATCH) + 1) * PATCH if w % PATCH != 0 else w\n",
        "\n",
        "            padded_img = np.zeros((new_h, new_w, 3), dtype=img.dtype)\n",
        "            padded_img[:h, :w] = img\n",
        "            img = padded_img\n",
        "            print(f\"Görüntü {base} boyutu {h}x{w} -> {new_h}x{new_w} padding uygulandı\")\n",
        "\n",
        "        if has_masks:\n",
        "            mp = os.path.join(src_msk_dir, base + \".png\")\n",
        "            if os.path.exists(mp):\n",
        "                msk = np.array(Image.open(mp))\n",
        "\n",
        "                if msk.shape[0] != img.shape[0] or msk.shape[1] != img.shape[1]:\n",
        "                    padded_msk = np.zeros((img.shape[0], img.shape[1]), dtype=msk.dtype)\n",
        "                    padded_msk[:msk.shape[0], :msk.shape[1]] = msk\n",
        "                    msk = padded_msk\n",
        "\n",
        "                tile_and_save(img, out_img_dir, base, with_mask=True, msk_np=msk, out_dir_msk=out_msk_dir)\n",
        "            else:\n",
        "                print(f\"Mask bulunamadı: {mp}, sadece görüntü patch'leniyor\")\n",
        "                tile_and_save(img, out_img_dir, base, with_mask=False)\n",
        "        else:\n",
        "            tile_and_save(img, out_img_dir, base, with_mask=False)\n",
        "\n",
        "print(\"\\n Patch çıkarma tamam. Çıktı kökü:\", DST_PATCH)"
      ]
    },
    {
      "cell_type": "code",
      "execution_count": null,
      "metadata": {
        "id": "5q1Ppb_iGxmu",
        "colab": {
          "base_uri": "https://localhost:8080/"
        },
        "outputId": "b8b91a22-db1a-4652-fa5c-e5ad10e4ba89"
      },
      "outputs": [
        {
          "output_type": "stream",
          "name": "stdout",
          "text": [
            "Train: Image patches=7680 | Mask patches=7680\n",
            "Val: Image patches=3520 | Mask patches=3520\n",
            "Test: Image patches=5120 | Mask patches=0\n"
          ]
        }
      ],
      "source": [
        "import os, glob\n",
        "\n",
        "DST_PATCH = \"/kaggle/working/LoveDA_Urban_256_subset\"\n",
        "for sp in [\"Train\",\"Val\",\"Test\"]:\n",
        "    n_img = len(glob.glob(os.path.join(DST_PATCH, sp, \"Image\", \"*.png\")))\n",
        "    n_msk = len(glob.glob(os.path.join(DST_PATCH, sp, \"Mask\",  \"*.png\")))\n",
        "    print(f\"{sp}: Image patches={n_img} | Mask patches={n_msk}\")\n"
      ]
    },
    {
      "cell_type": "code",
      "source": [
        "import os, glob, re, time, csv, json\n",
        "import numpy as np\n",
        "from PIL import Image\n",
        "\n",
        "import torch\n",
        "import torch.nn.functional as F\n",
        "from torch.utils.data import Dataset, DataLoader\n",
        "\n",
        "import cv2\n",
        "import albumentations as A\n",
        "from albumentations.pytorch import ToTensorV2\n",
        "\n",
        "WORK_DIR = \"/kaggle/working\" if os.path.exists(\"/kaggle/working\") else \".\"\n",
        "def wpath(name): return os.path.join(WORK_DIR, name)\n",
        "\n",
        "DATA_ROOT = wpath(\"LoveDA_Urban_256_subset\")\n",
        "SPLITS = {\n",
        "    \"train\": dict(img=f\"{DATA_ROOT}/Train/Image\", msk=f\"{DATA_ROOT}/Train/Mask\"),\n",
        "    \"val\":   dict(img=f\"{DATA_ROOT}/Val/Image\",   msk=f\"{DATA_ROOT}/Val/Mask\"),\n",
        "    \"test\":  dict(img=f\"{DATA_ROOT}/Test/Image\",  msk=f\"{DATA_ROOT}/Test/Mask\")\n",
        "}\n",
        "\n",
        "NUM_CLASSES  = 7\n",
        "IGNORE_INDEX = 255\n",
        "BATCH_SIZE   = 8\n",
        "NUM_WORKERS  = 2\n",
        "PIN_MEMORY   = True\n",
        "IMG_SIZE     = 256\n",
        "\n",
        "MEAN = (0.485, 0.456, 0.406)\n",
        "STD  = (0.229, 0.224, 0.225)\n",
        "\n",
        "device = torch.device(\"cuda\" if torch.cuda.is_available() else \"cpu\")\n",
        "print(\"Device:\", device)\n"
      ],
      "metadata": {
        "colab": {
          "base_uri": "https://localhost:8080/"
        },
        "id": "_zPNNM9GWTkA",
        "outputId": "369be02a-3653-45e4-8301-7a4d44741cb8"
      },
      "execution_count": null,
      "outputs": [
        {
          "output_type": "stream",
          "name": "stdout",
          "text": [
            "Device: cuda\n"
          ]
        }
      ]
    },
    {
      "cell_type": "code",
      "source": [
        "train_tfms = A.Compose([\n",
        "    A.HorizontalFlip(p=0.5),\n",
        "    A.RandomRotate90(p=0.5),\n",
        "    A.ShiftScaleRotate(shift_limit=0.03, scale_limit=0.05, rotate_limit=10,\n",
        "                       border_mode=cv2.BORDER_CONSTANT, value=(0,0,0), mask_value=0, p=0.3),\n",
        "    A.RandomBrightnessContrast(p=0.3),\n",
        "    A.Normalize(mean=MEAN, std=STD),\n",
        "    ToTensorV2()\n",
        "])\n",
        "val_tfms = A.Compose([\n",
        "    A.Normalize(mean=MEAN, std=STD),\n",
        "    ToTensorV2()\n",
        "])\n",
        "\n",
        "# Dataset\n",
        "class SegPatchDataset(Dataset):\n",
        "    def __init__(self, img_dir, msk_dir=None, transform=None, ignore_index=255):\n",
        "        self.imgs = sorted(glob.glob(os.path.join(img_dir, \"*.png\")))\n",
        "        self.msk_dir = msk_dir if (msk_dir and os.path.isdir(msk_dir) and glob.glob(os.path.join(msk_dir, \"*.png\"))) else None\n",
        "        self.transform = transform\n",
        "        self.ignore_index = ignore_index\n",
        "        if not self.imgs: raise RuntimeError(f\"Boş klasör: {img_dir}\")\n",
        "\n",
        "        # LUT: 0->255, 1..7->0..6\n",
        "        self.lut = np.full(256, 255, np.uint8)\n",
        "        self.lut[1]=0; self.lut[2]=1; self.lut[3]=2; self.lut[4]=3; self.lut[5]=4; self.lut[6]=5; self.lut[7]=6\n",
        "\n",
        "    def __len__(self): return len(self.imgs)\n",
        "\n",
        "    def __getitem__(self, i):\n",
        "        name = os.path.basename(self.imgs[i])\n",
        "        img  = np.array(Image.open(self.imgs[i]).convert(\"RGB\"))\n",
        "\n",
        "        if self.msk_dir:\n",
        "            mp = os.path.join(self.msk_dir, name)\n",
        "            if os.path.isfile(mp):\n",
        "                msk_raw = np.array(Image.open(mp), dtype=np.uint8)\n",
        "                msk = self.lut[msk_raw]\n",
        "            else:\n",
        "                msk = np.full(img.shape[:2], 0, np.uint8)\n",
        "        else:\n",
        "            msk = np.full(img.shape[:2], 0, np.uint8)\n",
        "\n",
        "        if self.transform:\n",
        "            out = self.transform(image=img, mask=msk)\n",
        "            img, msk = out[\"image\"], out[\"mask\"]\n",
        "        else:\n",
        "            img = torch.from_numpy(img).permute(2,0,1).float()/255.0\n",
        "            msk = torch.from_numpy(msk)\n",
        "\n",
        "        return img, msk.long(), name\n",
        "\n",
        "def make_loader(split):\n",
        "    cfg = SPLITS[split]\n",
        "    use_msk = (split!=\"test\") and bool(glob.glob(os.path.join(cfg[\"msk\"], \"*.png\")))\n",
        "    ds = SegPatchDataset(cfg[\"img\"], cfg[\"msk\"] if use_msk else None,\n",
        "                         transform=(train_tfms if split==\"train\" else val_tfms),\n",
        "                         ignore_index=IGNORE_INDEX)\n",
        "    dl = DataLoader(ds, batch_size=BATCH_SIZE, shuffle=(split==\"train\"),\n",
        "                    num_workers=NUM_WORKERS, pin_memory=PIN_MEMORY, drop_last=(split==\"train\"))\n",
        "    return ds, dl\n",
        "\n",
        "train_ds, train_loader = make_loader(\"train\")\n",
        "val_ds,   val_loader   = make_loader(\"val\")\n",
        "test_ds,  test_loader  = make_loader(\"test\")\n",
        "print(\"Train samples:\", len(train_ds), \"Val samples:\", len(val_ds), \"Test samples:\", len(test_ds))\n",
        "xb, yb, nb = next(iter(train_loader)); print(\"Batch:\", xb.shape, yb.shape, nb[:3])\n"
      ],
      "metadata": {
        "colab": {
          "base_uri": "https://localhost:8080/"
        },
        "id": "XG5Xr1QSWT5X",
        "outputId": "02145b27-f93f-4c5b-adc5-4e1737f39a77"
      },
      "execution_count": null,
      "outputs": [
        {
          "output_type": "stream",
          "name": "stdout",
          "text": [
            "Train samples: 7680 Val samples: 3520 Test samples: 5120\n",
            "Batch: torch.Size([8, 3, 256, 256]) torch.Size([8, 256, 256]) ['2222_r1_c3.png', '1525_r2_c2.png', '1619_r2_c3.png']\n"
          ]
        }
      ]
    },
    {
      "cell_type": "code",
      "source": [
        "def compute_class_weights(mask_dir, num_classes=NUM_CLASSES, clip_min=0.5, clip_max=5.0):\n",
        "    lut = np.full(256, 255, np.uint8)\n",
        "    lut[1]=0; lut[2]=1; lut[3]=2; lut[4]=3; lut[5]=4; lut[6]=5; lut[7]=6\n",
        "    counts = np.zeros(num_classes, dtype=np.int64)\n",
        "    mask_files = sorted(glob.glob(os.path.join(mask_dir, \"*.png\")))\n",
        "    if not mask_files: return None\n",
        "    for mp in mask_files:\n",
        "        m = np.array(Image.open(mp), dtype=np.uint8)\n",
        "        m = lut[m]\n",
        "        for c in range(num_classes): counts[c] += (m == c).sum()\n",
        "    freq = counts / max(1, counts.sum())\n",
        "    med  = np.median(freq[freq > 0]) if np.any(freq>0) else 1.0\n",
        "    w = (med / np.clip(freq, 1e-12, None)).astype(np.float32)\n",
        "    w = np.clip(w, clip_min, clip_max)\n",
        "    return torch.tensor(w, dtype=torch.float32)\n",
        "\n",
        "CLASS_WEIGHTS = compute_class_weights(SPLITS[\"train\"][\"msk\"])\n",
        "if CLASS_WEIGHTS is not None: CLASS_WEIGHTS = CLASS_WEIGHTS.to(device)\n",
        "print(\"Class Weights:\", None if CLASS_WEIGHTS is None else CLASS_WEIGHTS.detach().cpu().numpy().round(3).tolist())\n"
      ],
      "metadata": {
        "colab": {
          "base_uri": "https://localhost:8080/"
        },
        "id": "n52k2UaBWW7w",
        "outputId": "da15a416-b759-4aa4-cdff-8267a38520f1"
      },
      "execution_count": null,
      "outputs": [
        {
          "output_type": "stream",
          "name": "stdout",
          "text": [
            "Class Weights: [0.5, 0.5, 0.8090000152587891, 2.428999900817871, 1.0850000381469727, 1.0, 5.0]\n"
          ]
        }
      ]
    },
    {
      "cell_type": "code",
      "source": [
        "import matplotlib.pyplot as plt\n",
        "from tqdm import tqdm\n",
        "from torch.optim import AdamW\n",
        "from torch.cuda.amp import autocast, GradScaler\n",
        "from torch.optim.lr_scheduler import OneCycleLR\n",
        "import segmentation_models_pytorch as smp\n",
        "\n",
        "@torch.no_grad()\n",
        "def confusion_matrix(pred, target, C, ignore_index=IGNORE_INDEX):\n",
        "    valid = (target != ignore_index)\n",
        "    t = target[valid].view(-1)\n",
        "    p = pred[valid].view(-1)\n",
        "    cm = torch.bincount(t*C + p, minlength=C*C).reshape(C, C).to(torch.long)\n",
        "    return cm\n",
        "\n",
        "def metrics_from_cm(cm):\n",
        "    cm = cm.float()\n",
        "    TP = torch.diag(cm); FP = cm.sum(0) - TP; FN = cm.sum(1) - TP\n",
        "    iou_c  = TP / (TP + FP + FN).clamp(min=1)\n",
        "    dice_c = (2*TP) / (2*TP + FP + FN).clamp(min=1)\n",
        "    acc    = TP.sum() / cm.sum().clamp(min=1)\n",
        "    prec_c = TP / (TP + FP).clamp(min=1)\n",
        "    rec_c  = TP / (TP + FN).clamp(min=1)\n",
        "    f1_c   = 2*prec_c*rec_c / (prec_c + rec_c).clamp(min=1e-12)\n",
        "    return {\n",
        "        \"mean_iou\": iou_c.mean().item(),\n",
        "        \"mean_dice\": dice_c.mean().item(),\n",
        "        \"accuracy\": acc.item(),\n",
        "        \"mean_precision\": prec_c.mean().item(),\n",
        "        \"mean_recall\": rec_c.mean().item(),\n",
        "        \"mean_f1\": f1_c.mean().item(),\n",
        "        \"per_class_iou\": iou_c.detach().cpu().numpy(),\n",
        "        \"per_class_dice\": dice_c.detach().cpu().numpy()\n",
        "    }\n",
        "\n",
        "# Loss\n",
        "def dice_loss_mc(logits, target, ignore_index=IGNORE_INDEX, eps=1e-6):\n",
        "    C = logits.shape[1]\n",
        "    valid = (target != ignore_index)\n",
        "    if valid.sum() == 0: return torch.tensor(0., device=logits.device)\n",
        "    t = target.clone(); t[~valid] = 0\n",
        "    oh = torch.zeros((logits.size(0), C, logits.size(2), logits.size(3)),\n",
        "                     device=logits.device, dtype=torch.float32)\n",
        "    oh.scatter_(1, t.unsqueeze(1), 1.0)\n",
        "    oh = oh * valid.unsqueeze(1)\n",
        "    prob = torch.softmax(logits, dim=1) * valid.unsqueeze(1)\n",
        "    inter = (prob * oh).sum(dim=(0,2,3))\n",
        "    den   = prob.sum(dim=(0,2,3)) + oh.sum(dim=(0,2,3)) + eps\n",
        "    return 1. - (2.*inter / den).mean()\n",
        "\n",
        "def combined_loss(logits, target, class_weights=None):\n",
        "    ce = F.cross_entropy(logits, target, weight=class_weights, ignore_index=IGNORE_INDEX)\n",
        "    dl = dice_loss_mc(logits, target, ignore_index=IGNORE_INDEX)\n",
        "    return 0.7*ce + 0.3*dl\n",
        "\n",
        "# Model\n",
        "model = smp.Unet(encoder_name=\"resnet50\", encoder_weights=\"imagenet\",\n",
        "                 classes=NUM_CLASSES, activation=None).to(device)\n",
        "\n",
        "EPOCHS   = 50\n",
        "LR       = 8e-4\n",
        "WD       = 1e-4\n",
        "PATIENCE = 10\n",
        "\n",
        "optimizer = AdamW(model.parameters(), lr=LR, weight_decay=WD)\n",
        "scheduler = OneCycleLR(optimizer, max_lr=LR, epochs=EPOCHS, steps_per_epoch=len(train_loader),\n",
        "                       pct_start=0.1, div_factor=10.0, final_div_factor=100.0)\n",
        "scaler = GradScaler()\n",
        "\n",
        "BEST_CKPT  = wpath(\"best_unet_50epochs.pth\")\n",
        "CSV_HISTORY= wpath(\"unet_training_history.csv\")\n",
        "PLOT_PNG   = wpath(\"unet_training_results.png\")\n",
        "\n",
        "history = {\"epoch\":[], \"train_loss\":[], \"val_loss\":[], \"mIoU\":[], \"Acc\":[], \"Dice\":[], \"F1\":[]}\n",
        "best = {\"epoch\":0, \"mIoU\":-1.0, \"metrics\":None}\n",
        "with open(CSV_HISTORY, \"w\", newline=\"\") as f:\n",
        "    csv.writer(f).writerow([\"epoch\",\"train_loss\",\"val_loss\",\"mIoU\",\"Acc\",\"Dice\",\"F1\"])\n",
        "\n",
        "epochs_no_improve = 0\n",
        "for epoch in range(1, EPOCHS+1):\n",
        "    # TRAIN\n",
        "    model.train(); total_loss = 0.0\n",
        "    for xb, yb, _ in tqdm(train_loader, desc=f\"Train {epoch}/{EPOCHS}\", leave=False):\n",
        "        xb, yb = xb.to(device, non_blocking=True), yb.to(device, non_blocking=True)\n",
        "        optimizer.zero_grad(set_to_none=True)\n",
        "        with autocast():\n",
        "            logits = model(xb)\n",
        "            loss = combined_loss(logits, yb, class_weights=CLASS_WEIGHTS)\n",
        "        scaler.scale(loss).backward()\n",
        "        scaler.step(optimizer); scaler.update()\n",
        "        scheduler.step()\n",
        "        total_loss += loss.item() * xb.size(0)\n",
        "    train_loss = total_loss / max(1, len(train_loader.dataset))\n",
        "\n",
        "    # VAL\n",
        "    model.eval(); cm_total = torch.zeros(NUM_CLASSES, NUM_CLASSES, dtype=torch.long, device=device); val_loss=0.0\n",
        "    with torch.no_grad():\n",
        "        for xb, yb, _ in tqdm(val_loader, desc=\"Val\", leave=False):\n",
        "            xb, yb = xb.to(device), yb.to(device)\n",
        "            logits = model(xb)\n",
        "            val_loss += combined_loss(logits, yb, class_weights=CLASS_WEIGHTS).item() * xb.size(0)\n",
        "            preds = logits.argmax(1)\n",
        "            cm_total += confusion_matrix(preds, yb, C=NUM_CLASSES, ignore_index=IGNORE_INDEX)\n",
        "    val_loss /= max(1, len(val_loader.dataset))\n",
        "    mets = metrics_from_cm(cm_total)\n",
        "\n",
        "    # LOG\n",
        "    history[\"epoch\"].append(epoch)\n",
        "    for k,v in [(\"train_loss\",train_loss),(\"val_loss\",val_loss),\n",
        "                (\"mIoU\",mets[\"mean_iou\"]),(\"Acc\",mets[\"accuracy\"]),\n",
        "                (\"Dice\",mets[\"mean_dice\"]),(\"F1\",mets[\"mean_f1\"])]:\n",
        "        history[k].append(v)\n",
        "    with open(CSV_HISTORY, \"a\", newline=\"\") as f:\n",
        "        csv.writer(f).writerow([epoch, f\"{train_loss:.6f}\", f\"{val_loss:.6f}\",\n",
        "                                f\"{mets['mean_iou']:.6f}\", f\"{mets['accuracy']:.6f}\",\n",
        "                                f\"{mets['mean_dice']:.6f}\", f\"{mets['mean_f1']:.6f}\"])\n",
        "\n",
        "    print(f\"[{epoch:03d}] Train:{train_loss:.4f} | Val:{val_loss:.4f} | \"\n",
        "          f\"mIoU:{mets['mean_iou']:.3f} Dice:{mets['mean_dice']:.3f} Acc:{mets['accuracy']:.3f} F1:{mets['mean_f1']:.3f}\")\n",
        "\n",
        "    # BEST SAVE (mIoU) + Early Stop\n",
        "    if mets[\"mean_iou\"] > best[\"mIoU\"]:\n",
        "        best.update({\"epoch\":epoch, \"mIoU\":mets[\"mean_iou\"], \"metrics\":mets})\n",
        "        torch.save({\n",
        "            \"model_state_dict\": model.state_dict(),\n",
        "            \"epoch\": epoch,\n",
        "            \"metrics\": mets,\n",
        "            \"history\": history,\n",
        "            \"config\": {\"num_classes\": NUM_CLASSES, \"ignore_index\": IGNORE_INDEX,\n",
        "                       \"img_size\": IMG_SIZE, \"mean\": MEAN, \"std\": STD}\n",
        "        }, BEST_CKPT)\n",
        "        print(f\" Best updated: mIoU={mets['mean_iou']:.4f} → {BEST_CKPT}\")\n",
        "        epochs_no_improve = 0\n",
        "    else:\n",
        "        epochs_no_improve += 1\n",
        "        if epochs_no_improve >= PATIENCE:\n",
        "            print(f\"Early stopping @ {epoch}. Best mIoU={best['mIoU']:.4f} (epoch {best['epoch']})\")\n",
        "            break\n",
        "\n",
        "plt.figure(figsize=(10,4))\n",
        "plt.plot(history[\"epoch\"], history[\"train_loss\"], label=\"Train Loss\")\n",
        "plt.plot(history[\"epoch\"], history[\"val_loss\"],   label=\"Val Loss\")\n",
        "plt.xlabel(\"Epoch\"); plt.ylabel(\"Loss\"); plt.legend(); plt.title(\"UNet Training Loss\")\n",
        "plt.tight_layout(); plt.savefig(PLOT_PNG); plt.close()\n",
        "\n",
        "print(\"Eğitim tamam. Best epoch:\", best[\"epoch\"], \"mIoU:\", f\"{best['mIoU']:.4f}\")\n",
        "print(\"Saved:\", BEST_CKPT, \"\\nLogs:\", CSV_HISTORY, \"\\nPlots:\", PLOT_PNG)\n"
      ],
      "metadata": {
        "colab": {
          "base_uri": "https://localhost:8080/"
        },
        "id": "Uf7vc-vhWfS1",
        "outputId": "f072e014-b8ab-4f16-f7a5-bf4fb16971be"
      },
      "execution_count": null,
      "outputs": [
        {
          "output_type": "stream",
          "name": "stdout",
          "text": [
            "Downloading: \"https://download.pytorch.org/models/resnet50-19c8e357.pth\" to /root/.cache/torch/hub/checkpoints/resnet50-19c8e357.pth\n"
          ]
        },
        {
          "output_type": "stream",
          "name": "stderr",
          "text": [
            "100%|██████████| 97.8M/97.8M [00:00<00:00, 197MB/s]\n",
            "/tmp/ipython-input-2880790886.py:69: FutureWarning: `torch.cuda.amp.GradScaler(args...)` is deprecated. Please use `torch.amp.GradScaler('cuda', args...)` instead.\n",
            "  scaler = GradScaler()\n"
          ]
        },
        {
          "output_type": "stream",
          "name": "stdout",
          "text": [
            "🚀 Eğitim başlıyor...\n"
          ]
        },
        {
          "output_type": "stream",
          "name": "stderr",
          "text": [
            "\rTrain 1/50:   0%|          | 0/960 [00:00<?, ?it/s]/tmp/ipython-input-2880790886.py:88: FutureWarning: `torch.cuda.amp.autocast(args...)` is deprecated. Please use `torch.amp.autocast('cuda', args...)` instead.\n",
            "  with autocast():\n"
          ]
        },
        {
          "output_type": "stream",
          "name": "stdout",
          "text": [
            "[001] Train:1.1639 | Val:1.3273 | mIoU:0.389 Dice:0.551 Acc:0.563 F1:0.551\n",
            "  ✅ Best updated: mIoU=0.3894 → /kaggle/working/best_unet_50epochs.pth\n"
          ]
        },
        {
          "output_type": "stream",
          "name": "stderr",
          "text": []
        },
        {
          "output_type": "stream",
          "name": "stdout",
          "text": [
            "[002] Train:1.0426 | Val:1.5404 | mIoU:0.376 Dice:0.531 Acc:0.521 F1:0.531\n"
          ]
        },
        {
          "output_type": "stream",
          "name": "stderr",
          "text": []
        },
        {
          "output_type": "stream",
          "name": "stdout",
          "text": [
            "[003] Train:1.0483 | Val:1.6684 | mIoU:0.308 Dice:0.445 Acc:0.464 F1:0.445\n"
          ]
        },
        {
          "output_type": "stream",
          "name": "stderr",
          "text": []
        },
        {
          "output_type": "stream",
          "name": "stdout",
          "text": [
            "[004] Train:1.0598 | Val:1.2266 | mIoU:0.330 Dice:0.484 Acc:0.502 F1:0.484\n"
          ]
        },
        {
          "output_type": "stream",
          "name": "stderr",
          "text": []
        },
        {
          "output_type": "stream",
          "name": "stdout",
          "text": [
            "[005] Train:1.0453 | Val:1.4872 | mIoU:0.323 Dice:0.461 Acc:0.493 F1:0.461\n"
          ]
        },
        {
          "output_type": "stream",
          "name": "stderr",
          "text": []
        },
        {
          "output_type": "stream",
          "name": "stdout",
          "text": [
            "[006] Train:1.0003 | Val:1.5371 | mIoU:0.362 Dice:0.517 Acc:0.497 F1:0.517\n"
          ]
        },
        {
          "output_type": "stream",
          "name": "stderr",
          "text": []
        },
        {
          "output_type": "stream",
          "name": "stdout",
          "text": [
            "[007] Train:0.9629 | Val:1.5392 | mIoU:0.389 Dice:0.544 Acc:0.531 F1:0.544\n"
          ]
        },
        {
          "output_type": "stream",
          "name": "stderr",
          "text": []
        },
        {
          "output_type": "stream",
          "name": "stdout",
          "text": [
            "[008] Train:0.9537 | Val:1.4304 | mIoU:0.385 Dice:0.540 Acc:0.515 F1:0.540\n"
          ]
        },
        {
          "output_type": "stream",
          "name": "stderr",
          "text": []
        },
        {
          "output_type": "stream",
          "name": "stdout",
          "text": [
            "[009] Train:0.9299 | Val:1.3014 | mIoU:0.409 Dice:0.569 Acc:0.578 F1:0.569\n",
            "  ✅ Best updated: mIoU=0.4091 → /kaggle/working/best_unet_50epochs.pth\n"
          ]
        },
        {
          "output_type": "stream",
          "name": "stderr",
          "text": []
        },
        {
          "output_type": "stream",
          "name": "stdout",
          "text": [
            "[010] Train:0.9098 | Val:1.5502 | mIoU:0.376 Dice:0.524 Acc:0.527 F1:0.524\n"
          ]
        },
        {
          "output_type": "stream",
          "name": "stderr",
          "text": []
        },
        {
          "output_type": "stream",
          "name": "stdout",
          "text": [
            "[011] Train:0.8729 | Val:1.6915 | mIoU:0.375 Dice:0.526 Acc:0.529 F1:0.526\n"
          ]
        },
        {
          "output_type": "stream",
          "name": "stderr",
          "text": []
        },
        {
          "output_type": "stream",
          "name": "stdout",
          "text": [
            "[012] Train:0.8552 | Val:1.3275 | mIoU:0.412 Dice:0.566 Acc:0.584 F1:0.566\n",
            "  ✅ Best updated: mIoU=0.4118 → /kaggle/working/best_unet_50epochs.pth\n"
          ]
        },
        {
          "output_type": "stream",
          "name": "stderr",
          "text": []
        },
        {
          "output_type": "stream",
          "name": "stdout",
          "text": [
            "[013] Train:0.8370 | Val:1.5496 | mIoU:0.388 Dice:0.539 Acc:0.528 F1:0.539\n"
          ]
        },
        {
          "output_type": "stream",
          "name": "stderr",
          "text": []
        },
        {
          "output_type": "stream",
          "name": "stdout",
          "text": [
            "[014] Train:0.8181 | Val:1.5523 | mIoU:0.403 Dice:0.553 Acc:0.549 F1:0.553\n"
          ]
        },
        {
          "output_type": "stream",
          "name": "stderr",
          "text": []
        },
        {
          "output_type": "stream",
          "name": "stdout",
          "text": [
            "[015] Train:0.8006 | Val:1.3609 | mIoU:0.415 Dice:0.571 Acc:0.564 F1:0.571\n",
            "  ✅ Best updated: mIoU=0.4146 → /kaggle/working/best_unet_50epochs.pth\n"
          ]
        },
        {
          "output_type": "stream",
          "name": "stderr",
          "text": []
        },
        {
          "output_type": "stream",
          "name": "stdout",
          "text": [
            "[016] Train:0.7951 | Val:1.3950 | mIoU:0.391 Dice:0.543 Acc:0.582 F1:0.543\n"
          ]
        },
        {
          "output_type": "stream",
          "name": "stderr",
          "text": []
        },
        {
          "output_type": "stream",
          "name": "stdout",
          "text": [
            "[017] Train:0.7779 | Val:1.1529 | mIoU:0.419 Dice:0.578 Acc:0.579 F1:0.578\n",
            "  ✅ Best updated: mIoU=0.4188 → /kaggle/working/best_unet_50epochs.pth\n"
          ]
        },
        {
          "output_type": "stream",
          "name": "stderr",
          "text": []
        },
        {
          "output_type": "stream",
          "name": "stdout",
          "text": [
            "[018] Train:0.7679 | Val:1.1363 | mIoU:0.444 Dice:0.606 Acc:0.605 F1:0.606\n",
            "  ✅ Best updated: mIoU=0.4439 → /kaggle/working/best_unet_50epochs.pth\n"
          ]
        },
        {
          "output_type": "stream",
          "name": "stderr",
          "text": []
        },
        {
          "output_type": "stream",
          "name": "stdout",
          "text": [
            "[019] Train:0.7576 | Val:1.3766 | mIoU:0.423 Dice:0.583 Acc:0.578 F1:0.583\n"
          ]
        },
        {
          "output_type": "stream",
          "name": "stderr",
          "text": []
        },
        {
          "output_type": "stream",
          "name": "stdout",
          "text": [
            "[020] Train:0.7343 | Val:1.3788 | mIoU:0.422 Dice:0.579 Acc:0.573 F1:0.579\n"
          ]
        },
        {
          "output_type": "stream",
          "name": "stderr",
          "text": []
        },
        {
          "output_type": "stream",
          "name": "stdout",
          "text": [
            "[021] Train:0.7222 | Val:1.5639 | mIoU:0.415 Dice:0.575 Acc:0.566 F1:0.575\n"
          ]
        },
        {
          "output_type": "stream",
          "name": "stderr",
          "text": []
        },
        {
          "output_type": "stream",
          "name": "stdout",
          "text": [
            "[022] Train:0.7303 | Val:1.3574 | mIoU:0.423 Dice:0.583 Acc:0.578 F1:0.583\n"
          ]
        },
        {
          "output_type": "stream",
          "name": "stderr",
          "text": []
        },
        {
          "output_type": "stream",
          "name": "stdout",
          "text": [
            "[023] Train:0.6994 | Val:1.5796 | mIoU:0.402 Dice:0.556 Acc:0.550 F1:0.556\n"
          ]
        },
        {
          "output_type": "stream",
          "name": "stderr",
          "text": []
        },
        {
          "output_type": "stream",
          "name": "stdout",
          "text": [
            "[024] Train:0.6829 | Val:1.3749 | mIoU:0.433 Dice:0.594 Acc:0.589 F1:0.594\n"
          ]
        },
        {
          "output_type": "stream",
          "name": "stderr",
          "text": []
        },
        {
          "output_type": "stream",
          "name": "stdout",
          "text": [
            "[025] Train:0.6810 | Val:1.6302 | mIoU:0.415 Dice:0.570 Acc:0.565 F1:0.570\n"
          ]
        },
        {
          "output_type": "stream",
          "name": "stderr",
          "text": []
        },
        {
          "output_type": "stream",
          "name": "stdout",
          "text": [
            "[026] Train:0.6783 | Val:1.6777 | mIoU:0.409 Dice:0.559 Acc:0.544 F1:0.559\n"
          ]
        },
        {
          "output_type": "stream",
          "name": "stderr",
          "text": []
        },
        {
          "output_type": "stream",
          "name": "stdout",
          "text": [
            "[027] Train:0.6570 | Val:1.3990 | mIoU:0.406 Dice:0.562 Acc:0.576 F1:0.562\n"
          ]
        },
        {
          "output_type": "stream",
          "name": "stderr",
          "text": []
        },
        {
          "output_type": "stream",
          "name": "stdout",
          "text": [
            "[028] Train:0.6542 | Val:1.6660 | mIoU:0.402 Dice:0.563 Acc:0.564 F1:0.563\n",
            "⏹️ Early stopping @ 28. Best mIoU=0.4439 (epoch 18)\n",
            "✅ Eğitim tamam. Best epoch: 18 mIoU: 0.4439\n",
            "Saved: /kaggle/working/best_unet_50epochs.pth \n",
            "Logs: /kaggle/working/unet_training_history.csv \n",
            "Plots: /kaggle/working/unet_training_results.png\n"
          ]
        }
      ]
    },
    {
      "cell_type": "code",
      "source": [
        "import csv, numpy as np, torch\n",
        "from tqdm import tqdm\n",
        "import segmentation_models_pytorch as smp\n",
        "\n",
        "CKPT_PATH = wpath(\"best_unet_50epochs.pth\")\n",
        "\n",
        "def load_ckpt_safe(path):\n",
        "    try:\n",
        "        from torch.serialization import add_safe_globals\n",
        "        import numpy as np\n",
        "        add_safe_globals([np.core.multiarray._reconstruct])\n",
        "        ckpt = torch.load(path, map_location=\"cpu\", weights_only=True)\n",
        "        if isinstance(ckpt, dict) and (\"model_state_dict\" in ckpt or \"state_dict\" in ckpt):\n",
        "            state = ckpt.get(\"model_state_dict\", ckpt.get(\"state_dict\"))\n",
        "            return state, ckpt\n",
        "\n",
        "        if isinstance(ckpt, dict):\n",
        "            return ckpt, {\"_raw\": \"state_dict_only\"}\n",
        "    except Exception as e:\n",
        "        print(f\"[info] Safe load (weights_only=True) olmadı: {e}\")\n",
        "\n",
        "    ckpt = torch.load(path, map_location=\"cpu\", weights_only=False)\n",
        "    if isinstance(ckpt, dict) and (\"model_state_dict\" in ckpt or \"state_dict\" in ckpt):\n",
        "        state = ckpt.get(\"model_state_dict\", ckpt.get(\"state_dict\"))\n",
        "        return state, ckpt\n",
        "    return ckpt, {\"_raw\": \"state_dict_only\"}\n",
        "\n",
        "state_dict, meta = load_ckpt_safe(CKPT_PATH)\n",
        "\n",
        "model_eval = smp.Unet(encoder_name=\"resnet50\", encoder_weights=None,\n",
        "                      classes=NUM_CLASSES, activation=None).to(device).eval()\n",
        "model_eval.load_state_dict(state_dict)\n",
        "\n",
        "@torch.no_grad()\n",
        "def confusion_matrix(pred, target, C, ignore_index=IGNORE_INDEX):\n",
        "    valid = (target != ignore_index)\n",
        "    t = target[valid].view(-1); p = pred[valid].view(-1)\n",
        "    return torch.bincount(t*C + p, minlength=C*C).reshape(C, C).to(torch.long)\n",
        "\n",
        "def metrics_from_cm(cm):\n",
        "    cm = cm.float()\n",
        "    TP = torch.diag(cm); FP = cm.sum(0) - TP; FN = cm.sum(1) - TP\n",
        "    iou_c  = TP / (TP + FP + FN).clamp(min=1)\n",
        "    dice_c = (2*TP) / (2*TP + FP + FN).clamp(min=1)\n",
        "    acc    = TP.sum() / cm.sum().clamp(min=1)\n",
        "    prec_c = TP / (TP + FP).clamp(min=1)\n",
        "    rec_c  = TP / (TP + FN).clamp(min=1)\n",
        "    f1_c   = 2*prec_c*rec_c / (prec_c + rec_c).clamp(min=1e-12)\n",
        "    return {\n",
        "        \"mean_iou\": iou_c.mean().item(),\n",
        "        \"mean_dice\": dice_c.mean().item(),\n",
        "        \"accuracy\": acc.item(),\n",
        "        \"mean_precision\": prec_c.mean().item(),\n",
        "        \"mean_recall\": rec_c.mean().item(),\n",
        "        \"mean_f1\": f1_c.mean().item(),\n",
        "        \"per_class_iou\": iou_c.detach().cpu().numpy(),\n",
        "        \"per_class_dice\": dice_c.detach().cpu().numpy()\n",
        "    }\n",
        "\n",
        "cm_total = torch.zeros(NUM_CLASSES, NUM_CLASSES, dtype=torch.long, device=device)\n",
        "with torch.no_grad():\n",
        "    for xb, yb, _ in tqdm(val_loader, desc=\"Eval/CSV\"):\n",
        "        xb, yb = xb.to(device), yb.to(device)\n",
        "        preds = model_eval(xb).argmax(1)\n",
        "        cm_total += confusion_matrix(preds, yb, C=NUM_CLASSES, ignore_index=IGNORE_INDEX)\n",
        "\n",
        "mets = metrics_from_cm(cm_total)\n",
        "print(\"VAL overall:\",\n",
        "      {k: round(v,4) for k,v in mets.items() if isinstance(v, float)})\n",
        "\n",
        "CSV_OVERALL = wpath(\"unet_50epochs_metrics_overall.csv\")\n",
        "CSV_PERCLS  = wpath(\"unet_50epochs_metrics_per_class.csv\")\n",
        "CLASS_NAMES = ['Background','Building','Road','Water','Barren','Forest','Agriculture']\n",
        "\n",
        "with open(CSV_OVERALL, \"w\", newline=\"\") as f:\n",
        "    w = csv.writer(f); w.writerow([\"metric\",\"value\"])\n",
        "    for k in [\"mean_iou\",\"mean_dice\",\"accuracy\",\"mean_precision\",\"mean_recall\",\"mean_f1\"]:\n",
        "        w.writerow([k, f\"{mets[k]:.6f}\"])\n",
        "\n",
        "with open(CSV_PERCLS, \"w\", newline=\"\") as f:\n",
        "    w = csv.writer(f); w.writerow([\"class_id\",\"class_name\",\"IoU\",\"Dice\"])\n",
        "    for i, name in enumerate(CLASS_NAMES):\n",
        "        w.writerow([i, name, f\"{mets['per_class_iou'][i]:.6f}\", f\"{mets['per_class_dice'][i]:.6f}\"])\n",
        "\n",
        "print(\"Saved CSVs:\", CSV_OVERALL, CSV_PERCLS)\n"
      ],
      "metadata": {
        "colab": {
          "base_uri": "https://localhost:8080/"
        },
        "id": "K-WZXyelWs5Y",
        "outputId": "10256265-e067-4756-a1b1-a03bb663f441"
      },
      "execution_count": null,
      "outputs": [
        {
          "output_type": "stream",
          "name": "stdout",
          "text": [
            "[info] Safe load (weights_only=True) olmadı: Weights only load failed. This file can still be loaded, to do so you have two options, \u001b[1mdo those steps only if you trust the source of the checkpoint\u001b[0m. \n",
            "\t(1) In PyTorch 2.6, we changed the default value of the `weights_only` argument in `torch.load` from `False` to `True`. Re-running `torch.load` with `weights_only` set to `False` will likely succeed, but it can result in arbitrary code execution. Do it only if you got the file from a trusted source.\n",
            "\t(2) Alternatively, to load with `weights_only=True` please check the recommended steps in the following error message.\n",
            "\tWeightsUnpickler error: Unsupported global: GLOBAL numpy.ndarray was not an allowed global by default. Please use `torch.serialization.add_safe_globals([numpy.ndarray])` or the `torch.serialization.safe_globals([numpy.ndarray])` context manager to allowlist this global if you trust this class/function.\n",
            "\n",
            "Check the documentation of torch.load to learn more about types accepted by default with weights_only https://pytorch.org/docs/stable/generated/torch.load.html.\n"
          ]
        },
        {
          "output_type": "stream",
          "name": "stderr",
          "text": [
            "Eval/CSV: 100%|██████████| 440/440 [00:09<00:00, 44.83it/s]"
          ]
        },
        {
          "output_type": "stream",
          "name": "stdout",
          "text": [
            "VAL overall: {'mean_iou': 0.4439, 'mean_dice': 0.6062, 'accuracy': 0.6049, 'mean_precision': 0.6069, 'mean_recall': 0.6365, 'mean_f1': 0.6062}\n",
            "Saved CSVs: /kaggle/working/unet_50epochs_metrics_overall.csv /kaggle/working/unet_50epochs_metrics_per_class.csv\n"
          ]
        },
        {
          "output_type": "stream",
          "name": "stderr",
          "text": [
            "\n"
          ]
        }
      ]
    },
    {
      "cell_type": "code",
      "source": [
        "from PIL import Image\n",
        "import matplotlib.pyplot as plt\n",
        "\n",
        "COLOR_MAP = {\n",
        "    0: (255, 255, 255),  # Background (beyaz)\n",
        "    1: (255,   0,   0),  # Building (kırmızı)\n",
        "    2: (255, 255,   0),  # Road (sarı)\n",
        "    3: (  0,   0, 255),  # Water (mavi)\n",
        "    4: (159, 129, 183),  # Barren (mor)\n",
        "    5: (  0, 255,   0),  # Forest (yeşil)\n",
        "    6: (255, 195, 128)   # Agricultural (turuncu)\n",
        "}\n",
        "PALETTE = np.array([COLOR_MAP[i] for i in range(0, 7)], dtype=np.uint8)\n",
        "\n",
        "def colorize(mask_hw: np.ndarray) -> np.ndarray:\n",
        "    rgb = np.zeros((mask_hw.shape[0], mask_hw.shape[1], 3), dtype=np.uint8)\n",
        "    valid = (mask_hw >= 0) & (mask_hw < len(PALETTE))\n",
        "    rgb[valid] = PALETTE[mask_hw[valid]]\n",
        "    return rgb\n",
        "\n",
        "@torch.no_grad()\n",
        "def predict_with_tta(x, model_for_infer):\n",
        "    logits = model_for_infer(x)\n",
        "    logits_flip = model_for_infer(torch.flip(x, dims=[-1]))\n",
        "    logits_flip = torch.flip(logits_flip, dims=[-1])\n",
        "    return 0.5 * (logits + logits_flip)\n",
        "\n",
        "SAVE_VAL  = wpath(\"unet_preds_val\");  os.makedirs(SAVE_VAL,  exist_ok=True)\n",
        "SAVE_TEST = wpath(\"unet_preds_test\"); os.makedirs(SAVE_TEST, exist_ok=True)\n",
        "\n",
        "@torch.no_grad()\n",
        "def predict_and_save(dl, save_dir, desc):\n",
        "    for xb, _, names in tqdm(dl, desc=desc):\n",
        "        xb = xb.to(device, non_blocking=True)\n",
        "        logits = predict_with_tta(xb, model_eval)\n",
        "        preds  = logits.argmax(1).cpu().numpy().astype(np.uint8)\n",
        "        for p, name in zip(preds, names):\n",
        "            Image.fromarray(colorize(p)).save(os.path.join(save_dir, name))\n",
        "\n",
        "predict_and_save(val_loader,  SAVE_VAL,  \"VAL predict→PNG (B palette, TTA)\")\n",
        "predict_and_save(test_loader, SAVE_TEST, \"TEST predict→PNG (B palette, TTA)\")\n",
        "print(\"VAL preds:\", SAVE_VAL, \"| TEST preds:\", SAVE_TEST)\n",
        "\n",
        "TILE = IMG_SIZE\n",
        "VAL_IMG_DIR = SPLITS[\"val\"][\"img\"]\n",
        "VAL_MSK_DIR = SPLITS[\"val\"][\"msk\"]\n",
        "PRED_DIR    = SAVE_VAL\n",
        "\n",
        "rx = re.compile(r\"^(?P<base>.+)_r(?P<r>\\d+)_c(?P<c>\\d+)\\.png$\")\n",
        "LUT = np.full(256, 255, np.uint8); LUT[1]=0; LUT[2]=1; LUT[3]=2; LUT[4]=3; LUT[5]=4; LUT[6]=5; LUT[7]=6\n",
        "\n",
        "def draw_grid(img, tile=TILE, lw=1):\n",
        "    out = img.copy()\n",
        "    for y in range(tile, img.shape[0], tile): out[y-lw:y+lw, :] = 255\n",
        "    for x in range(tile, img.shape[1], tile): out[:, x-lw:x+lw] = 255\n",
        "    return out\n",
        "\n",
        "def find_base_ids(img_dir):\n",
        "    files = sorted(glob.glob(os.path.join(img_dir, \"*.png\")))\n",
        "    bases = {}\n",
        "    for fp in files:\n",
        "        m = rx.match(os.path.basename(fp))\n",
        "        if not m: continue\n",
        "        b = m.group(\"base\"); r = int(m.group(\"r\")); c = int(m.group(\"c\"))\n",
        "        R, C, cnt = bases.get(b, (0,0,0))\n",
        "        bases[b] = (max(R, r+1), max(C, c+1), cnt+1)\n",
        "    return [b for b,_ in sorted(bases.items(), key=lambda kv: -kv[1][2])]\n",
        "\n",
        "def reconstruct_full(img_dir, base):\n",
        "    pats = sorted(glob.glob(os.path.join(img_dir, f\"{base}_r*_c*.png\")))\n",
        "    assert pats, f\"Patch yok: {base}\"\n",
        "    rs, cs = [], []\n",
        "    for p in pats:\n",
        "        m = rx.match(os.path.basename(p)); rs.append(int(m.group(\"r\"))); cs.append(int(m.group(\"c\")))\n",
        "    R, C = max(rs)+1, max(cs)+1\n",
        "    H, W = R*TILE, C*TILE\n",
        "    full_img = np.zeros((H, W, 3), dtype=np.uint8)\n",
        "    for p in pats:\n",
        "        m = rx.match(os.path.basename(p)); r, c = int(m.group(\"r\")), int(m.group(\"c\"))\n",
        "        img = np.array(Image.open(p).convert(\"RGB\"))\n",
        "        full_img[r*TILE:(r+1)*TILE, c*TILE:(c+1)*TILE] = img\n",
        "    return full_img\n",
        "\n",
        "base_ids = find_base_ids(VAL_IMG_DIR)\n",
        "assert base_ids, \"Val/Image içinde patch bulunamadı.\"\n",
        "BASE = base_ids[1]\n",
        "\n",
        "full_img      = reconstruct_full(VAL_IMG_DIR, BASE)\n",
        "full_img_grid = draw_grid(full_img, tile=TILE, lw=1)\n",
        "\n",
        "pred_patch_files = sorted(glob.glob(os.path.join(PRED_DIR, f\"{BASE}_r*_c*.png\")))\n",
        "rs, cs = [], []\n",
        "for p in pred_patch_files:\n",
        "    m = rx.match(os.path.basename(p)); rs.append(int(m.group(\"r\"))); cs.append(int(m.group(\"c\")))\n",
        "R, C = max(rs)+1, max(cs)+1\n",
        "H, W = R*TILE, C*TILE\n",
        "full_pred_rgb = np.zeros((H, W, 3), dtype=np.uint8)\n",
        "for p in pred_patch_files:\n",
        "    m = rx.match(os.path.basename(p)); r, c = int(m.group(\"r\")), int(m.group(\"c\"))\n",
        "    rgb = np.array(Image.open(p).convert(\"RGB\"))\n",
        "    full_pred_rgb[r*TILE:(r+1)*TILE, c*TILE:(c+1)*TILE] = rgb\n",
        "\n",
        "full_gt_rgb = None\n",
        "if VAL_MSK_DIR and os.path.isdir(VAL_MSK_DIR):\n",
        "    gt_patch_files = sorted(glob.glob(os.path.join(VAL_MSK_DIR, f\"{BASE}_r*_c*.png\")))\n",
        "    if gt_patch_files:\n",
        "        rs, cs = [], []\n",
        "        for p in gt_patch_files:\n",
        "            m = rx.match(os.path.basename(p)); rs.append(int(m.group(\"r\"))); cs.append(int(m.group(\"c\")))\n",
        "        Rg, Cg = max(rs)+1, max(cs)+1\n",
        "        Hg, Wg = Rg*TILE, Cg*TILE\n",
        "        full_gt = np.zeros((Hg, Wg), dtype=np.uint8)\n",
        "\n",
        "        for p in gt_patch_files:\n",
        "            m = rx.match(os.path.basename(p)); r, c = int(m.group(\"r\")), int(m.group(\"c\"))\n",
        "            msk_raw = np.array(Image.open(p), dtype=np.uint8)\n",
        "            if msk_raw.max() > 6:\n",
        "                msk = LUT[msk_raw]\n",
        "            else:\n",
        "                msk = msk_raw\n",
        "            full_gt[r*TILE:(r+1)*TILE, c*TILE:(c+1)*TILE] = msk\n",
        "\n",
        "        full_gt_rgb = colorize(full_gt)\n",
        "\n",
        "if full_gt_rgb is not None:\n",
        "    plt.figure(figsize=(20,5))\n",
        "    plt.subplot(1,4,1); plt.imshow(full_img);      plt.title(f\"Image (base={BASE})\"); plt.axis('off')\n",
        "    plt.subplot(1,4,2); plt.imshow(full_img_grid); plt.title(\"Patch Grid\");          plt.axis('off')\n",
        "    plt.subplot(1,4,3); plt.imshow(full_gt_rgb);   plt.title(\"Ground Truth\");        plt.axis('off')\n",
        "    plt.subplot(1,4,4); plt.imshow(full_pred_rgb); plt.title(\"U-Net Prediction\");    plt.axis('off')\n",
        "    plt.tight_layout()\n",
        "    OUT_FULL = wpath(f\"vis_full_grid_pred_{BASE}_withGT.png\")\n",
        "else:\n",
        "    plt.figure(figsize=(16,5))\n",
        "    plt.subplot(1,3,1); plt.imshow(full_img);      plt.title(f\"Image (base={BASE})\"); plt.axis('off')\n",
        "    plt.subplot(1,3,2); plt.imshow(full_img_grid); plt.title(\"Patch Grid\");          plt.axis('off')\n",
        "    plt.subplot(1,3,3); plt.imshow(full_pred_rgb); plt.title(\"U-Net Prediction\");    plt.axis('off')\n",
        "    plt.tight_layout()\n",
        "    OUT_FULL = wpath(f\"vis_full_grid_pred_{BASE}.png\")\n",
        "\n",
        "plt.savefig(OUT_FULL, dpi=150); plt.close()\n",
        "print(\" Kaydedildi:\", OUT_FULL)\n"
      ],
      "metadata": {
        "colab": {
          "base_uri": "https://localhost:8080/"
        },
        "id": "yTY1Smc9XYxN",
        "outputId": "1ebb841a-7998-46db-da3f-8644e9ec14ba"
      },
      "execution_count": null,
      "outputs": [
        {
          "output_type": "stream",
          "name": "stderr",
          "text": [
            "VAL predict→PNG (B palette, TTA): 100%|██████████| 440/440 [00:37<00:00, 11.80it/s]\n",
            "TEST predict→PNG (B palette, TTA): 100%|██████████| 640/640 [00:53<00:00, 11.94it/s]\n"
          ]
        },
        {
          "output_type": "stream",
          "name": "stdout",
          "text": [
            "VAL preds: /kaggle/working/unet_preds_val | TEST preds: /kaggle/working/unet_preds_test\n",
            "✅ Kaydedildi: /kaggle/working/vis_full_grid_pred_3515_withGT.png\n"
          ]
        }
      ]
    },
    {
      "cell_type": "code",
      "source": [
        "#DeepLabV3+\n",
        "import torch, csv\n",
        "import torch.nn as nn\n",
        "import torch.nn.functional as F\n",
        "from torch.optim import AdamW\n",
        "from torch.cuda.amp import autocast, GradScaler\n",
        "from torch.optim.lr_scheduler import OneCycleLR\n",
        "import matplotlib.pyplot as plt\n",
        "from tqdm import tqdm\n",
        "import segmentation_models_pytorch as smp\n",
        "\n",
        "#Metrikler\n",
        "@torch.no_grad()\n",
        "def confusion_matrix(pred, target, C, ignore_index=IGNORE_INDEX):\n",
        "    valid = (target != ignore_index)\n",
        "    t = target[valid].view(-1); p = pred[valid].view(-1)\n",
        "    return torch.bincount(t*C + p, minlength=C*C).reshape(C, C).to(torch.long)\n",
        "\n",
        "def metrics_from_cm(cm):\n",
        "    cm = cm.float()\n",
        "    TP = torch.diag(cm); FP = cm.sum(0) - TP; FN = cm.sum(1) - TP\n",
        "    iou_c  = TP / (TP + FP + FN).clamp(min=1)\n",
        "    dice_c = (2*TP) / (2*TP + FP + FN).clamp(min=1)\n",
        "    acc    = TP.sum() / cm.sum().clamp(min=1)\n",
        "    prec_c = TP / (TP + FP).clamp(min=1)\n",
        "    rec_c  = TP / (TP + FN).clamp(min=1)\n",
        "    f1_c   = 2*prec_c*rec_c / (prec_c + rec_c).clamp(min=1e-12)\n",
        "    return {\n",
        "        \"mean_iou\": iou_c.mean().item(),\n",
        "        \"mean_dice\": dice_c.mean().item(),\n",
        "        \"accuracy\": acc.item(),\n",
        "        \"mean_precision\": prec_c.mean().item(),\n",
        "        \"mean_recall\": rec_c.mean().item(),\n",
        "        \"mean_f1\": f1_c.mean().item(),\n",
        "        \"per_class_iou\": iou_c.detach().cpu().numpy(),\n",
        "        \"per_class_dice\": dice_c.detach().cpu().numpy()\n",
        "    }\n",
        "\n",
        "#Loss\n",
        "def dice_loss_mc(logits, target, ignore_index=IGNORE_INDEX, eps=1e-6):\n",
        "    C = logits.shape[1]\n",
        "    valid = (target != ignore_index)\n",
        "    if valid.sum() == 0: return torch.tensor(0., device=logits.device)\n",
        "    t = target.clone(); t[~valid] = 0\n",
        "    oh = torch.zeros((logits.size(0), C, logits.size(2), logits.size(3)),\n",
        "                     device=logits.device, dtype=torch.float32)\n",
        "    oh.scatter_(1, t.unsqueeze(1), 1.0)\n",
        "    oh = oh * valid.unsqueeze(1)\n",
        "    prob = torch.softmax(logits, dim=1) * valid.unsqueeze(1)\n",
        "    inter = (prob * oh).sum(dim=(0,2,3))\n",
        "    den   = prob.sum(dim=(0,2,3)) + oh.sum(dim=(0,2,3)) + eps\n",
        "    return 1. - (2.*inter / den).mean()\n",
        "\n",
        "def combined_loss(logits, target, class_weights=None):\n",
        "    ce = F.cross_entropy(logits, target, weight=class_weights, ignore_index=IGNORE_INDEX)\n",
        "    dl = dice_loss_mc(logits, target, ignore_index=IGNORE_INDEX)\n",
        "    return 0.7*ce + 0.3*dl\n",
        "\n",
        "# Model\n",
        "model = smp.DeepLabV3Plus(\n",
        "    encoder_name=\"resnet50\", encoder_weights=\"imagenet\",\n",
        "    classes=NUM_CLASSES, activation=None\n",
        ").to(device)\n",
        "\n",
        "\n",
        "EPOCHS   = 50\n",
        "LR       = 8e-4\n",
        "WD       = 1e-4\n",
        "PATIENCE = 10\n",
        "\n",
        "optimizer = AdamW(model.parameters(), lr=LR, weight_decay=WD)\n",
        "scheduler = OneCycleLR(optimizer, max_lr=LR, epochs=EPOCHS, steps_per_epoch=len(train_loader),\n",
        "                       pct_start=0.1, div_factor=10.0, final_div_factor=100.0)\n",
        "scaler = GradScaler()\n",
        "\n",
        "BEST_CKPT  = wpath(\"best_deeplabv3plus_50epochs.pth\")\n",
        "CSV_HISTORY= wpath(\"deeplabv3plus_training_history.csv\")\n",
        "PLOT_PNG   = wpath(\"deeplabv3plus_training_results.png\")\n",
        "\n",
        "\n",
        "history = {\"epoch\":[], \"train_loss\":[], \"val_loss\":[], \"mIoU\":[], \"Acc\":[], \"Dice\":[], \"F1\":[]}\n",
        "best = {\"epoch\":0, \"mIoU\":-1.0, \"metrics\":None}\n",
        "with open(CSV_HISTORY, \"w\", newline=\"\") as f:\n",
        "    csv.writer(f).writerow([\"epoch\",\"train_loss\",\"val_loss\",\"mIoU\",\"Acc\",\"Dice\",\"F1\"])\n",
        "\n",
        "epochs_no_improve = 0\n",
        "for epoch in range(1, EPOCHS+1):\n",
        "    # TRAIN\n",
        "    model.train(); total_loss = 0.0\n",
        "    for xb, yb, _ in tqdm(train_loader, desc=f\"Train {epoch}/{EPOCHS}\", leave=False):\n",
        "        xb, yb = xb.to(device, non_blocking=True), yb.to(device, non_blocking=True)\n",
        "        optimizer.zero_grad(set_to_none=True)\n",
        "        with autocast():\n",
        "            logits = model(xb)\n",
        "            loss = combined_loss(logits, yb, class_weights=CLASS_WEIGHTS)\n",
        "        scaler.scale(loss).backward()\n",
        "        scaler.step(optimizer); scaler.update()\n",
        "        scheduler.step()\n",
        "        total_loss += loss.item() * xb.size(0)\n",
        "    train_loss = total_loss / max(1, len(train_loader.dataset))\n",
        "\n",
        "    # VAL\n",
        "    model.eval(); cm_total = torch.zeros(NUM_CLASSES, NUM_CLASSES, dtype=torch.long, device=device); val_loss=0.0\n",
        "    with torch.no_grad():\n",
        "        for xb, yb, _ in tqdm(val_loader, desc=\"Val\", leave=False):\n",
        "            xb, yb = xb.to(device), yb.to(device)\n",
        "            logits = model(xb)\n",
        "            val_loss += combined_loss(logits, yb, class_weights=CLASS_WEIGHTS).item() * xb.size(0)\n",
        "            preds = logits.argmax(1)\n",
        "            cm_total += confusion_matrix(preds, yb, C=NUM_CLASSES, ignore_index=IGNORE_INDEX)\n",
        "    val_loss /= max(1, len(val_loader.dataset))\n",
        "    mets = metrics_from_cm(cm_total)\n",
        "\n",
        "    # LOG\n",
        "    history[\"epoch\"].append(epoch)\n",
        "    for k,v in [(\"train_loss\",train_loss),(\"val_loss\",val_loss),\n",
        "                (\"mIoU\",mets[\"mean_iou\"]),(\"Acc\",mets[\"accuracy\"]),\n",
        "                (\"Dice\",mets[\"mean_dice\"]),(\"F1\",mets[\"mean_f1\"])]:\n",
        "        history[k].append(v)\n",
        "    with open(CSV_HISTORY, \"a\", newline=\"\") as f:\n",
        "        csv.writer(f).writerow([epoch, f\"{train_loss:.6f}\", f\"{val_loss:.6f}\",\n",
        "                                f\"{mets['mean_iou']:.6f}\", f\"{mets['accuracy']:.6f}\",\n",
        "                                f\"{mets['mean_dice']:.6f}\", f\"{mets['mean_f1']:.6f}\"])\n",
        "\n",
        "    print(f\"[{epoch:03d}] Train:{train_loss:.4f} | Val:{val_loss:.4f} | \"\n",
        "          f\"mIoU:{mets['mean_iou']:.3f} Dice:{mets['mean_dice']:.3f} Acc:{mets['accuracy']:.3f} F1:{mets['mean_f1']:.3f}\")\n",
        "\n",
        "    # BEST SAVE (mIoU) + Early Stop\n",
        "    if mets[\"mean_iou\"] > best[\"mIoU\"]:\n",
        "        best.update({\"epoch\":epoch, \"mIoU\":mets[\"mean_iou\"], \"metrics\":mets})\n",
        "        torch.save({\n",
        "            \"model_state_dict\": model.state_dict(),\n",
        "            \"epoch\": epoch,\n",
        "            \"metrics\": mets,\n",
        "            \"history\": history,\n",
        "            \"config\": {\"num_classes\": NUM_CLASSES, \"ignore_index\": IGNORE_INDEX,\n",
        "                       \"img_size\": IMG_SIZE, \"mean\": MEAN, \"std\": STD}\n",
        "        }, BEST_CKPT)\n",
        "        print(f\"Best updated: mIoU={mets['mean_iou']:.4f} → {BEST_CKPT}\")\n",
        "        epochs_no_improve = 0\n",
        "    else:\n",
        "        epochs_no_improve += 1\n",
        "        if epochs_no_improve >= PATIENCE:\n",
        "            print(f\"Early stopping @ {epoch}. Best mIoU={best['mIoU']:.4f} (epoch {best['epoch']})\")\n",
        "            break\n",
        "\n",
        "plt.figure(figsize=(10,4))\n",
        "plt.plot(history[\"epoch\"], history[\"train_loss\"], label=\"Train Loss\")\n",
        "plt.plot(history[\"epoch\"], history[\"val_loss\"],   label=\"Val Loss\")\n",
        "plt.xlabel(\"Epoch\"); plt.ylabel(\"Loss\"); plt.legend(); plt.title(\"DeepLabV3+ Training Loss\")\n",
        "plt.tight_layout(); plt.savefig(PLOT_PNG); plt.close()\n",
        "\n",
        "print(\" Eğitim tamam. Best epoch:\", best[\"epoch\"], \"mIoU:\", f\"{best['mIoU']:.4f}\")\n",
        "print(\"Saved:\", BEST_CKPT, \"\\nLogs:\", CSV_HISTORY, \"\\nPlots:\", PLOT_PNG)\n"
      ],
      "metadata": {
        "colab": {
          "base_uri": "https://localhost:8080/"
        },
        "id": "CP8yVkX-kLNT",
        "outputId": "51c13fb2-de1d-495d-8ac4-f664c02d46bf"
      },
      "execution_count": null,
      "outputs": [
        {
          "output_type": "stream",
          "name": "stderr",
          "text": [
            "/tmp/ipython-input-1258812556.py:74: FutureWarning: `torch.cuda.amp.GradScaler(args...)` is deprecated. Please use `torch.amp.GradScaler('cuda', args...)` instead.\n",
            "  scaler = GradScaler()\n"
          ]
        },
        {
          "output_type": "stream",
          "name": "stdout",
          "text": [
            "🚀 DeepLabV3+ Eğitim başlıyor...\n"
          ]
        },
        {
          "output_type": "stream",
          "name": "stderr",
          "text": [
            "\rTrain 1/50:   0%|          | 0/960 [00:00<?, ?it/s]/tmp/ipython-input-1258812556.py:94: FutureWarning: `torch.cuda.amp.autocast(args...)` is deprecated. Please use `torch.amp.autocast('cuda', args...)` instead.\n",
            "  with autocast():\n"
          ]
        },
        {
          "output_type": "stream",
          "name": "stdout",
          "text": [
            "[001] Train:1.0169 | Val:1.3252 | mIoU:0.407 Dice:0.565 Acc:0.564 F1:0.565\n",
            "  ✅ Best updated: mIoU=0.4067 → /kaggle/working/best_deeplabv3plus_50epochs.pth\n"
          ]
        },
        {
          "output_type": "stream",
          "name": "stderr",
          "text": []
        },
        {
          "output_type": "stream",
          "name": "stdout",
          "text": [
            "[002] Train:0.9137 | Val:1.5127 | mIoU:0.344 Dice:0.489 Acc:0.521 F1:0.489\n"
          ]
        },
        {
          "output_type": "stream",
          "name": "stderr",
          "text": []
        },
        {
          "output_type": "stream",
          "name": "stdout",
          "text": [
            "[003] Train:0.9567 | Val:1.2862 | mIoU:0.352 Dice:0.506 Acc:0.503 F1:0.506\n"
          ]
        },
        {
          "output_type": "stream",
          "name": "stderr",
          "text": []
        },
        {
          "output_type": "stream",
          "name": "stdout",
          "text": [
            "[004] Train:0.9511 | Val:1.5359 | mIoU:0.316 Dice:0.470 Acc:0.482 F1:0.470\n"
          ]
        },
        {
          "output_type": "stream",
          "name": "stderr",
          "text": []
        },
        {
          "output_type": "stream",
          "name": "stdout",
          "text": [
            "[005] Train:0.9414 | Val:1.1961 | mIoU:0.334 Dice:0.486 Acc:0.519 F1:0.486\n"
          ]
        },
        {
          "output_type": "stream",
          "name": "stderr",
          "text": []
        },
        {
          "output_type": "stream",
          "name": "stdout",
          "text": [
            "[006] Train:0.9266 | Val:1.7243 | mIoU:0.366 Dice:0.513 Acc:0.508 F1:0.513\n"
          ]
        },
        {
          "output_type": "stream",
          "name": "stderr",
          "text": []
        },
        {
          "output_type": "stream",
          "name": "stdout",
          "text": [
            "[007] Train:0.8962 | Val:1.1069 | mIoU:0.420 Dice:0.580 Acc:0.588 F1:0.580\n",
            "  ✅ Best updated: mIoU=0.4197 → /kaggle/working/best_deeplabv3plus_50epochs.pth\n"
          ]
        },
        {
          "output_type": "stream",
          "name": "stderr",
          "text": []
        },
        {
          "output_type": "stream",
          "name": "stdout",
          "text": [
            "[008] Train:0.8844 | Val:1.3576 | mIoU:0.283 Dice:0.416 Acc:0.482 F1:0.416\n"
          ]
        },
        {
          "output_type": "stream",
          "name": "stderr",
          "text": []
        },
        {
          "output_type": "stream",
          "name": "stdout",
          "text": [
            "[009] Train:0.8644 | Val:1.6770 | mIoU:0.344 Dice:0.498 Acc:0.498 F1:0.498\n"
          ]
        },
        {
          "output_type": "stream",
          "name": "stderr",
          "text": []
        },
        {
          "output_type": "stream",
          "name": "stdout",
          "text": [
            "[010] Train:0.8280 | Val:1.2768 | mIoU:0.397 Dice:0.557 Acc:0.553 F1:0.557\n"
          ]
        },
        {
          "output_type": "stream",
          "name": "stderr",
          "text": []
        },
        {
          "output_type": "stream",
          "name": "stdout",
          "text": [
            "[011] Train:0.7966 | Val:1.7586 | mIoU:0.372 Dice:0.523 Acc:0.511 F1:0.523\n"
          ]
        },
        {
          "output_type": "stream",
          "name": "stderr",
          "text": []
        },
        {
          "output_type": "stream",
          "name": "stdout",
          "text": [
            "[012] Train:0.8013 | Val:1.3595 | mIoU:0.399 Dice:0.561 Acc:0.561 F1:0.561\n"
          ]
        },
        {
          "output_type": "stream",
          "name": "stderr",
          "text": []
        },
        {
          "output_type": "stream",
          "name": "stdout",
          "text": [
            "[013] Train:0.7746 | Val:1.2352 | mIoU:0.406 Dice:0.568 Acc:0.562 F1:0.568\n"
          ]
        },
        {
          "output_type": "stream",
          "name": "stderr",
          "text": []
        },
        {
          "output_type": "stream",
          "name": "stdout",
          "text": [
            "[014] Train:0.7630 | Val:1.2368 | mIoU:0.401 Dice:0.553 Acc:0.575 F1:0.553\n"
          ]
        },
        {
          "output_type": "stream",
          "name": "stderr",
          "text": []
        },
        {
          "output_type": "stream",
          "name": "stdout",
          "text": [
            "[015] Train:0.7443 | Val:1.3734 | mIoU:0.393 Dice:0.553 Acc:0.543 F1:0.553\n"
          ]
        },
        {
          "output_type": "stream",
          "name": "stderr",
          "text": []
        },
        {
          "output_type": "stream",
          "name": "stdout",
          "text": [
            "[016] Train:0.7356 | Val:1.5718 | mIoU:0.342 Dice:0.502 Acc:0.530 F1:0.502\n"
          ]
        },
        {
          "output_type": "stream",
          "name": "stderr",
          "text": []
        },
        {
          "output_type": "stream",
          "name": "stdout",
          "text": [
            "[017] Train:0.7068 | Val:1.3710 | mIoU:0.400 Dice:0.563 Acc:0.556 F1:0.563\n",
            "⏹️ Early stopping @ 17. Best mIoU=0.4197 (epoch 7)\n",
            "✅ Eğitim tamam. Best epoch: 7 mIoU: 0.4197\n",
            "Saved: /kaggle/working/best_deeplabv3plus_50epochs.pth \n",
            "Logs: /kaggle/working/deeplabv3plus_training_history.csv \n",
            "Plots: /kaggle/working/deeplabv3plus_training_results.png\n"
          ]
        }
      ]
    },
    {
      "cell_type": "code",
      "source": [
        "from tqdm import tqdm\n",
        "import csv\n",
        "\n",
        "def evaluate(model, loader, device):\n",
        "    model.eval()\n",
        "    cm_total = torch.zeros(NUM_CLASSES, NUM_CLASSES, dtype=torch.long, device=device)\n",
        "\n",
        "    with torch.no_grad():\n",
        "        for xb, yb, _ in tqdm(loader, desc=\"Validation\"):\n",
        "            xb, yb = xb.to(device), yb.to(device)\n",
        "            logits = model(xb)\n",
        "            preds = logits.argmax(1)\n",
        "            cm_total += confusion_matrix(preds, yb, C=NUM_CLASSES, ignore_index=IGNORE_INDEX)\n",
        "\n",
        "    return metrics_from_cm(cm_total)\n",
        "\n",
        "mets = evaluate(model, val_loader, device)\n",
        "\n",
        "print(f\" Overall Accuracy: {mets['accuracy']:.4f}\")\n",
        "print(f\" Mean IoU: {mets['mean_iou']:.4f}\")\n",
        "print(f\" Mean Dice: {mets['mean_dice']:.4f}\")\n",
        "print(f\" Mean Precision: {mets['mean_precision']:.4f}\")\n",
        "print(f\" Mean Recall: {mets['mean_recall']:.4f}\")\n",
        "print(f\" Mean F1-Score: {mets['mean_f1']:.4f}\")\n",
        "\n",
        "for i, name in enumerate(CLASS_NAMES):\n",
        "    print(f\"{name:>11} {mets['per_class_iou'][i]:.3f} {mets['per_class_dice'][i]:.3f} \"\n",
        "          f\"{mets['per_class_precision'][i]:.3f} {mets['per_class_recall'][i]:.3f} \"\n",
        "          f\"{mets['per_class_f1'][i]:.3f}\")\n",
        "\n",
        "CSV_OVERALL = wpath(\"deeplabv3plus_metrics_overall.csv\")\n",
        "CSV_PERCLS  = wpath(\"deeplabv3plus_metrics_per_class.csv\")\n",
        "\n",
        "with open(CSV_OVERALL, \"w\", newline=\"\") as f:\n",
        "    w = csv.writer(f); w.writerow([\"metric\",\"value\"])\n",
        "    for k in [\"mean_iou\",\"mean_dice\",\"accuracy\",\"mean_precision\",\"mean_recall\",\"mean_f1\"]:\n",
        "        w.writerow([k, f\"{mets[k]:.6f}\"])\n",
        "\n",
        "with open(CSV_PERCLS, \"w\", newline=\"\") as f:\n",
        "    w = csv.writer(f); w.writerow([\"class_id\",\"class_name\",\"IoU\",\"Dice\",\"Precision\",\"Recall\",\"F1\"])\n",
        "    for i, name in enumerate(CLASS_NAMES):\n",
        "        w.writerow([\n",
        "            i, name,\n",
        "            f\"{mets['per_class_iou'][i]:.6f}\",\n",
        "            f\"{mets['per_class_dice'][i]:.6f}\",\n",
        "            f\"{mets['per_class_precision'][i]:.6f}\",\n",
        "            f\"{mets['per_class_recall'][i]:.6f}\",\n",
        "            f\"{mets['per_class_f1'][i]:.6f}\"\n",
        "        ])\n",
        "\n",
        "print(\"\\n CSV dosyaları kaydedildi:\", CSV_OVERALL, \"ve\", CSV_PERCLS)\n"
      ],
      "metadata": {
        "colab": {
          "base_uri": "https://localhost:8080/"
        },
        "id": "coeBvc1ylcQR",
        "outputId": "45398743-299e-4eee-c84c-2e80f90aa03b"
      },
      "execution_count": null,
      "outputs": [
        {
          "output_type": "stream",
          "name": "stderr",
          "text": [
            "Validation: 100%|██████████| 440/440 [00:09<00:00, 46.13it/s]"
          ]
        },
        {
          "output_type": "stream",
          "name": "stdout",
          "text": [
            "\n",
            "📊 DEEPLABV3+ PERFORMANS ÖZETİ\n",
            "==================================================\n",
            "🎯 Overall Accuracy: 6.1122\n",
            "🎯 Mean IoU: 0.4002\n",
            "🎯 Mean Dice: 0.5634\n",
            "🎯 Mean Precision: 0.5984\n",
            "🎯 Mean Recall: 0.5851\n",
            "🎯 Mean F1-Score: 0.5634\n",
            "\n",
            "📋 SINIF BAZINDA METRİKLER:\n",
            "      Class   IoU  Dice Precision Recall    F1\n",
            " Background 0.354 0.523 0.524 0.523 0.523\n",
            "   Building 0.490 0.657 0.606 0.719 0.657\n",
            "       Road 0.503 0.669 0.717 0.627 0.669\n",
            "      Water 0.553 0.712 0.807 0.637 0.712\n",
            "     Barren 0.262 0.415 0.515 0.348 0.415\n",
            "     Forest 0.356 0.525 0.370 0.907 0.525\n",
            "Agriculture 0.283 0.442 0.651 0.334 0.442\n",
            "\n",
            "✅ CSV dosyaları kaydedildi: /kaggle/working/deeplabv3plus_metrics_overall.csv ve /kaggle/working/deeplabv3plus_metrics_per_class.csv\n"
          ]
        },
        {
          "output_type": "stream",
          "name": "stderr",
          "text": [
            "\n"
          ]
        }
      ]
    },
    {
      "cell_type": "code",
      "source": [
        "import os, glob, re, csv, time\n",
        "import numpy as np\n",
        "import torch\n",
        "from tqdm import tqdm\n",
        "import segmentation_models_pytorch as smp\n",
        "from PIL import Image\n",
        "import matplotlib.pyplot as plt\n",
        "\n",
        "def find_deeplab_ckpt():\n",
        "    candidates = []\n",
        "    for base in [wpath(\"\"), \"/kaggle/working\", \".\"]:\n",
        "        try:\n",
        "            for p in glob.glob(os.path.join(base, \"*.pth\")):\n",
        "                name = os.path.basename(p).lower()\n",
        "                if \"deeplab\" in name or \"v3\" in name:\n",
        "                    candidates.append(p)\n",
        "        except Exception:\n",
        "            pass\n",
        "    if not candidates:\n",
        "        raise FileNotFoundError(\"DeepLabV3+ checkpoint bulunamadı.\")\n",
        "    candidates.sort(key=lambda p: os.path.getmtime(p), reverse=True)\n",
        "    return candidates[0]\n",
        "\n",
        "CKPT_PATH = wpath(\"best_deeplabv3plus_50epochs.pth\")\n",
        "if not os.path.isfile(CKPT_PATH):\n",
        "    CKPT_PATH = find_deeplab_ckpt()\n",
        "print(\" Kullanılacak checkpoint:\", CKPT_PATH)\n",
        "\n",
        "def load_ckpt_safe(path):\n",
        "    try:\n",
        "        from torch.serialization import add_safe_globals\n",
        "        import numpy as np\n",
        "        add_safe_globals([np.core.multiarray._reconstruct])\n",
        "        ckpt = torch.load(path, map_location=\"cpu\", weights_only=True)\n",
        "        if isinstance(ckpt, dict) and (\"model_state_dict\" in ckpt or \"state_dict\" in ckpt):\n",
        "            return ckpt.get(\"model_state_dict\", ckpt.get(\"state_dict\")), ckpt\n",
        "        if isinstance(ckpt, dict):\n",
        "            return ckpt, {\"_raw\": \"state_dict_only\"}\n",
        "    except Exception as e:\n",
        "        print(f\"[info] Safe load (weights_only=True) olmadı: {e}\")\n",
        "    ckpt = torch.load(path, map_location=\"cpu\", weights_only=False)\n",
        "    if isinstance(ckpt, dict) and (\"model_state_dict\" in ckpt or \"state_dict\" in ckpt):\n",
        "        return ckpt.get(\"model_state_dict\", ckpt.get(\"state_dict\")), ckpt\n",
        "    return ckpt, {\"_raw\": \"state_dict_only\"}\n",
        "\n",
        "state_dict, meta = load_ckpt_safe(CKPT_PATH)\n",
        "\n",
        "model_eval = smp.DeepLabV3Plus(\n",
        "    encoder_name=\"resnet50\",\n",
        "    encoder_weights=None,\n",
        "    classes=NUM_CLASSES,\n",
        "    activation=None\n",
        ").to(device).eval()\n",
        "model_eval.load_state_dict(state_dict)\n",
        "\n",
        "COLOR_MAP = {\n",
        "    0: (255, 255, 255),  # Background\n",
        "    1: (255,   0,   0),  # Building\n",
        "    2: (255, 255,   0),  # Road\n",
        "    3: (  0,   0, 255),  # Water\n",
        "    4: (159, 129, 183),  # Barren\n",
        "    5: (  0, 255,   0),  # Forest\n",
        "    6: (255, 195, 128)   # Agricultural\n",
        "}\n",
        "PALETTE = np.array([COLOR_MAP[i] for i in range(0, 7)], dtype=np.uint8)\n",
        "\n",
        "def colorize(mask_hw: np.ndarray) -> np.ndarray:\n",
        "    rgb = np.zeros((mask_hw.shape[0], mask_hw.shape[1], 3), dtype=np.uint8)\n",
        "    valid = (mask_hw >= 0) & (mask_hw < len(PALETTE))\n",
        "    rgb[valid] = PALETTE[mask_hw[valid]]\n",
        "    return rgb\n",
        "\n",
        "SAVE_VAL  = wpath(\"deeplab_preds_val\");  os.makedirs(SAVE_VAL,  exist_ok=True)\n",
        "\n",
        "TILE = IMG_SIZE\n",
        "VAL_IMG_DIR = SPLITS[\"val\"][\"img\"]\n",
        "PRED_DIR    = SAVE_VAL\n",
        "\n",
        "rx = re.compile(r\"^(?P<base>.+)_r(?P<r>\\d+)_c(?P<c>\\d+)\\.png$\")\n",
        "\n",
        "def draw_grid(img, tile=TILE, lw=1):\n",
        "    out = img.copy()\n",
        "    for y in range(tile, img.shape[0], tile): out[y-lw:y+lw, :] = 255\n",
        "    for x in range(tile, img.shape[1], tile): out[:, x-lw:x+lw] = 255\n",
        "    return out\n",
        "\n",
        "def find_base_ids(img_dir):\n",
        "    files = sorted(glob.glob(os.path.join(img_dir, \"*.png\")))\n",
        "    bases = {}\n",
        "    for fp in files:\n",
        "        m = rx.match(os.path.basename(fp))\n",
        "        if not m: continue\n",
        "        b = m.group(\"base\"); r = int(m.group(\"r\")); c = int(m.group(\"c\"))\n",
        "        R, C, cnt = bases.get(b, (0,0,0))\n",
        "        bases[b] = (max(R, r+1), max(C, c+1), cnt+1)\n",
        "    return [b for b,_ in sorted(bases.items(), key=lambda kv: -kv[1][2])]\n",
        "\n",
        "def reconstruct_full(img_dir, base):\n",
        "    pats = sorted(glob.glob(os.path.join(img_dir, f\"{base}_r*_c*.png\")))\n",
        "    assert pats, f\"Patch yok: {base}\"\n",
        "    rs, cs = [], []\n",
        "    for p in pats:\n",
        "        m = rx.match(os.path.basename(p)); rs.append(int(m.group(\"r\"))); cs.append(int(m.group(\"c\")))\n",
        "    R, C = max(rs)+1, max(cs)+1\n",
        "    H, W = R*TILE, C*TILE\n",
        "    full_img = np.zeros((H, W, 3), dtype=np.uint8)\n",
        "    for p in pats:\n",
        "        m = rx.match(os.path.basename(p)); r, c = int(m.group(\"r\")), int(m.group(\"c\"))\n",
        "        img = np.array(Image.open(p).convert(\"RGB\"))\n",
        "        full_img[r*TILE:(r+1)*TILE, c*TILE:(c+1)*TILE] = img\n",
        "    return full_img\n",
        "\n",
        "BASE = \"3515\"\n",
        "base_ids = find_base_ids(VAL_IMG_DIR)\n",
        "if BASE not in base_ids and len(base_ids)>0:\n",
        "    BASE = base_ids[0]\n",
        "print(\"Seçilen base:\", BASE)\n",
        "\n",
        "full_img      = reconstruct_full(VAL_IMG_DIR, BASE)\n",
        "full_img_grid = draw_grid(full_img, tile=TILE, lw=1)\n",
        "\n",
        "\n",
        "pred_patch_files = sorted(glob.glob(os.path.join(PRED_DIR, f\"{BASE}_r*_c*.png\")))\n",
        "rs, cs = [], []\n",
        "for p in pred_patch_files:\n",
        "    m = rx.match(os.path.basename(p)); rs.append(int(m.group(\"r\"))); cs.append(int(m.group(\"c\")))\n",
        "R, C = max(rs)+1, max(cs)+1\n",
        "H, W = R*TILE, C*TILE\n",
        "full_pred_rgb = np.zeros((H, W, 3), dtype=np.uint8)\n",
        "for p in pred_patch_files:\n",
        "    m = rx.match(os.path.basename(p)); r, c = int(m.group(\"r\")), int(m.group(\"c\"))\n",
        "    rgb = np.array(Image.open(p).convert(\"RGB\"))\n",
        "    full_pred_rgb[r*TILE:(r+1)*TILE, c*TILE:(c+1)*TILE] = rgb\n",
        "\n",
        "plt.figure(figsize=(16,5))\n",
        "plt.subplot(1,3,1); plt.imshow(full_img);      plt.title(f\"Image (base={BASE})\"); plt.axis('off')\n",
        "plt.subplot(1,3,2); plt.imshow(full_img_grid); plt.title(\"Patch Grid\");           plt.axis('off')\n",
        "plt.subplot(1,3,3); plt.imshow(full_pred_rgb); plt.title(\"DeepLabV3+ Prediction\"); plt.axis('off')\n",
        "plt.tight_layout()\n",
        "OUT_FULL = wpath(f\"vis_full_grid_pred_{BASE}_deeplab.png\")\n",
        "\n",
        "plt.savefig(OUT_FULL, dpi=150); plt.close()\n",
        "print(\"Kaydedildi:\", OUT_FULL)\n"
      ],
      "metadata": {
        "colab": {
          "base_uri": "https://localhost:8080/"
        },
        "id": "-IRLZhBGzNji",
        "outputId": "09c6d7a6-ae51-4ccb-e062-4dd480a21308"
      },
      "execution_count": null,
      "outputs": [
        {
          "output_type": "stream",
          "name": "stdout",
          "text": [
            "✅ Kullanılacak checkpoint: /kaggle/working/best_deeplabv3plus_50epochs.pth\n",
            "[info] Safe load (weights_only=True) olmadı: Weights only load failed. This file can still be loaded, to do so you have two options, \u001b[1mdo those steps only if you trust the source of the checkpoint\u001b[0m. \n",
            "\t(1) In PyTorch 2.6, we changed the default value of the `weights_only` argument in `torch.load` from `False` to `True`. Re-running `torch.load` with `weights_only` set to `False` will likely succeed, but it can result in arbitrary code execution. Do it only if you got the file from a trusted source.\n",
            "\t(2) Alternatively, to load with `weights_only=True` please check the recommended steps in the following error message.\n",
            "\tWeightsUnpickler error: Unsupported global: GLOBAL numpy.ndarray was not an allowed global by default. Please use `torch.serialization.add_safe_globals([numpy.ndarray])` or the `torch.serialization.safe_globals([numpy.ndarray])` context manager to allowlist this global if you trust this class/function.\n",
            "\n",
            "Check the documentation of torch.load to learn more about types accepted by default with weights_only https://pytorch.org/docs/stable/generated/torch.load.html.\n",
            "🧩 Seçilen base: 3515\n",
            "✅ Kaydedildi: /kaggle/working/vis_full_grid_pred_3515_deeplab_noGT.png\n"
          ]
        }
      ]
    },
    {
      "cell_type": "code",
      "source": [
        "# FCN\n",
        "import os, time, csv, glob, re\n",
        "import numpy as np\n",
        "import torch\n",
        "import torch.nn.functional as F\n",
        "from torch.optim import AdamW\n",
        "from torch.cuda.amp import autocast, GradScaler\n",
        "from torch.optim.lr_scheduler import OneCycleLR\n",
        "from tqdm import tqdm\n",
        "import matplotlib.pyplot as plt\n",
        "from PIL import Image\n",
        "\n",
        "if 'wpath' not in globals():\n",
        "    def wpath(name): return os.path.join(\"/kaggle/working\", name)\n",
        "\n",
        "if 'CLASS_WEIGHTS' not in globals() or CLASS_WEIGHTS is None:\n",
        "    CLASS_WEIGHTS = torch.ones(NUM_CLASSES, dtype=torch.float32, device=device)\n",
        "\n",
        "def dice_loss_mc(logits, target, ignore_index=255, eps=1e-6):\n",
        "    C = logits.shape[1]\n",
        "    valid = (target != ignore_index)\n",
        "    if valid.sum() == 0:\n",
        "        return torch.tensor(0., device=logits.device)\n",
        "\n",
        "    t = target.clone(); t[~valid] = 0\n",
        "    pred = F.softmax(logits, dim=1)\n",
        "    pred = pred.permute(0,2,3,1).reshape(-1, C)\n",
        "    tgt1h = F.one_hot(t.reshape(-1), C).float().to(logits.device)\n",
        "    tgt1h[~valid.reshape(-1)] = 0\n",
        "\n",
        "    num = (pred * tgt1h).sum(0) * 2\n",
        "    den = pred.sum(0) + tgt1h.sum(0) + eps\n",
        "    dice = 1 - (num / den).mean()\n",
        "    return dice\n",
        "\n",
        "# loss (CE + Dice)\n",
        "\n",
        "def combined_loss(logits, target, ce_w=0.5, dice_w=0.5):\n",
        "    ce = F.cross_entropy(logits, target, weight=CLASS_WEIGHTS, ignore_index=IGNORE_INDEX)\n",
        "    dice = dice_loss_mc(logits, target, ignore_index=IGNORE_INDEX)\n",
        "    return ce_w*ce + dice_w*dice\n",
        "\n",
        "from torchvision.models.segmentation import fcn_resnet50\n",
        "model = fcn_resnet50(num_classes=NUM_CLASSES).to(device)\n",
        "scaler = GradScaler()\n"
      ],
      "metadata": {
        "colab": {
          "base_uri": "https://localhost:8080/"
        },
        "id": "syVLyh_tzq2R",
        "outputId": "62df0a53-d9ad-4fad-e6ad-812342a0159b"
      },
      "execution_count": null,
      "outputs": [
        {
          "output_type": "stream",
          "name": "stdout",
          "text": [
            "Downloading: \"https://download.pytorch.org/models/resnet50-0676ba61.pth\" to /root/.cache/torch/hub/checkpoints/resnet50-0676ba61.pth\n"
          ]
        },
        {
          "output_type": "stream",
          "name": "stderr",
          "text": [
            "100%|██████████| 97.8M/97.8M [00:00<00:00, 182MB/s]\n",
            "/tmp/ipython-input-1642511436.py:58: FutureWarning: `torch.cuda.amp.GradScaler(args...)` is deprecated. Please use `torch.amp.GradScaler('cuda', args...)` instead.\n",
            "  scaler = GradScaler()\n"
          ]
        }
      ]
    },
    {
      "cell_type": "code",
      "source": [
        "# FCN Train\n",
        "import csv, torch\n",
        "from tqdm import tqdm\n",
        "import matplotlib.pyplot as plt\n",
        "import torch.nn.functional as F\n",
        "\n",
        "BEST_CKPT   = wpath(\"best_fcn_resnet50_50epochs.pth\")\n",
        "CSV_HISTORY = wpath(\"fcn_training_history.csv\")\n",
        "PLOT_PNG    = wpath(\"fcn_training_results.png\")\n",
        "\n",
        "@torch.no_grad()\n",
        "def confusion_matrix(pred, target, C, ignore_index=IGNORE_INDEX):\n",
        "    valid = (target != ignore_index)\n",
        "    t = target[valid].view(-1)\n",
        "    p = pred[valid].view(-1)\n",
        "    return torch.bincount(t*C + p, minlength=C*C).reshape(C, C).to(torch.long)\n",
        "\n",
        "def metrics_from_cm(cm):\n",
        "    cm = cm.float()\n",
        "    TP = torch.diag(cm); FP = cm.sum(0) - TP; FN = cm.sum(1) - TP\n",
        "    iou_c  = TP / (TP + FP + FN).clamp(min=1)\n",
        "    dice_c = (2*TP) / (2*TP + FP + FN).clamp(min=1)\n",
        "    acc    = TP.sum() / cm.sum().clamp(min=1)\n",
        "    prec_c = TP / (TP + FP).clamp(min=1)\n",
        "    rec_c  = TP / (TP + FN).clamp(min=1)\n",
        "    f1_c   = 2*prec_c*rec_c / (prec_c + rec_c).clamp(min=1e-12)\n",
        "    return {\n",
        "        \"mean_iou\": iou_c.mean().item(),\n",
        "        \"mean_dice\": dice_c.mean().item(),\n",
        "        \"accuracy\": acc.item(),\n",
        "        \"mean_precision\": prec_c.mean().item(),\n",
        "        \"mean_recall\": rec_c.mean().item(),\n",
        "        \"mean_f1\": f1_c.mean().item()\n",
        "    }\n",
        "\n",
        "#Optimizasyon & LR planı\n",
        "from torch.optim import AdamW\n",
        "from torch.optim.lr_scheduler import OneCycleLR\n",
        "optimizer = AdamW(model.parameters(), lr=8e-4, weight_decay=1e-4)\n",
        "\n",
        "EPOCHS   = 50\n",
        "PATIENCE = 10\n",
        "scheduler = OneCycleLR(\n",
        "    optimizer,\n",
        "    max_lr=8e-4,\n",
        "    steps_per_epoch=len(train_loader),\n",
        "    epochs=EPOCHS,\n",
        "    pct_start=0.1, div_factor=10.0, final_div_factor=100.0\n",
        ")\n",
        "\n",
        "with open(CSV_HISTORY, \"w\", newline=\"\") as f:\n",
        "    csv.writer(f).writerow([\"epoch\",\"train_loss\",\"val_loss\",\"mIoU\",\"Acc\",\"Dice\",\"F1\"])\n",
        "\n",
        "history = {\"epoch\":[], \"train_loss\":[], \"val_loss\":[], \"mIoU\":[], \"Acc\":[], \"Dice\":[], \"F1\":[]}\n",
        "best = {\"epoch\":0, \"mIoU\":-1.0, \"metrics\":None}\n",
        "\n",
        "epochs_no_improve = 0\n",
        "for epoch in range(1, EPOCHS+1):\n",
        "    # TRAIN\n",
        "    model.train(); total_loss = 0.0\n",
        "    for xb, yb, _ in tqdm(train_loader, desc=f\"Train {epoch}/{EPOCHS}\", leave=False):\n",
        "        xb, yb = xb.to(device, non_blocking=True), yb.to(device, non_blocking=True)\n",
        "        optimizer.zero_grad(set_to_none=True)\n",
        "        with autocast():\n",
        "            out = model(xb)\n",
        "            logits = out[\"out\"] if isinstance(out, dict) else out\n",
        "            loss = combined_loss(logits, yb)\n",
        "        scaler.scale(loss).backward()\n",
        "        scaler.step(optimizer); scaler.update()\n",
        "        scheduler.step()\n",
        "        total_loss += loss.item() * xb.size(0)\n",
        "    train_loss = total_loss / max(1, len(train_loader.dataset))\n",
        "\n",
        "    #VAL\n",
        "    model.eval(); cm_total = torch.zeros(NUM_CLASSES, NUM_CLASSES, dtype=torch.long, device=device); val_loss=0.0\n",
        "    with torch.no_grad():\n",
        "        for xb, yb, _ in tqdm(val_loader, desc=\"Val\", leave=False):\n",
        "            xb, yb = xb.to(device), yb.to(device)\n",
        "            out = model(xb)\n",
        "            logits = out[\"out\"] if isinstance(out, dict) else out\n",
        "            val_loss += combined_loss(logits, yb).item() * xb.size(0)\n",
        "            preds = logits.argmax(1)\n",
        "            cm_total += confusion_matrix(preds, yb, C=NUM_CLASSES, ignore_index=IGNORE_INDEX)\n",
        "    val_loss /= max(1, len(val_loader.dataset))\n",
        "    mets = metrics_from_cm(cm_total)\n",
        "\n",
        "    # LOG & CSV\n",
        "    history[\"epoch\"].append(epoch)\n",
        "    for k,v in [(\"train_loss\",train_loss),(\"val_loss\",val_loss),\n",
        "                (\"mIoU\",mets[\"mean_iou\"]),(\"Acc\",mets[\"accuracy\"]),\n",
        "                (\"Dice\",mets[\"mean_dice\"]),(\"F1\",mets[\"mean_f1\"])]:\n",
        "        history[k].append(v)\n",
        "    with open(CSV_HISTORY, \"a\", newline=\"\") as f:\n",
        "        csv.writer(f).writerow([epoch, f\"{train_loss:.6f}\", f\"{val_loss:.6f}\",\n",
        "                                f\"{mets['mean_iou']:.6f}\", f\"{mets['accuracy']:.6f}\",\n",
        "                                f\"{mets['mean_dice']:.6f}\", f\"{mets['mean_f1']:.6f}\"])\n",
        "\n",
        "    print(f\"[{epoch:03d}] Train:{train_loss:.4f} | Val:{val_loss:.4f} | \"\n",
        "          f\"mIoU:{mets['mean_iou']:.3f} Dice:{mets['mean_dice']:.3f} Acc:{mets['accuracy']:.3f} F1:{mets['mean_f1']:.3f}\")\n",
        "\n",
        "    # BEST SAVE (mIoU) + Early Stop\n",
        "    if mets[\"mean_iou\"] > best[\"mIoU\"]:\n",
        "        best.update({\"epoch\":epoch, \"mIoU\":mets[\"mean_iou\"], \"metrics\":mets})\n",
        "        torch.save({\n",
        "            \"model_state_dict\": model.state_dict(),\n",
        "            \"epoch\": epoch,\n",
        "            \"metrics\": mets,\n",
        "            \"history\": history,\n",
        "            \"config\": {\"num_classes\": NUM_CLASSES, \"ignore_index\": IGNORE_INDEX}\n",
        "        }, BEST_CKPT)\n",
        "        print(f\" Best updated: mIoU={mets['mean_iou']:.4f} → {BEST_CKPT}\")\n",
        "        epochs_no_improve = 0\n",
        "    else:\n",
        "        epochs_no_improve += 1\n",
        "        if epochs_no_improve >= PATIENCE:\n",
        "            print(f\" Early stopping @ {epoch}. Best mIoU={best['mIoU']:.4f} (epoch {best['epoch']})\")\n",
        "            break\n",
        "\n",
        "plt.figure(figsize=(10,4))\n",
        "plt.plot(history[\"epoch\"], history[\"train_loss\"], label=\"Train Loss\")\n",
        "plt.plot(history[\"epoch\"], history[\"val_loss\"],   label=\"Val Loss\")\n",
        "plt.xlabel(\"Epoch\"); plt.ylabel(\"Loss\"); plt.legend(); plt.title(\"FCN Training Loss\")\n",
        "plt.tight_layout(); plt.savefig(PLOT_PNG); plt.close()\n",
        "\n",
        "print(\"FCN eğitim tamam. Best epoch:\", best[\"epoch\"], \"mIoU:\", f\"{best['mIoU']:.4f}\")\n",
        "print(\"Saved:\", BEST_CKPT, \"\\nLogs:\", CSV_HISTORY, \"\\nPlots:\", PLOT_PNG)\n"
      ],
      "metadata": {
        "colab": {
          "base_uri": "https://localhost:8080/"
        },
        "id": "PZ8y2ot-0ube",
        "outputId": "df8741e1-89f4-40fb-80fe-37f59d39dd08"
      },
      "execution_count": null,
      "outputs": [
        {
          "output_type": "stream",
          "name": "stdout",
          "text": [
            "🚀 FCN eğitim başlıyor...\n"
          ]
        },
        {
          "output_type": "stream",
          "name": "stderr",
          "text": [
            "\rTrain 1/50:   0%|          | 0/960 [00:00<?, ?it/s]/tmp/ipython-input-1934636952.py:68: FutureWarning: `torch.cuda.amp.autocast(args...)` is deprecated. Please use `torch.amp.autocast('cuda', args...)` instead.\n",
            "  with autocast():\n"
          ]
        },
        {
          "output_type": "stream",
          "name": "stdout",
          "text": [
            "[001] Train:0.8640 | Val:1.2644 | mIoU:0.382 Dice:0.530 Acc:0.544 F1:0.530\n",
            "  ✅ Best updated: mIoU=0.3816 → /kaggle/working/best_fcn_resnet50_50epochs.pth\n"
          ]
        },
        {
          "output_type": "stream",
          "name": "stderr",
          "text": []
        },
        {
          "output_type": "stream",
          "name": "stdout",
          "text": [
            "[002] Train:0.8231 | Val:1.2896 | mIoU:0.367 Dice:0.524 Acc:0.519 F1:0.524\n"
          ]
        },
        {
          "output_type": "stream",
          "name": "stderr",
          "text": []
        },
        {
          "output_type": "stream",
          "name": "stdout",
          "text": [
            "[003] Train:0.8312 | Val:1.2503 | mIoU:0.380 Dice:0.537 Acc:0.537 F1:0.537\n"
          ]
        },
        {
          "output_type": "stream",
          "name": "stderr",
          "text": []
        },
        {
          "output_type": "stream",
          "name": "stdout",
          "text": [
            "[004] Train:0.8357 | Val:1.0689 | mIoU:0.416 Dice:0.577 Acc:0.576 F1:0.577\n",
            "  ✅ Best updated: mIoU=0.4156 → /kaggle/working/best_fcn_resnet50_50epochs.pth\n"
          ]
        },
        {
          "output_type": "stream",
          "name": "stderr",
          "text": []
        },
        {
          "output_type": "stream",
          "name": "stdout",
          "text": [
            "[005] Train:0.8233 | Val:1.1600 | mIoU:0.380 Dice:0.533 Acc:0.549 F1:0.533\n"
          ]
        },
        {
          "output_type": "stream",
          "name": "stderr",
          "text": []
        },
        {
          "output_type": "stream",
          "name": "stdout",
          "text": [
            "[006] Train:0.8084 | Val:1.0862 | mIoU:0.425 Dice:0.587 Acc:0.577 F1:0.587\n",
            "  ✅ Best updated: mIoU=0.4255 → /kaggle/working/best_fcn_resnet50_50epochs.pth\n"
          ]
        },
        {
          "output_type": "stream",
          "name": "stderr",
          "text": []
        },
        {
          "output_type": "stream",
          "name": "stdout",
          "text": [
            "[007] Train:0.7695 | Val:1.1943 | mIoU:0.369 Dice:0.536 Acc:0.532 F1:0.536\n"
          ]
        },
        {
          "output_type": "stream",
          "name": "stderr",
          "text": []
        },
        {
          "output_type": "stream",
          "name": "stdout",
          "text": [
            "[008] Train:0.7487 | Val:1.1031 | mIoU:0.426 Dice:0.589 Acc:0.577 F1:0.589\n",
            "  ✅ Best updated: mIoU=0.4263 → /kaggle/working/best_fcn_resnet50_50epochs.pth\n"
          ]
        },
        {
          "output_type": "stream",
          "name": "stderr",
          "text": []
        },
        {
          "output_type": "stream",
          "name": "stdout",
          "text": [
            "[009] Train:0.7344 | Val:1.6861 | mIoU:0.321 Dice:0.480 Acc:0.493 F1:0.480\n"
          ]
        },
        {
          "output_type": "stream",
          "name": "stderr",
          "text": []
        },
        {
          "output_type": "stream",
          "name": "stdout",
          "text": [
            "[010] Train:0.7132 | Val:1.4050 | mIoU:0.359 Dice:0.510 Acc:0.522 F1:0.510\n"
          ]
        },
        {
          "output_type": "stream",
          "name": "stderr",
          "text": []
        },
        {
          "output_type": "stream",
          "name": "stdout",
          "text": [
            "[011] Train:0.7012 | Val:1.0295 | mIoU:0.407 Dice:0.570 Acc:0.564 F1:0.570\n"
          ]
        },
        {
          "output_type": "stream",
          "name": "stderr",
          "text": []
        },
        {
          "output_type": "stream",
          "name": "stdout",
          "text": [
            "[012] Train:0.6926 | Val:1.4812 | mIoU:0.400 Dice:0.545 Acc:0.545 F1:0.545\n"
          ]
        },
        {
          "output_type": "stream",
          "name": "stderr",
          "text": []
        },
        {
          "output_type": "stream",
          "name": "stdout",
          "text": [
            "[013] Train:0.6812 | Val:1.6019 | mIoU:0.342 Dice:0.500 Acc:0.489 F1:0.500\n"
          ]
        },
        {
          "output_type": "stream",
          "name": "stderr",
          "text": []
        },
        {
          "output_type": "stream",
          "name": "stdout",
          "text": [
            "[014] Train:0.6565 | Val:1.4206 | mIoU:0.431 Dice:0.585 Acc:0.572 F1:0.585\n",
            "  ✅ Best updated: mIoU=0.4308 → /kaggle/working/best_fcn_resnet50_50epochs.pth\n"
          ]
        },
        {
          "output_type": "stream",
          "name": "stderr",
          "text": []
        },
        {
          "output_type": "stream",
          "name": "stdout",
          "text": [
            "[015] Train:0.6491 | Val:1.2721 | mIoU:0.425 Dice:0.585 Acc:0.581 F1:0.585\n"
          ]
        },
        {
          "output_type": "stream",
          "name": "stderr",
          "text": []
        },
        {
          "output_type": "stream",
          "name": "stdout",
          "text": [
            "[016] Train:0.6353 | Val:1.3294 | mIoU:0.423 Dice:0.579 Acc:0.571 F1:0.579\n"
          ]
        },
        {
          "output_type": "stream",
          "name": "stderr",
          "text": []
        },
        {
          "output_type": "stream",
          "name": "stdout",
          "text": [
            "[017] Train:0.6253 | Val:1.3582 | mIoU:0.366 Dice:0.529 Acc:0.531 F1:0.529\n"
          ]
        },
        {
          "output_type": "stream",
          "name": "stderr",
          "text": []
        },
        {
          "output_type": "stream",
          "name": "stdout",
          "text": [
            "[018] Train:0.6137 | Val:1.5234 | mIoU:0.394 Dice:0.547 Acc:0.526 F1:0.547\n"
          ]
        },
        {
          "output_type": "stream",
          "name": "stderr",
          "text": []
        },
        {
          "output_type": "stream",
          "name": "stdout",
          "text": [
            "[019] Train:0.6021 | Val:1.2139 | mIoU:0.408 Dice:0.573 Acc:0.563 F1:0.573\n"
          ]
        },
        {
          "output_type": "stream",
          "name": "stderr",
          "text": []
        },
        {
          "output_type": "stream",
          "name": "stdout",
          "text": [
            "[020] Train:0.5847 | Val:1.2839 | mIoU:0.397 Dice:0.560 Acc:0.569 F1:0.560\n"
          ]
        },
        {
          "output_type": "stream",
          "name": "stderr",
          "text": []
        },
        {
          "output_type": "stream",
          "name": "stdout",
          "text": [
            "[021] Train:0.5736 | Val:1.7687 | mIoU:0.384 Dice:0.525 Acc:0.529 F1:0.525\n"
          ]
        },
        {
          "output_type": "stream",
          "name": "stderr",
          "text": []
        },
        {
          "output_type": "stream",
          "name": "stdout",
          "text": [
            "[022] Train:0.5696 | Val:1.2515 | mIoU:0.402 Dice:0.567 Acc:0.559 F1:0.567\n"
          ]
        },
        {
          "output_type": "stream",
          "name": "stderr",
          "text": []
        },
        {
          "output_type": "stream",
          "name": "stdout",
          "text": [
            "[023] Train:0.5604 | Val:1.5936 | mIoU:0.395 Dice:0.546 Acc:0.552 F1:0.546\n"
          ]
        },
        {
          "output_type": "stream",
          "name": "stderr",
          "text": []
        },
        {
          "output_type": "stream",
          "name": "stdout",
          "text": [
            "[024] Train:0.5404 | Val:1.7052 | mIoU:0.380 Dice:0.529 Acc:0.530 F1:0.529\n",
            "⏹️ Early stopping @ 24. Best mIoU=0.4308 (epoch 14)\n",
            "✅ FCN eğitim tamam. Best epoch: 14 mIoU: 0.4308\n",
            "Saved: /kaggle/working/best_fcn_resnet50_50epochs.pth \n",
            "Logs: /kaggle/working/fcn_training_history.csv \n",
            "Plots: /kaggle/working/fcn_training_results.png\n"
          ]
        }
      ]
    },
    {
      "cell_type": "code",
      "source": [
        "import os, glob, re, csv, time\n",
        "import numpy as np\n",
        "import torch\n",
        "from tqdm import tqdm\n",
        "from PIL import Image\n",
        "import matplotlib.pyplot as plt\n",
        "\n",
        "def wpath(p):\n",
        "    base = \"/kaggle/working\"\n",
        "    return p if p.startswith(base) else os.path.join(base, p)\n",
        "\n",
        "COLOR_MAP = {\n",
        "    0:(255,255,255), 1:(255,0,0), 2:(255,255,0),\n",
        "    3:(0,0,255), 4:(159,129,183), 5:(0,255,0), 6:(255,195,128)\n",
        "}\n",
        "PALETTE = np.array([COLOR_MAP[i] for i in range(0,7)], dtype=np.uint8)\n",
        "\n",
        "def colorize(mask_hw: np.ndarray) -> np.ndarray:\n",
        "    rgb = np.zeros((mask_hw.shape[0], mask_hw.shape[1], 3), dtype=np.uint8)\n",
        "    valid = (mask_hw >= 0) & (mask_hw < len(PALETTE))\n",
        "    rgb[valid] = PALETTE[mask_hw[valid]]\n",
        "    return rgb\n",
        "\n",
        "@torch.no_grad()\n",
        "def confusion_matrix(pred, target, C, ignore_index=None):\n",
        "    valid = (target != ignore_index) if ignore_index is not None else torch.ones_like(target, dtype=torch.bool)\n",
        "    t = target[valid].view(-1)\n",
        "    p = pred[valid].view(-1)\n",
        "    return torch.bincount(t*C + p, minlength=C*C).reshape(C, C).to(torch.long)\n",
        "\n",
        "def metrics_from_cm(cm: torch.Tensor):\n",
        "    eps = 1e-6\n",
        "    cm = cm.float()\n",
        "    TP = torch.diag(cm)\n",
        "    FP = cm.sum(0) - TP\n",
        "    FN = cm.sum(1) - TP\n",
        "    TN = cm.sum() - (TP + FP + FN)\n",
        "\n",
        "    iou_c  = TP / (TP + FP + FN + eps)\n",
        "    dice_c = 2*TP / (2*TP + FP + FN + eps)\n",
        "    prec_c = TP / (TP + FP + eps)\n",
        "    rec_c  = TP / (TP + FN + eps)\n",
        "    f1_c   = 2*prec_c*rec_c / (prec_c + rec_c + eps)\n",
        "    acc    = (TP + TN) / (TP + FP + FN + TN + eps)\n",
        "\n",
        "    return {\n",
        "        \"accuracy\": acc.mean().item(),\n",
        "        \"global_accuracy\": (TP.sum()/cm.sum()).item(),\n",
        "        \"mean_iou\": iou_c.mean().item(),\n",
        "        \"mean_dice\": dice_c.mean().item(),\n",
        "        \"mean_precision\": prec_c.mean().item(),\n",
        "        \"mean_recall\": rec_c.mean().item(),\n",
        "        \"mean_f1\": f1_c.mean().item(),\n",
        "        \"per_class_iou\": iou_c.cpu().numpy(),\n",
        "        \"per_class_dice\": dice_c.cpu().numpy(),\n",
        "        \"per_class_precision\": prec_c.cpu().numpy(),\n",
        "        \"per_class_recall\": rec_c.cpu().numpy(),\n",
        "        \"per_class_f1\": f1_c.cpu().numpy(),\n",
        "        \"per_class_acc\": acc.cpu().numpy(),\n",
        "    }\n",
        "\n",
        "import torchvision.models.segmentation as segm\n",
        "\n",
        "CKPT_PATH = wpath(\"best_fcn_resnet50_50epochs.pth\")\n",
        "assert os.path.isfile(CKPT_PATH), f\"Checkpoint yok: {CKPT_PATH}\"\n",
        "\n",
        "fcn_model = segm.fcn_resnet50(weights=None, num_classes=NUM_CLASSES).to(device).eval()\n",
        "\n",
        "def load_ckpt_safe(path):\n",
        "    try:\n",
        "        from torch.serialization import add_safe_globals\n",
        "        import numpy as np\n",
        "        add_safe_globals([np.core.multiarray._reconstruct])\n",
        "        state = torch.load(path, map_location=\"cpu\", weights_only=True)\n",
        "        if isinstance(state, dict) and \"state_dict\" in state:\n",
        "            return state[\"state_dict\"]\n",
        "        return state\n",
        "    except Exception as e:\n",
        "        print(f\"[info] weights_only=True olmadı: {e}\")\n",
        "        return torch.load(path, map_location=\"cpu\", weights_only=False)\n",
        "\n",
        "state_dict = load_ckpt_safe(CKPT_PATH)\n",
        "\n",
        "if isinstance(state_dict, dict) and \"model_state_dict\" in state_dict:\n",
        "    state_dict = state_dict[\"model_state_dict\"]\n",
        "fcn_model.load_state_dict(state_dict)\n",
        "\n",
        "cm_total = torch.zeros(NUM_CLASSES, NUM_CLASSES, dtype=torch.long, device=device)\n",
        "with torch.no_grad():\n",
        "    for xb, yb, _ in tqdm(val_loader, desc=\"FCN Validation\"):\n",
        "        xb, yb = xb.to(device), yb.to(device)\n",
        "        out = fcn_model(xb)\n",
        "        logits = out[\"out\"] if isinstance(out, dict) else out\n",
        "        preds = logits.argmax(1)\n",
        "        cm_total += confusion_matrix(preds, yb, C=NUM_CLASSES, ignore_index=IGNORE_INDEX)\n",
        "\n",
        "mets = metrics_from_cm(cm_total)\n",
        "\n",
        "\n",
        "print(f\" Overall Pixel Accuracy: {mets['global_accuracy']:.4f}\")\n",
        "print(f\"Mean (per-class) Accuracy: {mets['accuracy']:.4f}\")\n",
        "print(f\"Mean IoU: {mets['mean_iou']:.4f}\")\n",
        "print(f\" Mean Dice: {mets['mean_dice']:.4f}\")\n",
        "print(f\" Mean Precision: {mets['mean_precision']:.4f}\")\n",
        "print(f\"Mean Recall: {mets['mean_recall']:.4f}\")\n",
        "print(f\" Mean F1-Score: {mets['mean_f1']:.4f}\")\n",
        "\n",
        "CLASS_NAMES = ['Background','Building','Road','Water','Barren','Forest','Agriculture']\n",
        "\n",
        "for i, name in enumerate(CLASS_NAMES):\n",
        "    print(f\"{name:>11} \"\n",
        "          f\"{mets['per_class_iou'][i]:.3f} {mets['per_class_dice'][i]:.3f} \"\n",
        "          f\"{mets['per_class_acc'][i]:.3f} {mets['per_class_precision'][i]:.3f} \"\n",
        "          f\"{mets['per_class_recall'][i]:.3f} {mets['per_class_f1'][i]:.3f}\")\n",
        "\n",
        "CSV_OVERALL = wpath(\"fcn_metrics_overall.csv\")\n",
        "CSV_PERCLS  = wpath(\"fcn_metrics_per_class.csv\")\n",
        "with open(CSV_OVERALL, \"w\", newline=\"\") as f:\n",
        "    w = csv.writer(f); w.writerow([\"metric\",\"value\"])\n",
        "    for k in [\"global_accuracy\",\"accuracy\",\"mean_iou\",\"mean_dice\",\"mean_precision\",\"mean_recall\",\"mean_f1\"]:\n",
        "        w.writerow([k, f\"{mets[k]:.6f}\"])\n",
        "with open(CSV_PERCLS, \"w\", newline=\"\") as f:\n",
        "    w = csv.writer(f); w.writerow([\"class_id\",\"class_name\",\"IoU\",\"Dice\",\"Acc\",\"Precision\",\"Recall\",\"F1\"])\n",
        "    for i, name in enumerate(CLASS_NAMES):\n",
        "        w.writerow([\n",
        "            i, name,\n",
        "            f\"{mets['per_class_iou'][i]:.6f}\",\n",
        "            f\"{mets['per_class_dice'][i]:.6f}\",\n",
        "            f\"{mets['per_class_acc'][i]:.6f}\",\n",
        "            f\"{mets['per_class_precision'][i]:.6f}\",\n",
        "            f\"{mets['per_class_recall'][i]:.6f}\",\n",
        "            f\"{mets['per_class_f1'][i]:.6f}\",\n",
        "        ])\n",
        "print(\"CSV'ler kaydedildi:\", CSV_OVERALL, \"ve\", CSV_PERCLS)\n",
        "\n",
        "@torch.no_grad()\n",
        "def predict_and_save(dl, save_dir, desc):\n",
        "    os.makedirs(save_dir, exist_ok=True)\n",
        "    for xb, _, names in tqdm(dl, desc=desc):\n",
        "        xb = xb.to(device, non_blocking=True)\n",
        "        out = fcn_model(xb)\n",
        "        logits = out[\"out\"] if isinstance(out, dict) else out\n",
        "        preds  = logits.argmax(1).cpu().numpy().astype(np.uint8)\n",
        "        for p, name in zip(preds, names):\n",
        "            Image.fromarray(colorize(p)).save(os.path.join(save_dir, name))\n",
        "\n",
        "SAVE_VAL  = wpath(\"fcn_preds_val\")\n",
        "SAVE_TEST = wpath(\"fcn_preds_test\")\n",
        "predict_and_save(val_loader,  SAVE_VAL,  \"VAL predict→PNG (FCN, B palette)\")\n",
        "\n",
        "print(\"VAL preds:\", SAVE_VAL)\n",
        "\n",
        "TILE = IMG_SIZE\n",
        "VAL_IMG_DIR = SPLITS[\"val\"][\"img\"]\n",
        "PRED_DIR    = SAVE_VAL\n",
        "\n",
        "rx = re.compile(r\"^(?P<base>.+)_r(?P<r>\\d+)_c(?P<c>\\d+)\\.png$\")\n",
        "\n",
        "def draw_grid(img, tile=TILE, lw=1):\n",
        "    out = img.copy()\n",
        "    for y in range(tile, img.shape[0], tile): out[y-lw:y+lw, :] = 255\n",
        "    for x in range(tile, img.shape[1], tile): out[:, x-lw:x+lw] = 255\n",
        "    return out\n",
        "\n",
        "def find_base_ids(img_dir):\n",
        "    files = sorted(glob.glob(os.path.join(img_dir, \"*.png\")))\n",
        "    bases = {}\n",
        "    for fp in files:\n",
        "        m = rx.match(os.path.basename(fp))\n",
        "        if not m: continue\n",
        "        b = m.group(\"base\"); r = int(m.group(\"r\")); c = int(m.group(\"c\"))\n",
        "        R, C, cnt = bases.get(b, (0,0,0))\n",
        "        bases[b] = (max(R, r+1), max(C, c+1), cnt+1)\n",
        "    return [b for b,_ in sorted(bases.items(), key=lambda kv: -kv[1][2])]\n",
        "\n",
        "def reconstruct_full(img_dir, base):\n",
        "    pats = sorted(glob.glob(os.path.join(img_dir, f\"{base}_r*_c*.png\")))\n",
        "    assert pats, f\"Patch yok: {base}\"\n",
        "    rs, cs = [], []\n",
        "    for p in pats:\n",
        "        m = rx.match(os.path.basename(p)); rs.append(int(m.group(\"r\"))); cs.append(int(m.group(\"c\")))\n",
        "    R, C = max(rs)+1, max(cs)+1\n",
        "    H, W = R*TILE, C*TILE\n",
        "    full_img = np.zeros((H, W, 3), dtype=np.uint8)\n",
        "    for p in pats:\n",
        "        m = rx.match(os.path.basename(p)); r, c = int(m.group(\"r\")), int(m.group(\"c\"))\n",
        "        img = np.array(Image.open(p).convert(\"RGB\"))\n",
        "        full_img[r*TILE:(r+1)*TILE, c*TILE:(c+1)*TILE] = img\n",
        "    return full_img\n",
        "\n",
        "BASE = \"3515\"\n",
        "base_ids = find_base_ids(VAL_IMG_DIR)\n",
        "if BASE not in base_ids and len(base_ids)>0:\n",
        "    BASE = base_ids[0]\n",
        "\n",
        "full_img      = reconstruct_full(VAL_IMG_DIR, BASE)\n",
        "full_img_grid = draw_grid(full_img, tile=TILE, lw=1)\n",
        "\n",
        "pred_patch_files = sorted(glob.glob(os.path.join(PRED_DIR, f\"{BASE}_r*_c*.png\")))\n",
        "rs, cs = [], []\n",
        "for p in pred_patch_files:\n",
        "    m = rx.match(os.path.basename(p)); rs.append(int(m.group(\"r\"))); cs.append(int(m.group(\"c\")))\n",
        "R, C = max(rs)+1, max(cs)+1\n",
        "H, W = R*TILE, C*TILE\n",
        "full_pred_rgb = np.zeros((H, W, 3), dtype=np.uint8)\n",
        "for p in pred_patch_files:\n",
        "    m = rx.match(os.path.basename(p)); r, c = int(m.group(\"r\")), int(m.group(\"c\"))\n",
        "    rgb = np.array(Image.open(p).convert(\"RGB\"))\n",
        "    full_pred_rgb[r*TILE:(r+1)*TILE, c*TILE:(c+1)*TILE] = rgb\n",
        "\n",
        "plt.figure(figsize=(16,5))\n",
        "plt.subplot(1,3,1); plt.imshow(full_img);      plt.title(f\"Image (base={BASE})\"); plt.axis('off')\n",
        "plt.subplot(1,3,2); plt.imshow(full_img_grid); plt.title(\"Patch Grid\");           plt.axis('off')\n",
        "plt.subplot(1,3,3); plt.imshow(full_pred_rgb); plt.title(\"FCN Prediction\");       plt.axis('off')\n",
        "plt.tight_layout()\n",
        "OUT_FULL = wpath(f\"vis_full_grid_pred_{BASE}_fcn.png\")\n",
        "plt.savefig(OUT_FULL, dpi=150); plt.close()\n",
        "print(\" Kaydedildi:\", OUT_FULL)\n",
        "\n",
        "import pandas as pd\n",
        "HIST_CSV = wpath(\"fcn_training_history.csv\")\n",
        "if os.path.isfile(HIST_CSV):\n",
        "    dfh = pd.read_csv(HIST_CSV)\n",
        "    plt.figure(figsize=(8,5))\n",
        "    if \"train_loss\" in dfh.columns and \"val_loss\" in dfh.columns:\n",
        "        plt.plot(dfh[\"train_loss\"], label=\"Train Loss\")\n",
        "        plt.plot(dfh[\"val_loss\"],   label=\"Val Loss\")\n",
        "    else:\n",
        "\n",
        "        tr_col = \"train_loss\" if \"train_loss\" in dfh.columns else (\"train\" if \"train\" in dfh.columns else dfh.columns[0])\n",
        "        va_col = \"val_loss\"   if \"val_loss\"   in dfh.columns else (\"val\"   if \"val\"   in dfh.columns else dfh.columns[1])\n",
        "        plt.plot(dfh[tr_col], label=\"Train Loss\")\n",
        "        plt.plot(dfh[va_col], label=\"Val Loss\")\n",
        "    plt.xlabel(\"Epoch\"); plt.ylabel(\"Loss\"); plt.title(\"FCN Training & Validation Loss\")\n",
        "    plt.legend(); plt.grid(True)\n",
        "    OUT_LOSS = wpath(\"fcn_loss_curve.png\")\n",
        "    plt.savefig(OUT_LOSS, dpi=150); plt.close()\n",
        "    print(f\"Loss grafiği kaydedildi: {OUT_LOSS}\")\n",
        "else:\n",
        "    print(f\" Loss history CSV bulunamadı: {HIST_CSV}\")\n"
      ],
      "metadata": {
        "colab": {
          "base_uri": "https://localhost:8080/"
        },
        "id": "IoxtbvCD-j3b",
        "outputId": "a380292c-3789-456a-db33-375053cf3633"
      },
      "execution_count": null,
      "outputs": [
        {
          "output_type": "stream",
          "name": "stderr",
          "text": [
            "FCN Validation: 100%|██████████| 440/440 [00:16<00:00, 26.83it/s]\n"
          ]
        },
        {
          "output_type": "stream",
          "name": "stdout",
          "text": [
            "\n",
            "📊 FCN (ResNet50) PERFORMANS ÖZETİ\n",
            "==================================================\n",
            "🎯 Overall Pixel Accuracy: 0.5725\n",
            "🎯 Mean (per-class) Accuracy: 0.8779\n",
            "🎯 Mean IoU: 0.4308\n",
            "🎯 Mean Dice: 0.5849\n",
            "🎯 Mean Precision: 0.6416\n",
            "🎯 Mean Recall: 0.6208\n",
            "🎯 Mean F1-Score: 0.5849\n",
            "\n",
            "📋 SINIF BAZINDA METRİKLER:\n",
            "      Class   IoU  Dice    Acc Precision Recall    F1\n",
            " Background 0.396 0.568 0.754 0.534 0.606 0.568\n",
            "   Building 0.550 0.710 0.921 0.688 0.734 0.710\n",
            "       Road 0.538 0.700 0.958 0.767 0.644 0.700\n",
            "      Water 0.688 0.815 0.952 0.820 0.811 0.815\n",
            "     Barren 0.328 0.494 0.961 0.536 0.458 0.494\n",
            "     Forest 0.331 0.498 0.814 0.344 0.901 0.498\n",
            "Agriculture 0.183 0.310 0.785 0.803 0.192 0.310\n",
            "✅ CSV'ler kaydedildi: /kaggle/working/fcn_metrics_overall.csv ve /kaggle/working/fcn_metrics_per_class.csv\n"
          ]
        },
        {
          "output_type": "stream",
          "name": "stderr",
          "text": [
            "VAL predict→PNG (FCN, B palette): 100%|██████████| 440/440 [00:35<00:00, 12.48it/s]\n"
          ]
        },
        {
          "output_type": "stream",
          "name": "stdout",
          "text": [
            "📁 VAL preds: /kaggle/working/fcn_preds_val\n",
            "🧩 Seçilen base: 3515\n",
            "✅ Kaydedildi: /kaggle/working/vis_full_grid_pred_3515_fcn.png\n",
            "📈 Loss grafiği kaydedildi: /kaggle/working/fcn_loss_curve.png\n"
          ]
        }
      ]
    },
    {
      "cell_type": "markdown",
      "source": [
        "For Presentation\n"
      ],
      "metadata": {
        "id": "P5uUiKXzCwyr"
      }
    },
    {
      "cell_type": "code",
      "source": [
        "import os\n",
        "import pandas as pd\n",
        "import numpy as np\n",
        "import matplotlib.pyplot as plt\n",
        "\n",
        "def _ensure_out(outdir):\n",
        "    os.makedirs(outdir, exist_ok=True)\n",
        "\n",
        "def _read_overall(path_overall):\n",
        "    df = pd.read_csv(path_overall)\n",
        "    if {\"metric\", \"value\"}.issubset(df.columns):\n",
        "        return {row[\"metric\"]: float(row[\"value\"]) for _, row in df.iterrows()}\n",
        "    return {k: float(v) for k, v in df.iloc[0].to_dict().items() if pd.api.types.is_number(v)}\n",
        "\n",
        "def _read_perclass(path_perclass):\n",
        "    df = pd.read_csv(path_perclass)\n",
        "    rename_map = {}\n",
        "    for c in df.columns:\n",
        "        if c.lower() == \"iou\": rename_map[c] = \"IoU\"\n",
        "        if c.lower() == \"dice\": rename_map[c] = \"Dice\"\n",
        "        if c.lower() == \"precision\": rename_map[c] = \"Precision\"\n",
        "        if c.lower() == \"recall\": rename_map[c] = \"Recall\"\n",
        "        if c.lower() in (\"f1\",\"f1_score\",\"f1-score\"): rename_map[c] = \"F1\"\n",
        "        if c.lower() in (\"accuracy\",\"acc\"): rename_map[c] = \"Accuracy\"\n",
        "        if c.lower() in (\"class\",\"classname\",\"class_name\"): rename_map[c] = \"class_name\"\n",
        "    df = df.rename(columns=rename_map)\n",
        "    if \"class_name\" not in df.columns:\n",
        "        df[\"class_name\"] = [f\"Class {i}\" for i in range(len(df))]\n",
        "    for col in [\"IoU\",\"Dice\",\"Precision\",\"Recall\",\"F1\",\"Accuracy\"]:\n",
        "        if col in df.columns:\n",
        "            df[col] = pd.to_numeric(df[col], errors=\"coerce\")\n",
        "    return df\n",
        "\n",
        "def _plot_loss(history_csv, out_png, title=\"Training & Validation Loss\"):\n",
        "    if not os.path.isfile(history_csv):\n",
        "        return\n",
        "    df = pd.read_csv(history_csv)\n",
        "    tr_col = None\n",
        "    for k in [\"train_loss\",\"train\",\"Train\",\"training_loss\"]:\n",
        "        if k in df.columns: tr_col = k; break\n",
        "    va_col = None\n",
        "    for k in [\"val_loss\",\"val\",\"Val\",\"validation_loss\"]:\n",
        "        if k in df.columns: va_col = k; break\n",
        "    if tr_col is None or va_col is None:\n",
        "        return\n",
        "    plt.figure(figsize=(8,5))\n",
        "    plt.plot(df[tr_col].values, label=\"Train Loss\")\n",
        "    plt.plot(df[va_col].values, label=\"Val Loss\")\n",
        "    plt.xlabel(\"Epoch\"); plt.ylabel(\"Loss\"); plt.title(title)\n",
        "    plt.grid(True, alpha=0.3); plt.legend()\n",
        "    plt.tight_layout(); plt.savefig(out_png, dpi=150); plt.close()\n",
        "\n",
        "def _bar(values, labels, ylabel, title, out_png, ylim01=True):\n",
        "    plt.figure(figsize=(9,5))\n",
        "    x = np.arange(len(labels))\n",
        "    vals = np.array(values, dtype=float)\n",
        "    plt.bar(x, vals)\n",
        "    plt.xticks(x, labels, rotation=20)\n",
        "    plt.ylabel(ylabel)\n",
        "    plt.title(title)\n",
        "    if ylim01:\n",
        "        plt.ylim(0, 1.0)\n",
        "    for i,v in enumerate(vals):\n",
        "        plt.text(i, v + 0.01*(1 if ylim01 else max(vals, default=1)), f\"{v:.3f}\", ha=\"center\", va=\"bottom\", fontsize=9)\n",
        "    plt.tight_layout(); plt.savefig(out_png, dpi=150); plt.close()\n",
        "\n",
        "def generate_model_figures(\n",
        "    model_name: str,\n",
        "    overall_csv: str,\n",
        "    perclass_csv: str,\n",
        "    history_csv: str = None,\n",
        "    outdir: str = \"./figures\"\n",
        "):\n",
        "    outdir = os.path.join(outdir, model_name.replace(\" \", \"_\").lower())\n",
        "    _ensure_out(outdir)\n",
        "\n",
        "    overall = _read_overall(overall_csv)\n",
        "    percls  = _read_perclass(perclass_csv)\n",
        "\n",
        "    if history_csv:\n",
        "        _plot_loss(history_csv, os.path.join(outdir, \"loss_curve.png\"), f\"{model_name} — Training & Validation Loss\")\n",
        "\n",
        "    keys = []\n",
        "    labels_map = {\n",
        "        \"global_accuracy\":\"Overall Acc\",\n",
        "        \"accuracy\":\"Mean Acc\",\n",
        "        \"mean_iou\":\"Mean IoU\",\n",
        "        \"mean_dice\":\"Mean Dice\",\n",
        "        \"mean_precision\":\"Mean Precision\",\n",
        "        \"mean_recall\":\"Mean Recall\",\n",
        "        \"mean_f1\":\"Mean F1\",\n",
        "    }\n",
        "    for k in [\"global_accuracy\",\"accuracy\",\"mean_iou\",\"mean_dice\",\"mean_precision\",\"mean_recall\",\"mean_f1\"]:\n",
        "        if k in overall: keys.append(k)\n",
        "\n",
        "    if keys:\n",
        "        _bar(\n",
        "            [overall[k] for k in keys],\n",
        "            [labels_map.get(k,k) for k in keys],\n",
        "            ylabel=\"Score\",\n",
        "            title=f\"{model_name} — Overall Metrics\",\n",
        "            out_png=os.path.join(outdir, \"overall_bars.png\"),\n",
        "            ylim01=True\n",
        "        )\n",
        "        pd.DataFrame([overall]).to_csv(os.path.join(outdir, \"overall_table.csv\"), index=False)\n",
        "\n",
        "    class_labels = percls[\"class_name\"].tolist()\n",
        "\n",
        "    metric_list = [(\"IoU\",\"perclass_iou.png\"),\n",
        "                   (\"Dice\",\"perclass_dice.png\"),\n",
        "                   (\"Precision\",\"perclass_precision.png\"),\n",
        "                   (\"Recall\",\"perclass_recall.png\"),\n",
        "                   (\"F1\",\"perclass_f1.png\")]\n",
        "\n",
        "    if \"Accuracy\" in percls.columns:\n",
        "        metric_list.append((\"Accuracy\",\"perclass_accuracy.png\"))\n",
        "\n",
        "    for met, filename in metric_list:\n",
        "        if met in percls.columns:\n",
        "            _bar(\n",
        "                percls[met].values,\n",
        "                class_labels,\n",
        "                ylabel=met,\n",
        "                title=f\"{model_name} — Per-class {met}\",\n",
        "                out_png=os.path.join(outdir, filename),\n",
        "                ylim01=True\n",
        "            )\n",
        "\n",
        "    print(f\"{model_name}: çıktılar -> {outdir}\")\n",
        "\n",
        "# 1) U-Net\n",
        "generate_model_figures(\n",
        "    model_name   =\"U-Net (ResNet50)\",\n",
        "    overall_csv  =\"/kaggle/working/unet_50epochs_metrics_overall.csv\",\n",
        "    perclass_csv =\"/kaggle/working/unet_50epochs_metrics_per_class.csv\",\n",
        "    history_csv  =\"/kaggle/working/unet_training_history.csv\",\n",
        "    outdir       =\"/kaggle/working/presentation_figs\"\n",
        ")\n",
        "\n",
        "# 2) DeepLabV3+\n",
        "generate_model_figures(\n",
        "    model_name   =\"DeepLabV3+ (ResNet50)\",\n",
        "    overall_csv  =\"/kaggle/working/deeplabv3plus_metrics_overall.csv\",\n",
        "    perclass_csv =\"/kaggle/working/deeplabv3plus_metrics_per_class.csv\",\n",
        "    history_csv  =\"/kaggle/working/deeplab_training_history.csv\",\n",
        "    outdir       =\"/kaggle/working/presentation_figs\"\n",
        ")\n",
        "\n",
        "# 3) FCN\n",
        "generate_model_figures(\n",
        "    model_name   =\"FCN (ResNet50)\",\n",
        "    overall_csv  =\"/kaggle/working/fcn_metrics_overall.csv\",\n",
        "    perclass_csv =\"/kaggle/working/fcn_metrics_per_class.csv\",\n",
        "    history_csv  =\"/kaggle/working/fcn_training_history.csv\",\n",
        "    outdir       =\"/kaggle/working/presentation_figs\"\n",
        ")\n"
      ],
      "metadata": {
        "colab": {
          "base_uri": "https://localhost:8080/"
        },
        "id": "QjSFvppFek2j",
        "outputId": "b3afd110-1492-4c66-e7c8-5dc0c2bc985a"
      },
      "execution_count": null,
      "outputs": [
        {
          "output_type": "stream",
          "name": "stdout",
          "text": [
            "✅ U-Net (ResNet50): çıktılar -> /kaggle/working/presentation_figs/u-net_(resnet50)\n"
          ]
        },
        {
          "output_type": "stream",
          "name": "stderr",
          "text": [
            "/tmp/ipython-input-1474834811.py:73: UserWarning: Tight layout not applied. The bottom and top margins cannot be made large enough to accommodate all Axes decorations.\n",
            "  plt.tight_layout(); plt.savefig(out_png, dpi=150); plt.close()\n"
          ]
        },
        {
          "output_type": "stream",
          "name": "stdout",
          "text": [
            "✅ DeepLabV3+ (ResNet50): çıktılar -> /kaggle/working/presentation_figs/deeplabv3+_(resnet50)\n"
          ]
        },
        {
          "output_type": "stream",
          "name": "stderr",
          "text": [
            "/tmp/ipython-input-1474834811.py:73: UserWarning: Tight layout not applied. The bottom and top margins cannot be made large enough to accommodate all Axes decorations.\n",
            "  plt.tight_layout(); plt.savefig(out_png, dpi=150); plt.close()\n"
          ]
        },
        {
          "output_type": "stream",
          "name": "stdout",
          "text": [
            "✅ FCN (ResNet50): çıktılar -> /kaggle/working/presentation_figs/fcn_(resnet50)\n"
          ]
        }
      ]
    },
    {
      "cell_type": "code",
      "source": [],
      "metadata": {
        "id": "VnxGynnxqpME"
      },
      "execution_count": null,
      "outputs": []
    }
  ],
  "metadata": {
    "accelerator": "GPU",
    "colab": {
      "gpuType": "L4",
      "machine_shape": "hm",
      "provenance": [],
      "authorship_tag": "ABX9TyOtGJZv5cLEuGJDhY/2oFTN",
      "include_colab_link": true
    },
    "kernelspec": {
      "display_name": "Python 3",
      "name": "python3"
    },
    "language_info": {
      "name": "python"
    }
  },
  "nbformat": 4,
  "nbformat_minor": 0
}